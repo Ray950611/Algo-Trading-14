{
 "cells": [
  {
   "cell_type": "markdown",
   "metadata": {},
   "source": [
    "# Data Preprocessing"
   ]
  },
  {
   "cell_type": "code",
   "execution_count": 1,
   "metadata": {},
   "outputs": [
    {
     "name": "stderr",
     "output_type": "stream",
     "text": [
      "C:\\Users\\DR\\AppData\\Local\\Programs\\Python\\Python36\\lib\\site-packages\\sklearn\\ensemble\\weight_boosting.py:29: DeprecationWarning: numpy.core.umath_tests is an internal NumPy module and should not be imported. It will be removed in a future NumPy release.\n",
      "  from numpy.core.umath_tests import inner1d\n"
     ]
    }
   ],
   "source": [
    "import pandas as pd\n",
    "import numpy as np\n",
    "from sklearn.ensemble import RandomForestClassifier\n",
    "from matplotlib import pyplot as plt\n",
    "import warnings\n",
    "warnings.filterwarnings('ignore')"
   ]
  },
  {
   "cell_type": "code",
   "execution_count": 2,
   "metadata": {},
   "outputs": [],
   "source": [
    "from os import listdir\n",
    "from os.path import isfile, join\n",
    "dates=listdir('C:/Users/DR/Desktop/FE/Spring 2019/Algo/data')"
   ]
  },
  {
   "cell_type": "code",
   "execution_count": 3,
   "metadata": {},
   "outputs": [],
   "source": [
    "stocks=listdir('C:/Users/DR/Desktop/FE/Spring 2019/Algo/data/'+dates[0])"
   ]
  },
  {
   "cell_type": "code",
   "execution_count": 4,
   "metadata": {},
   "outputs": [],
   "source": [
    "f=open('labels.txt','w')\n",
    "for name in stocks:\n",
    "    f.write(name[6:-4].upper()+'\\n')    \n",
    "f.close()"
   ]
  },
  {
   "cell_type": "markdown",
   "metadata": {},
   "source": [
    "Indicator Functions"
   ]
  },
  {
   "cell_type": "code",
   "execution_count": 6,
   "metadata": {},
   "outputs": [],
   "source": [
    "def EMA(C):\n",
    "    c = 1-1.0/5.0\n",
    "    EMA=[C[0]]\n",
    "    for i in range(1,len(C)):\n",
    "        close =C[i]  \n",
    "        ema = EMA[-1]*c+close*(1-c)\n",
    "        EMA.append(ema)\n",
    "    return np.array(EMA)"
   ]
  },
  {
   "cell_type": "code",
   "execution_count": 7,
   "metadata": {},
   "outputs": [],
   "source": [
    "def MACD(C):\n",
    "    a=1-2.0/11.0\n",
    "    b=1-2.0/31.0\n",
    "    ema_a = C[0]\n",
    "    ema_b = C[0]\n",
    "    EMA_a = [ema_a]\n",
    "    EMA_b= [ema_b]\n",
    "    for i in range(1,len(C)):\n",
    "        close = C[i]  \n",
    "        ema_a = EMA_a[-1]*a+close*(1-a)\n",
    "        ema_b = EMA_b[-1]*b+close*(1-b)\n",
    "        EMA_a.append(ema_a)\n",
    "        EMA_b.append(ema_b)\n",
    "    DIFF = np.array(EMA_a)-np.array(EMA_b)\n",
    "    DEA=[DIFF[0]]\n",
    "    c = 1-1.0/5.0\n",
    "    for i in range(1,len(DIFF)):\n",
    "        close =DIFF[i]  \n",
    "        dea = DEA[-1]*c+close*(1-c)\n",
    "        DEA.append(dea)\n",
    "    MACD = 2*(DIFF-DEA)\n",
    "    return np.array(MACD)"
   ]
  },
  {
   "cell_type": "code",
   "execution_count": 8,
   "metadata": {},
   "outputs": [],
   "source": [
    "def RSI(C):\n",
    "    hist=14\n",
    "    RSI=[0]\n",
    "    Ret=np.diff(C)/C[:-1]\n",
    "    for i in range(1,len(C)):\n",
    "        \n",
    "        p=Ret[max(0,i-hist+1):i+1]\n",
    "        pu=p[p>0]\n",
    "        pd=p[p<0]\n",
    "\n",
    "        if len(pd)==0:\n",
    "            RSI.append(100)\n",
    "        elif len(pu)==0:\n",
    "            RSI.append(0)\n",
    "        else:\n",
    "            su=abs(np.mean(pu))\n",
    "            sd=abs(np.mean(pd))\n",
    "            rs=(su)/(sd)\n",
    "\n",
    "            rsi=100-100.0/(1+rs)\n",
    "\n",
    "            RSI.append(rsi)\n",
    "            #print rsi\n",
    "    RSI=np.array(RSI)\n",
    "    return RSI"
   ]
  },
  {
   "cell_type": "code",
   "execution_count": 9,
   "metadata": {},
   "outputs": [],
   "source": [
    "def SO(C,H,L):\n",
    "    SO=[]\n",
    "    hist=14\n",
    "    for i in range(len(C)):\n",
    "\n",
    "        c=C[i]\n",
    "        h=max(H[max(0,i-hist+1):i+1])\n",
    "        l=min(L[max(0,i-hist+1):i+1])\n",
    "        k=100*(c-l)/(h-l)\n",
    "        SO.append(k)\n",
    "    SO=np.array(SO)\n",
    "    return SO"
   ]
  },
  {
   "cell_type": "code",
   "execution_count": 10,
   "metadata": {},
   "outputs": [],
   "source": [
    "def OBV(C,V):\n",
    "    OBV=[V[0]]\n",
    "    for i in range(1,len(C)):\n",
    "        if C[i]>C[i-1]:\n",
    "            OBV.append(OBV[-1]+V[i])\n",
    "        elif C[i]<C[i-1]:\n",
    "            OBV.append(OBV[-1]-V[i])\n",
    "        else:\n",
    "            OBV.append(OBV[-1])\n",
    "    OBV=np.array(OBV)\n",
    "    return OBV"
   ]
  },
  {
   "cell_type": "code",
   "execution_count": 11,
   "metadata": {},
   "outputs": [],
   "source": [
    "def SMI(C,H,L):\n",
    "    cm=[]\n",
    "    hl=[]\n",
    "    hist=14\n",
    "    for i in range(len(C)):\n",
    "\n",
    "        c=C[i]\n",
    "        h=max(H[max(0,i-hist+1):i+1])\n",
    "        l=min(L[max(0,i-hist+1):i+1])\n",
    "        cm.append(c-(h+l)/2.0)\n",
    "        hl.append(h-l)\n",
    "    CM=EMA(EMA(cm))\n",
    "    HL=EMA(EMA(hl))\n",
    "    SMI=200*CM/HL\n",
    "    \n",
    "    return SMI"
   ]
  },
  {
   "cell_type": "code",
   "execution_count": null,
   "metadata": {},
   "outputs": [],
   "source": [
    "Dict={}\n",
    "for f in stocks:    \n",
    "    O=[]\n",
    "    C=[]\n",
    "    H=[]\n",
    "    L=[]\n",
    "    V=[]\n",
    "    Times=[]\n",
    "    for d in dates:\n",
    "        \n",
    "        try:\n",
    "            df=pd.read_csv('C:/Users/DR/Desktop/FE/Spring 2019/Algo/data/'+d+'/'+f,header=None)\n",
    "            O.append(np.array(df[2])[0])\n",
    "            C.append(np.array(df[5])[-1])\n",
    "            H.append(np.max(df[3]))\n",
    "            L.append(np.min(df[4]))\n",
    "            V.append(np.sum(df[6]))\n",
    "            Times.append(d[-8:])\n",
    "        except: \n",
    "            pass\n",
    "    Df=pd.DataFrame({'Date':Times,'Open':O,'Close':C,'High':H,'Low':L,'Volume':V})\n",
    "    Df['MACD']=MACD(C)\n",
    "    Df['RSI'] =RSI(C)\n",
    "    Df['SO']=SO(C,H,L)\n",
    "    Df['OBV']=OBV(C,V)\n",
    "    Df['EMA']=EMA(C)\n",
    "    Df['SMI']=SMI(C,H,L)\n",
    "    Dict[f]=Df"
   ]
  },
  {
   "cell_type": "code",
   "execution_count": 265,
   "metadata": {},
   "outputs": [],
   "source": [
    "Dict_={}\n",
    "for s in Dict.keys():\n",
    "    if len(np.array(Dict[s]))==63:\n",
    "        Dict_[s[6:-4]]=Dict[s]"
   ]
  },
  {
   "cell_type": "markdown",
   "metadata": {},
   "source": [
    "Saving files"
   ]
  },
  {
   "cell_type": "code",
   "execution_count": 269,
   "metadata": {},
   "outputs": [],
   "source": [
    "np.save('data.npy',Dict_)"
   ]
  },
  {
   "cell_type": "code",
   "execution_count": 401,
   "metadata": {},
   "outputs": [],
   "source": [
    "import pickle\n",
    "with open('data.pickle', 'wb') as f:\n",
    "    # Pickle the 'data' dictionary using the highest protocol available.\n",
    "    pickle.dump(Dict_, f)"
   ]
  },
  {
   "cell_type": "code",
   "execution_count": 5,
   "metadata": {},
   "outputs": [],
   "source": [
    "Dict_=np.load('data.npy').item()"
   ]
  },
  {
   "cell_type": "code",
   "execution_count": 6,
   "metadata": {},
   "outputs": [],
   "source": [
    "f=open('labels.txt','w')\n",
    "for name in Dict_.keys():\n",
    "    f.write(name.upper()+'\\n')    \n",
    "f.close()"
   ]
  },
  {
   "cell_type": "markdown",
   "metadata": {},
   "source": [
    "Visualization"
   ]
  },
  {
   "cell_type": "code",
   "execution_count": 14,
   "metadata": {},
   "outputs": [],
   "source": [
    "def plot(name,data,s):\n",
    "    plt.figure(figsize=(15,10))\n",
    "    C=np.array(data[name][s])\n",
    "    \n",
    "    plt.plot(C)\n",
    "    plt.title(name)\n"
   ]
  },
  {
   "cell_type": "code",
   "execution_count": 15,
   "metadata": {},
   "outputs": [
    {
     "data": {
      "image/png": "[encoded data removed]",
      "text/plain": [
       "<Figure size 1080x720 with 1 Axes>"
      ]
     },
     "metadata": {},
     "output_type": "display_data"
    }
   ],
   "source": [
    "plot('a',Dict_,'MACD')"
   ]
  },
  {
   "cell_type": "markdown",
   "metadata": {},
   "source": [
    "# Baseline Model"
   ]
  },
  {
   "cell_type": "markdown",
   "metadata": {},
   "source": [
    "Testing on monthly rebalance:"
   ]
  },
  {
   "cell_type": "code",
   "execution_count": 7,
   "metadata": {},
   "outputs": [
    {
     "data": {
      "text/plain": [
       "('20181101', '20181203', '20181231')"
      ]
     },
     "execution_count": 7,
     "metadata": {},
     "output_type": "execute_result"
    }
   ],
   "source": [
    "#Rebalance Times\n",
    "Dict_['a']['Date'][23],Dict_['a']['Date'][44],Dict_['a']['Date'][62]"
   ]
  },
  {
   "cell_type": "code",
   "execution_count": 17,
   "metadata": {},
   "outputs": [],
   "source": [
    "#Select stocks that have the highest historical returns\n",
    "pool_past={}\n",
    "macd_past={}\n",
    "pool_cur={}\n",
    "macd_cur={}\n",
    "pool_future={}\n",
    "for name in Dict_.keys():\n",
    "    #print(name)\n",
    "    cur=Dict_[name]\n",
    "    C=np.array(cur['Close'])\n",
    "    O=np.array(cur['Open'])\n",
    "    macd=np.array(cur['MACD'])\n",
    "    past=(C[22]-O[0])/O[0]\n",
    "    cur=(C[43]-O[23])/O[23]\n",
    "    future=(C[62]-O[44])/O[44]\n",
    "    pool_past[name]=past\n",
    "    macd_past[name]=macd[22]\n",
    "    pool_cur[name]=cur\n",
    "    macd_cur[name]=macd[43]\n",
    "    pool_future[name]=future"
   ]
  },
  {
   "cell_type": "code",
   "execution_count": 18,
   "metadata": {},
   "outputs": [],
   "source": [
    "s=30\n",
    "dd = sorted(pool_past.items(), key=lambda x: x[1],reverse=True)\n",
    "pool1=[pair[0] for pair in dd[s:2*s] if pair[1]>0 and macd_past[pair[0]]>0]\n",
    "performance=sum([pool_cur[n] for n in pool1])/float(s)\n",
    "benchmark=sum(pool_cur.values())/len(pool_cur.keys())"
   ]
  },
  {
   "cell_type": "code",
   "execution_count": 19,
   "metadata": {},
   "outputs": [
    {
     "data": {
      "text/plain": [
       "(0.016282695755074406, 0.040392785764703135)"
      ]
     },
     "execution_count": 19,
     "metadata": {},
     "output_type": "execute_result"
    }
   ],
   "source": [
    "benchmark,performance"
   ]
  },
  {
   "cell_type": "code",
   "execution_count": 20,
   "metadata": {},
   "outputs": [
    {
     "name": "stdout",
     "output_type": "stream",
     "text": [
      "['mcd', 'hsy', 'tup', 'sjm', 'hcp', 'xlnx', 'atge', 'uaa', 'exr', 'f', 'spg', 'iff', 'etr', 'aep', 'ko', 'mrk', 'dltr', 'hrb', 'duk', 'scg', 'mmc', 'xrx', 'cmg', 'ice']\n"
     ]
    }
   ],
   "source": [
    "print(pool1)"
   ]
  },
  {
   "cell_type": "code",
   "execution_count": 21,
   "metadata": {},
   "outputs": [],
   "source": [
    "#Phase 2\n",
    "dd = sorted(pool_cur.items(), key=lambda x: x[1],reverse=True)\n",
    "pool2=[pair[0] for pair in dd[s:2*s] if pair[1]>0 and macd_cur[pair[0]]>0]\n",
    "performance=sum([pool_future[n] for n in pool2])/float(s)\n",
    "benchmark=sum(pool_future.values())/len(pool_future.keys())"
   ]
  },
  {
   "cell_type": "code",
   "execution_count": 22,
   "metadata": {},
   "outputs": [
    {
     "name": "stdout",
     "output_type": "stream",
     "text": [
      "['ghc', 'swk', 'see', 'uhs', 'mxim', 'dal', 'ehc', 'mlm', 'a', 'sci', 'aap', 'cmi', 'adsk', 'pwr', 'mdp', 'gnw', 'luv', 'clx', 'cvs', 'lrcx', 'dhr', 'xyl', 'cat', 'kmb', 'gww', 'aiv', 'ben']\n"
     ]
    }
   ],
   "source": [
    "print(pool2)"
   ]
  },
  {
   "cell_type": "code",
   "execution_count": 23,
   "metadata": {},
   "outputs": [
    {
     "data": {
      "text/plain": [
       "(-0.12438698218471632, -0.09595958688856768)"
      ]
     },
     "execution_count": 23,
     "metadata": {},
     "output_type": "execute_result"
    }
   ],
   "source": [
    "benchmark,performance"
   ]
  },
  {
   "cell_type": "markdown",
   "metadata": {},
   "source": [
    "We see that by selecting conservatively the second top tier stocks (size 20 and historic return positive) in the total 601 stocks that performed best in the respective test months\n",
    "we usually get w pool that performs better than the baseline market average returns. For the month 11.01-11.31 we have a return of 0.0404 over 0.0163. For the month 12.03-12.31\n",
    "we have a return of -0.096 over -0.1244. When selecting stocks we also add in a criterion that MACD values at the rebalance point must be positive for\n",
    "us to add the stock into our buy long portfolio.\n"
   ]
  },
  {
   "cell_type": "markdown",
   "metadata": {},
   "source": [
    "### Testing on Semi-monthly rebalance "
   ]
  },
  {
   "cell_type": "code",
   "execution_count": 8,
   "metadata": {},
   "outputs": [],
   "source": [
    "#Rebalance Times\n",
    "testdates=[[Dict_['a']['Date'][11],Dict_['a']['Date'][22]]\n",
    "           ,[Dict_['a']['Date'][23],Dict_['a']['Date'][33]]\n",
    "           ,[Dict_['a']['Date'][34],Dict_['a']['Date'][43]]\n",
    "           ,[Dict_['a']['Date'][44],Dict_['a']['Date'][52]]\n",
    "           ,[Dict_['a']['Date'][53],Dict_['a']['Date'][62]]]"
   ]
  },
  {
   "cell_type": "code",
   "execution_count": 9,
   "metadata": {},
   "outputs": [],
   "source": [
    "pool_p1={}\n",
    "macd_p1={}\n",
    "pool_p2={}\n",
    "macd_p2={}\n",
    "pool_p3={}\n",
    "macd_p3={}\n",
    "pool_p4={}\n",
    "pool_p5={}\n",
    "pool_p6={}\n",
    "macd_p4={}\n",
    "macd_p5={}\n",
    "macd_p6={}\n",
    "for name in Dict_.keys():\n",
    "    #print(name)\n",
    "    cur=Dict_[name]\n",
    "    C=np.array(cur['Close'])\n",
    "    O=np.array(cur['Open'])\n",
    "    macd=np.array(cur['MACD'])\n",
    "    pool_p1[name]=(C[10]-O[0])/O[0]\n",
    "    macd_p1[name]=macd[10]\n",
    "    pool_p2[name]=(C[22]-O[10])/O[10]\n",
    "    macd_p2[name]=macd[22]\n",
    "    pool_p3[name]=(C[33]-O[23])/O[23]\n",
    "    macd_p3[name]=macd[33]\n",
    "    pool_p4[name]=(C[43]-O[34])/O[34]\n",
    "    macd_p4[name]=macd[43]\n",
    "    pool_p5[name]=(C[52]-O[44])/O[44]\n",
    "    macd_p5[name]=macd[52]\n",
    "    pool_p6[name]=(C[62]-O[53])/O[53]\n",
    "    "
   ]
  },
  {
   "cell_type": "code",
   "execution_count": 10,
   "metadata": {},
   "outputs": [
    {
     "name": "stdout",
     "output_type": "stream",
     "text": [
      "-0.01874447243820561 0.012470635421340893\n",
      "0.00958486895368256 -0.005095582885597492\n",
      "0.008820059157016264 0.008668956915780204\n",
      "-0.08420009378968411 -0.0790157009478927\n",
      "-0.04260201275399443 -0.03327840588916\n"
     ]
    }
   ],
   "source": [
    "s=30\n",
    "P=[pool_p1,pool_p2,pool_p3,pool_p4,pool_p5,pool_p6]\n",
    "M=[macd_p1,macd_p2,macd_p3,macd_p4,macd_p5,macd_p6]\n",
    "for i in range(5):\n",
    "    dd = sorted(P[i].items(), key=lambda x: x[1],reverse=True)\n",
    "    pool1=[pair[0] for pair in dd[s:2*s] if pair[1]>0 and M[i][pair[0]]>0]\n",
    "    performance=sum([P[i+1][n] for n in pool1])/float(s)\n",
    "    benchmark=sum(P[i+1].values())/len(P[i+1].keys())\n",
    "    print(benchmark,performance)"
   ]
  },
  {
   "cell_type": "markdown",
   "metadata": {},
   "source": [
    "# NN Model"
   ]
  },
  {
   "cell_type": "markdown",
   "metadata": {},
   "source": [
    "Monthly Rebalance"
   ]
  },
  {
   "cell_type": "code",
   "execution_count": 39,
   "metadata": {},
   "outputs": [],
   "source": [
    "data=[]\n",
    "data_out=[]\n",
    "phase_1={}\n",
    "X_one=[]\n",
    "for name in Dict_.keys():\n",
    "    cur=Dict_[name]\n",
    "    C=np.array(cur['Close'])\n",
    "    h=14\n",
    "    for i in range(h,len(C)-h):\n",
    "        vec=[]\n",
    "        for j in ['EMA','MACD','SMI','SO','RSI']:\n",
    "            vec+=list(np.array(cur[j])[i-h+1:i+1])\n",
    "        vec.append((C[i]-C[i-h])/C[i-h])\n",
    "        vec.append((C[i+h]-C[i])/C[i])\n",
    "        data.append(vec)\n",
    "        if i==43:\n",
    "            data_out.append(vec)\n",
    "        if i==22:\n",
    "            X_one.append(vec[:-1])\n",
    "            phase_1[name]=vec[-1]"
   ]
  },
  {
   "cell_type": "code",
   "execution_count": 13,
   "metadata": {},
   "outputs": [
    {
     "name": "stderr",
     "output_type": "stream",
     "text": [
      "Using TensorFlow backend.\n"
     ]
    }
   ],
   "source": [
    "from keras.models import Sequential\n",
    "from keras.layers import Dense\n",
    "data=np.array(data)\n",
    "import numpy as np\n",
    "#np.random.seed(1)\n",
    "np.random.shuffle(data)\n",
    "size=int(0.8*len(data))\n",
    "X_train=data[0:size,0:-1]\n",
    "y_train=data[0:size,-1]\n",
    "X_test=data[size:,0:-1]\n",
    "y_test=data[size:,-1]"
   ]
  },
  {
   "cell_type": "code",
   "execution_count": 41,
   "metadata": {},
   "outputs": [],
   "source": [
    "data_out=np.array(data_out)\n",
    "X_out=data_out[:,0:-1]\n",
    "y_out=data_out[:,-1]"
   ]
  },
  {
   "cell_type": "code",
   "execution_count": 123,
   "metadata": {},
   "outputs": [],
   "source": [
    "from sklearn.ensemble import RandomForestClassifier\n",
    "model = Sequential()\n",
    "model.add(Dense(100, input_dim=X_train.shape[1], activation='sigmoid'))\n",
    "model.add(Dense(30,activation='sigmoid'))\n",
    "model.add(Dense(1))\n",
    "\n",
    "model.compile(loss='mean_squared_error', optimizer='adam')\n"
   ]
  },
  {
   "cell_type": "code",
   "execution_count": 124,
   "metadata": {},
   "outputs": [
    {
     "name": "stdout",
     "output_type": "stream",
     "text": [
      "Epoch 1/100\n",
      "16828/16828 [==============================] - 0s 24us/step - loss: 0.0216\n",
      "Epoch 2/100\n",
      "16828/16828 [==============================] - 0s 5us/step - loss: 0.0109\n",
      "Epoch 3/100\n",
      "16828/16828 [==============================] - 0s 5us/step - loss: 0.0094\n",
      "Epoch 4/100\n",
      "16828/16828 [==============================] - 0s 4us/step - loss: 0.0087\n",
      "Epoch 5/100\n",
      "16828/16828 [==============================] - 0s 5us/step - loss: 0.0083\n",
      "Epoch 6/100\n",
      "16828/16828 [==============================] - 0s 5us/step - loss: 0.0080\n",
      "Epoch 7/100\n",
      "16828/16828 [==============================] - 0s 4us/step - loss: 0.0078\n",
      "Epoch 8/100\n",
      "16828/16828 [==============================] - 0s 5us/step - loss: 0.0076\n",
      "Epoch 9/100\n",
      "16828/16828 [==============================] - 0s 5us/step - loss: 0.0074\n",
      "Epoch 10/100\n",
      "16828/16828 [==============================] - 0s 5us/step - loss: 0.0073\n",
      "Epoch 11/100\n",
      "16828/16828 [==============================] - 0s 5us/step - loss: 0.0072\n",
      "Epoch 12/100\n",
      "16828/16828 [==============================] - 0s 6us/step - loss: 0.0071\n",
      "Epoch 13/100\n",
      "16828/16828 [==============================] - 0s 6us/step - loss: 0.0070\n",
      "Epoch 14/100\n",
      "16828/16828 [==============================] - 0s 5us/step - loss: 0.0069\n",
      "Epoch 15/100\n",
      "16828/16828 [==============================] - 0s 5us/step - loss: 0.0068\n",
      "Epoch 16/100\n",
      "16828/16828 [==============================] - 0s 5us/step - loss: 0.0067\n",
      "Epoch 17/100\n",
      "16828/16828 [==============================] - 0s 5us/step - loss: 0.0067\n",
      "Epoch 18/100\n",
      "16828/16828 [==============================] - 0s 5us/step - loss: 0.0067\n",
      "Epoch 19/100\n",
      "16828/16828 [==============================] - 0s 5us/step - loss: 0.0066\n",
      "Epoch 20/100\n",
      "16828/16828 [==============================] - 0s 5us/step - loss: 0.0066\n",
      "Epoch 21/100\n",
      "16828/16828 [==============================] - 0s 6us/step - loss: 0.0065\n",
      "Epoch 22/100\n",
      "16828/16828 [==============================] - 0s 5us/step - loss: 0.0065\n",
      "Epoch 23/100\n",
      "16828/16828 [==============================] - 0s 5us/step - loss: 0.0065\n",
      "Epoch 24/100\n",
      "16828/16828 [==============================] - 0s 5us/step - loss: 0.0064\n",
      "Epoch 25/100\n",
      "16828/16828 [==============================] - 0s 5us/step - loss: 0.0064\n",
      "Epoch 26/100\n",
      "16828/16828 [==============================] - 0s 5us/step - loss: 0.0063\n",
      "Epoch 27/100\n",
      "16828/16828 [==============================] - 0s 5us/step - loss: 0.0063\n",
      "Epoch 28/100\n",
      "16828/16828 [==============================] - 0s 5us/step - loss: 0.0063\n",
      "Epoch 29/100\n",
      "16828/16828 [==============================] - 0s 5us/step - loss: 0.0062\n",
      "Epoch 30/100\n",
      "16828/16828 [==============================] - 0s 5us/step - loss: 0.0062\n",
      "Epoch 31/100\n",
      "16828/16828 [==============================] - 0s 6us/step - loss: 0.0062\n",
      "Epoch 32/100\n",
      "16828/16828 [==============================] - 0s 5us/step - loss: 0.0061\n",
      "Epoch 33/100\n",
      "16828/16828 [==============================] - 0s 5us/step - loss: 0.0061\n",
      "Epoch 34/100\n",
      "16828/16828 [==============================] - 0s 5us/step - loss: 0.0061\n",
      "Epoch 35/100\n",
      "16828/16828 [==============================] - 0s 5us/step - loss: 0.0060\n",
      "Epoch 36/100\n",
      "16828/16828 [==============================] - 0s 5us/step - loss: 0.0060\n",
      "Epoch 37/100\n",
      "16828/16828 [==============================] - 0s 5us/step - loss: 0.0060\n",
      "Epoch 38/100\n",
      "16828/16828 [==============================] - 0s 5us/step - loss: 0.0060\n",
      "Epoch 39/100\n",
      "16828/16828 [==============================] - 0s 5us/step - loss: 0.0060\n",
      "Epoch 40/100\n",
      "16828/16828 [==============================] - 0s 5us/step - loss: 0.0059\n",
      "Epoch 41/100\n",
      "16828/16828 [==============================] - 0s 5us/step - loss: 0.0059\n",
      "Epoch 42/100\n",
      "16828/16828 [==============================] - 0s 4us/step - loss: 0.0060\n",
      "Epoch 43/100\n",
      "16828/16828 [==============================] - 0s 5us/step - loss: 0.0059\n",
      "Epoch 44/100\n",
      "16828/16828 [==============================] - 0s 5us/step - loss: 0.0058\n",
      "Epoch 45/100\n",
      "16828/16828 [==============================] - 0s 4us/step - loss: 0.0058\n",
      "Epoch 46/100\n",
      "16828/16828 [==============================] - 0s 5us/step - loss: 0.0058\n",
      "Epoch 47/100\n",
      "16828/16828 [==============================] - 0s 5us/step - loss: 0.0058\n",
      "Epoch 48/100\n",
      "16828/16828 [==============================] - 0s 5us/step - loss: 0.0057\n",
      "Epoch 49/100\n",
      "16828/16828 [==============================] - 0s 5us/step - loss: 0.0057\n",
      "Epoch 50/100\n",
      "16828/16828 [==============================] - 0s 8us/step - loss: 0.0057\n",
      "Epoch 51/100\n",
      "16828/16828 [==============================] - 0s 5us/step - loss: 0.0057\n",
      "Epoch 52/100\n",
      "16828/16828 [==============================] - 0s 4us/step - loss: 0.0057\n",
      "Epoch 53/100\n",
      "16828/16828 [==============================] - 0s 5us/step - loss: 0.0057\n",
      "Epoch 54/100\n",
      "16828/16828 [==============================] - 0s 5us/step - loss: 0.0056\n",
      "Epoch 55/100\n",
      "16828/16828 [==============================] - 0s 5us/step - loss: 0.0057\n",
      "Epoch 56/100\n",
      "16828/16828 [==============================] - 0s 5us/step - loss: 0.0056\n",
      "Epoch 57/100\n",
      "16828/16828 [==============================] - 0s 5us/step - loss: 0.0056\n",
      "Epoch 58/100\n",
      "16828/16828 [==============================] - 0s 5us/step - loss: 0.0055\n",
      "Epoch 59/100\n",
      "16828/16828 [==============================] - 0s 5us/step - loss: 0.0055\n",
      "Epoch 60/100\n",
      "16828/16828 [==============================] - 0s 5us/step - loss: 0.0055\n",
      "Epoch 61/100\n",
      "16828/16828 [==============================] - 0s 6us/step - loss: 0.0055\n",
      "Epoch 62/100\n",
      "16828/16828 [==============================] - 0s 6us/step - loss: 0.0056\n",
      "Epoch 63/100\n",
      "16828/16828 [==============================] - 0s 5us/step - loss: 0.0055\n",
      "Epoch 64/100\n",
      "16828/16828 [==============================] - 0s 5us/step - loss: 0.0055\n",
      "Epoch 65/100\n",
      "16828/16828 [==============================] - 0s 5us/step - loss: 0.0055\n",
      "Epoch 66/100\n",
      "16828/16828 [==============================] - 0s 5us/step - loss: 0.0055\n",
      "Epoch 67/100\n",
      "16828/16828 [==============================] - 0s 6us/step - loss: 0.0055\n",
      "Epoch 68/100\n",
      "16828/16828 [==============================] - 0s 5us/step - loss: 0.0054\n",
      "Epoch 69/100\n",
      "16828/16828 [==============================] - 0s 5us/step - loss: 0.0054\n",
      "Epoch 70/100\n",
      "16828/16828 [==============================] - 0s 5us/step - loss: 0.0054\n",
      "Epoch 71/100\n",
      "16828/16828 [==============================] - 0s 7us/step - loss: 0.0054\n",
      "Epoch 72/100\n",
      "16828/16828 [==============================] - 0s 5us/step - loss: 0.0054\n",
      "Epoch 73/100\n",
      "16828/16828 [==============================] - 0s 5us/step - loss: 0.0053\n",
      "Epoch 74/100\n",
      "16828/16828 [==============================] - 0s 5us/step - loss: 0.0053\n",
      "Epoch 75/100\n",
      "16828/16828 [==============================] - 0s 4us/step - loss: 0.0053\n",
      "Epoch 76/100\n",
      "16828/16828 [==============================] - 0s 5us/step - loss: 0.0053\n",
      "Epoch 77/100\n",
      "16828/16828 [==============================] - 0s 5us/step - loss: 0.0053\n",
      "Epoch 78/100\n",
      "16828/16828 [==============================] - 0s 5us/step - loss: 0.0053\n",
      "Epoch 79/100\n",
      "16828/16828 [==============================] - 0s 5us/step - loss: 0.0052\n",
      "Epoch 80/100\n",
      "16828/16828 [==============================] - 0s 5us/step - loss: 0.0053\n",
      "Epoch 81/100\n",
      "16828/16828 [==============================] - 0s 5us/step - loss: 0.0053\n",
      "Epoch 82/100\n",
      "16828/16828 [==============================] - 0s 4us/step - loss: 0.0052\n",
      "Epoch 83/100\n",
      "16828/16828 [==============================] - 0s 5us/step - loss: 0.0052\n",
      "Epoch 84/100\n",
      "16828/16828 [==============================] - 0s 5us/step - loss: 0.0052\n",
      "Epoch 85/100\n",
      "16828/16828 [==============================] - 0s 5us/step - loss: 0.0052\n",
      "Epoch 86/100\n",
      "16828/16828 [==============================] - 0s 5us/step - loss: 0.0052\n",
      "Epoch 87/100\n",
      "16828/16828 [==============================] - 0s 5us/step - loss: 0.0053\n",
      "Epoch 88/100\n",
      "16828/16828 [==============================] - 0s 5us/step - loss: 0.0055\n",
      "Epoch 89/100\n",
      "16828/16828 [==============================] - 0s 9us/step - loss: 0.0052\n",
      "Epoch 90/100\n",
      "16828/16828 [==============================] - 0s 5us/step - loss: 0.0051\n",
      "Epoch 91/100\n",
      "16828/16828 [==============================] - 0s 4us/step - loss: 0.0051\n",
      "Epoch 92/100\n",
      "16828/16828 [==============================] - 0s 5us/step - loss: 0.0051\n",
      "Epoch 93/100\n",
      "16828/16828 [==============================] - 0s 5us/step - loss: 0.0051\n",
      "Epoch 94/100\n",
      "16828/16828 [==============================] - 0s 5us/step - loss: 0.0051\n",
      "Epoch 95/100\n",
      "16828/16828 [==============================] - 0s 5us/step - loss: 0.0051\n",
      "Epoch 96/100\n",
      "16828/16828 [==============================] - 0s 4us/step - loss: 0.0051\n",
      "Epoch 97/100\n",
      "16828/16828 [==============================] - 0s 5us/step - loss: 0.0051\n",
      "Epoch 98/100\n",
      "16828/16828 [==============================] - 0s 5us/step - loss: 0.0051\n",
      "Epoch 99/100\n",
      "16828/16828 [==============================] - 0s 5us/step - loss: 0.0052\n",
      "Epoch 100/100\n",
      "16828/16828 [==============================] - 0s 4us/step - loss: 0.0050\n"
     ]
    },
    {
     "data": {
      "text/plain": [
       "<keras.callbacks.History at 0x1e172403668>"
      ]
     },
     "execution_count": 124,
     "metadata": {},
     "output_type": "execute_result"
    }
   ],
   "source": [
    "model.fit(X_train,y_train,epochs=100,batch_size=1000)"
   ]
  },
  {
   "cell_type": "code",
   "execution_count": 125,
   "metadata": {},
   "outputs": [
    {
     "name": "stdout",
     "output_type": "stream",
     "text": [
      "4207/4207 [==============================] - 0s 55us/step\n"
     ]
    },
    {
     "data": {
      "text/plain": [
       "0.006349568225968907"
      ]
     },
     "execution_count": 125,
     "metadata": {},
     "output_type": "execute_result"
    }
   ],
   "source": [
    "model.evaluate(X_test,y_test)"
   ]
  },
  {
   "cell_type": "code",
   "execution_count": 258,
   "metadata": {},
   "outputs": [
    {
     "ename": "NameError",
     "evalue": "name 'model' is not defined",
     "output_type": "error",
     "traceback": [
      "\u001b[1;31m---------------------------------------------------------------------------\u001b[0m",
      "\u001b[1;31mNameError\u001b[0m                                 Traceback (most recent call last)",
      "\u001b[1;32m<ipython-input-258-c5a217752811>\u001b[0m in \u001b[0;36m<module>\u001b[1;34m()\u001b[0m\n\u001b[1;32m----> 1\u001b[1;33m \u001b[0mmodel\u001b[0m\u001b[1;33m.\u001b[0m\u001b[0mevaluate\u001b[0m\u001b[1;33m(\u001b[0m\u001b[0mX_out\u001b[0m\u001b[1;33m,\u001b[0m\u001b[0my_out\u001b[0m\u001b[1;33m)\u001b[0m\u001b[1;33m\u001b[0m\u001b[0m\n\u001b[0m",
      "\u001b[1;31mNameError\u001b[0m: name 'model' is not defined"
     ]
    }
   ],
   "source": [
    "model.evaluate(X_out,y_out)"
   ]
  },
  {
   "cell_type": "code",
   "execution_count": 127,
   "metadata": {},
   "outputs": [
    {
     "data": {
      "text/plain": [
       "[<matplotlib.lines.Line2D at 0x1e177d29e80>]"
      ]
     },
     "execution_count": 127,
     "metadata": {},
     "output_type": "execute_result"
    },
    {
     "data": {
      "image/png": "[encoded data removed]",
      "text/plain": [
       "<Figure size 1080x720 with 1 Axes>"
      ]
     },
     "metadata": {},
     "output_type": "display_data"
    }
   ],
   "source": [
    "y_p=model.predict(X_out)\n",
    "plt.figure(figsize=(15,10))\n",
    "plt.plot(y_out,'ko-')\n",
    "plt.plot(y_p,'ro-')"
   ]
  },
  {
   "cell_type": "markdown",
   "metadata": {},
   "source": [
    "Performance Over Two Month Rebalancing"
   ]
  },
  {
   "cell_type": "code",
   "execution_count": 128,
   "metadata": {},
   "outputs": [],
   "source": [
    "pool_out={}\n",
    "pool_pred={}\n",
    "y_pred=model.predict(X_out)\n",
    "for i in range(len(Dict_.keys())):\n",
    "    pool_out[list(Dict_.keys())[i]]=y_out[i]\n",
    "    pool_pred[list(Dict_.keys())[i]]=y_pred[i]"
   ]
  },
  {
   "cell_type": "code",
   "execution_count": 129,
   "metadata": {},
   "outputs": [],
   "source": [
    "s=20\n",
    "dd = sorted(pool_pred.items(), key=lambda x: x[1],reverse=True)\n",
    "pool=[pair[0] for pair in dd[0:s] if pair[1]>0]\n",
    "performance=sum([pool_future[n] for n in pool])/float(s)\n",
    "benchmark=sum(pool_future.values())/len(pool_future.keys())"
   ]
  },
  {
   "cell_type": "code",
   "execution_count": 130,
   "metadata": {},
   "outputs": [
    {
     "name": "stdout",
     "output_type": "stream",
     "text": [
      "['cnp', 'dnb', 'udr', 'ppl']\n"
     ]
    },
    {
     "data": {
      "text/plain": [
       "(-0.12438698218471632, -0.007018709110251925)"
      ]
     },
     "execution_count": 130,
     "metadata": {},
     "output_type": "execute_result"
    }
   ],
   "source": [
    "#1203-1231\n",
    "print(pool)\n",
    "benchmark,performance"
   ]
  },
  {
   "cell_type": "code",
   "execution_count": 131,
   "metadata": {},
   "outputs": [],
   "source": [
    "pool_one={}\n",
    "y_one=model.predict(np.array(X_one))\n",
    "for i in range(len(Dict_.keys())):\n",
    "    pool_one[list(Dict_.keys())[i]]=y_one[i]\n",
    "s=20\n",
    "dd = sorted(pool_one.items(), key=lambda x: x[1],reverse=True)\n",
    "pool=[pair[0] for pair in dd[0:s] if pair[1]>0]\n",
    "performance=sum([pool_cur[n] for n in pool])/float(s)\n",
    "benchmark=sum(pool_cur.values())/len(pool_cur.keys())   "
   ]
  },
  {
   "cell_type": "code",
   "execution_count": 132,
   "metadata": {},
   "outputs": [
    {
     "name": "stdout",
     "output_type": "stream",
     "text": [
      "['mhk', 'wdc', 'nwl', 'emn', 'ibm', 'vc', 'tup', 'cck', 'pfg', 'apc', 'pnr', 'nclh', 'bgg', 'etn', 'cl', 'sanm', 'un', 'ph', 'xec', 'xrx']\n"
     ]
    },
    {
     "data": {
      "text/plain": [
       "(0.016282695755074406, 0.07275474163394016)"
      ]
     },
     "execution_count": 132,
     "metadata": {},
     "output_type": "execute_result"
    }
   ],
   "source": [
    "#1101-1131\n",
    "print(pool)\n",
    "benchmark,performance"
   ]
  },
  {
   "cell_type": "markdown",
   "metadata": {},
   "source": [
    "With a Neural Network with only fully connected layers we can pass in the entire historic indicator values and returns over the past 14 days and predict this future period return accordingly.\n",
    "The predicted returns will be used in place of the historic returns to select the top 20 stocks aggressively and test using the same time periods.\n",
    "We still only select stocks that have a positive predicted returns. The 11.01-11.31 results improved to 0.0728 over 0.0404 benchmark. The 12.03-12.31 result\n",
    "improves to -0.007 over the -0.096 benchmark."
   ]
  },
  {
   "cell_type": "markdown",
   "metadata": {},
   "source": [
    "### Semi-monthly Rebalance"
   ]
  },
  {
   "cell_type": "code",
   "execution_count": 73,
   "metadata": {},
   "outputs": [],
   "source": [
    "data=[]\n",
    "p1=[]\n",
    "p2=[]\n",
    "p3=[]\n",
    "p4=[]\n",
    "p5=[]\n",
    "for name in Dict_.keys():\n",
    "    cur=Dict_[name]\n",
    "    C=np.array(cur['Close'])\n",
    "    h=10\n",
    "    for i in range(h,len(C)-h):\n",
    "        vec=[]\n",
    "        for j in ['EMA','MACD','SMI','SO','RSI','Close']:\n",
    "            vec+=list(np.array(cur[j])[i-h+1:i+1])\n",
    "        #vec.append((C[i]-C[i-h])/C[i-h])\n",
    "        vec.append((C[i+h]-C[i])/C[i])\n",
    "        if i!=52:\n",
    "            data.append(vec)\n",
    "        if i==10:\n",
    "            p1.append(vec[:-1])\n",
    "        elif i==22:\n",
    "            p2.append(vec[:-1])\n",
    "        elif i==33:\n",
    "            p3.append(vec[:-1])\n",
    "        elif i==43:\n",
    "            p4.append(vec[:-1])\n",
    "        elif i==52:\n",
    "            p5.append(vec[:-1])\n",
    "from sklearn.preprocessing import StandardScaler\n",
    "scaler = StandardScaler()\n",
    "data=np.array(data)\n",
    "#data=scaler.fit_transform(data)\n",
    "np.random.shuffle(data)\n",
    "size=int(0.8*len(data))\n",
    "X_train=data[0:size,0:-1]\n",
    "y_train=data[0:size,-1]\n",
    "X_test=data[size:,0:-1]\n",
    "y_test=data[size:,-1]\n",
    "\n"
   ]
  },
  {
   "cell_type": "code",
   "execution_count": 90,
   "metadata": {},
   "outputs": [],
   "source": [
    "model_2 = Sequential()\n",
    "model_2.add(Dense(100, input_dim=X_train.shape[1], activation='sigmoid'))\n",
    "model_2.add(Dense(20,activation='sigmoid'))\n",
    "model_2.add(Dense(1))\n",
    "\n",
    "model_2.compile(loss='mean_squared_error', optimizer='adam')"
   ]
  },
  {
   "cell_type": "code",
   "execution_count": 91,
   "metadata": {},
   "outputs": [
    {
     "name": "stdout",
     "output_type": "stream",
     "text": [
      "Train on 16154 samples, validate on 4039 samples\n",
      "Epoch 1/150\n",
      "16154/16154 [==============================] - 0s 27us/step - loss: 0.3480 - val_loss: 0.1033\n",
      "Epoch 2/150\n",
      "16154/16154 [==============================] - 0s 5us/step - loss: 0.0439 - val_loss: 0.0142\n",
      "Epoch 3/150\n",
      "16154/16154 [==============================] - 0s 6us/step - loss: 0.0133 - val_loss: 0.0090\n",
      "Epoch 4/150\n",
      "16154/16154 [==============================] - 0s 8us/step - loss: 0.0090 - val_loss: 0.0084\n",
      "Epoch 5/150\n",
      "16154/16154 [==============================] - 0s 7us/step - loss: 0.0081 - val_loss: 0.0081\n",
      "Epoch 6/150\n",
      "16154/16154 [==============================] - 0s 6us/step - loss: 0.0078 - val_loss: 0.0079\n",
      "Epoch 7/150\n",
      "16154/16154 [==============================] - 0s 5us/step - loss: 0.0076 - val_loss: 0.0077\n",
      "Epoch 8/150\n",
      "16154/16154 [==============================] - 0s 6us/step - loss: 0.0074 - val_loss: 0.0075\n",
      "Epoch 9/150\n",
      "16154/16154 [==============================] - 0s 6us/step - loss: 0.0072 - val_loss: 0.0074\n",
      "Epoch 10/150\n",
      "16154/16154 [==============================] - 0s 5us/step - loss: 0.0071 - val_loss: 0.0073\n",
      "Epoch 11/150\n",
      "16154/16154 [==============================] - 0s 5us/step - loss: 0.0070 - val_loss: 0.0072\n",
      "Epoch 12/150\n",
      "16154/16154 [==============================] - 0s 6us/step - loss: 0.0069 - val_loss: 0.0071\n",
      "Epoch 13/150\n",
      "16154/16154 [==============================] - 0s 5us/step - loss: 0.0068 - val_loss: 0.0070\n",
      "Epoch 14/150\n",
      "16154/16154 [==============================] - 0s 6us/step - loss: 0.0067 - val_loss: 0.0070\n",
      "Epoch 15/150\n",
      "16154/16154 [==============================] - 0s 6us/step - loss: 0.0067 - val_loss: 0.0069\n",
      "Epoch 16/150\n",
      "16154/16154 [==============================] - 0s 6us/step - loss: 0.0066 - val_loss: 0.0068\n",
      "Epoch 17/150\n",
      "16154/16154 [==============================] - 0s 5us/step - loss: 0.0066 - val_loss: 0.0068\n",
      "Epoch 18/150\n",
      "16154/16154 [==============================] - 0s 5us/step - loss: 0.0065 - val_loss: 0.0067\n",
      "Epoch 19/150\n",
      "16154/16154 [==============================] - 0s 6us/step - loss: 0.0064 - val_loss: 0.0067\n",
      "Epoch 20/150\n",
      "16154/16154 [==============================] - 0s 6us/step - loss: 0.0064 - val_loss: 0.0066\n",
      "Epoch 21/150\n",
      "16154/16154 [==============================] - 0s 6us/step - loss: 0.0064 - val_loss: 0.0066\n",
      "Epoch 22/150\n",
      "16154/16154 [==============================] - 0s 6us/step - loss: 0.0063 - val_loss: 0.0065\n",
      "Epoch 23/150\n",
      "16154/16154 [==============================] - 0s 6us/step - loss: 0.0063 - val_loss: 0.0065\n",
      "Epoch 24/150\n",
      "16154/16154 [==============================] - 0s 5us/step - loss: 0.0062 - val_loss: 0.0064\n",
      "Epoch 25/150\n",
      "16154/16154 [==============================] - 0s 6us/step - loss: 0.0062 - val_loss: 0.0064\n",
      "Epoch 26/150\n",
      "16154/16154 [==============================] - 0s 5us/step - loss: 0.0062 - val_loss: 0.0064\n",
      "Epoch 27/150\n",
      "16154/16154 [==============================] - 0s 5us/step - loss: 0.0061 - val_loss: 0.0064\n",
      "Epoch 28/150\n",
      "16154/16154 [==============================] - 0s 5us/step - loss: 0.0061 - val_loss: 0.0063\n",
      "Epoch 29/150\n",
      "16154/16154 [==============================] - 0s 6us/step - loss: 0.0061 - val_loss: 0.0063\n",
      "Epoch 30/150\n",
      "16154/16154 [==============================] - 0s 5us/step - loss: 0.0060 - val_loss: 0.0063\n",
      "Epoch 31/150\n",
      "16154/16154 [==============================] - 0s 5us/step - loss: 0.0060 - val_loss: 0.0062\n",
      "Epoch 32/150\n",
      "16154/16154 [==============================] - 0s 5us/step - loss: 0.0060 - val_loss: 0.0062\n",
      "Epoch 33/150\n",
      "16154/16154 [==============================] - 0s 6us/step - loss: 0.0060 - val_loss: 0.0062\n",
      "Epoch 34/150\n",
      "16154/16154 [==============================] - 0s 5us/step - loss: 0.0059 - val_loss: 0.0062\n",
      "Epoch 35/150\n",
      "16154/16154 [==============================] - 0s 5us/step - loss: 0.0059 - val_loss: 0.0062\n",
      "Epoch 36/150\n",
      "16154/16154 [==============================] - 0s 6us/step - loss: 0.0059 - val_loss: 0.0061\n",
      "Epoch 37/150\n",
      "16154/16154 [==============================] - 0s 6us/step - loss: 0.0059 - val_loss: 0.0061\n",
      "Epoch 38/150\n",
      "16154/16154 [==============================] - 0s 6us/step - loss: 0.0058 - val_loss: 0.0061\n",
      "Epoch 39/150\n",
      "16154/16154 [==============================] - 0s 5us/step - loss: 0.0058 - val_loss: 0.0061\n",
      "Epoch 40/150\n",
      "16154/16154 [==============================] - 0s 5us/step - loss: 0.0058 - val_loss: 0.0060\n",
      "Epoch 41/150\n",
      "16154/16154 [==============================] - ETA: 0s - loss: 0.005 - 0s 5us/step - loss: 0.0058 - val_loss: 0.0060\n",
      "Epoch 42/150\n",
      "16154/16154 [==============================] - 0s 5us/step - loss: 0.0058 - val_loss: 0.0060\n",
      "Epoch 43/150\n",
      "16154/16154 [==============================] - 0s 5us/step - loss: 0.0057 - val_loss: 0.0060\n",
      "Epoch 44/150\n",
      "16154/16154 [==============================] - 0s 6us/step - loss: 0.0057 - val_loss: 0.0060\n",
      "Epoch 45/150\n",
      "16154/16154 [==============================] - 0s 5us/step - loss: 0.0057 - val_loss: 0.0059\n",
      "Epoch 46/150\n",
      "16154/16154 [==============================] - 0s 5us/step - loss: 0.0057 - val_loss: 0.0059\n",
      "Epoch 47/150\n",
      "16154/16154 [==============================] - 0s 5us/step - loss: 0.0057 - val_loss: 0.0059\n",
      "Epoch 48/150\n",
      "16154/16154 [==============================] - 0s 5us/step - loss: 0.0056 - val_loss: 0.0059\n",
      "Epoch 49/150\n",
      "16154/16154 [==============================] - 0s 6us/step - loss: 0.0056 - val_loss: 0.0058\n",
      "Epoch 50/150\n",
      "16154/16154 [==============================] - 0s 5us/step - loss: 0.0056 - val_loss: 0.0058\n",
      "Epoch 51/150\n",
      "16154/16154 [==============================] - 0s 5us/step - loss: 0.0056 - val_loss: 0.0058\n",
      "Epoch 52/150\n",
      "16154/16154 [==============================] - 0s 5us/step - loss: 0.0056 - val_loss: 0.0058\n",
      "Epoch 53/150\n",
      "16154/16154 [==============================] - 0s 5us/step - loss: 0.0056 - val_loss: 0.0058\n",
      "Epoch 54/150\n",
      "16154/16154 [==============================] - 0s 5us/step - loss: 0.0055 - val_loss: 0.0058\n",
      "Epoch 55/150\n",
      "16154/16154 [==============================] - 0s 5us/step - loss: 0.0055 - val_loss: 0.0058\n",
      "Epoch 56/150\n",
      "16154/16154 [==============================] - 0s 6us/step - loss: 0.0055 - val_loss: 0.0058\n",
      "Epoch 57/150\n",
      "16154/16154 [==============================] - 0s 5us/step - loss: 0.0055 - val_loss: 0.0058\n",
      "Epoch 58/150\n",
      "16154/16154 [==============================] - 0s 6us/step - loss: 0.0055 - val_loss: 0.0057\n",
      "Epoch 59/150\n",
      "16154/16154 [==============================] - 0s 5us/step - loss: 0.0055 - val_loss: 0.0058\n",
      "Epoch 60/150\n",
      "16154/16154 [==============================] - 0s 5us/step - loss: 0.0055 - val_loss: 0.0057\n",
      "Epoch 61/150\n",
      "16154/16154 [==============================] - 0s 5us/step - loss: 0.0055 - val_loss: 0.0057\n",
      "Epoch 62/150\n",
      "16154/16154 [==============================] - 0s 6us/step - loss: 0.0054 - val_loss: 0.0057\n",
      "Epoch 63/150\n",
      "16154/16154 [==============================] - 0s 5us/step - loss: 0.0054 - val_loss: 0.0057\n",
      "Epoch 64/150\n",
      "16154/16154 [==============================] - 0s 6us/step - loss: 0.0054 - val_loss: 0.0057\n",
      "Epoch 65/150\n",
      "16154/16154 [==============================] - 0s 6us/step - loss: 0.0054 - val_loss: 0.0057\n",
      "Epoch 66/150\n",
      "16154/16154 [==============================] - 0s 6us/step - loss: 0.0054 - val_loss: 0.0057\n",
      "Epoch 67/150\n",
      "16154/16154 [==============================] - ETA: 0s - loss: 0.005 - 0s 5us/step - loss: 0.0054 - val_loss: 0.0057\n",
      "Epoch 68/150\n",
      "16154/16154 [==============================] - 0s 5us/step - loss: 0.0054 - val_loss: 0.0057\n",
      "Epoch 69/150\n",
      "16154/16154 [==============================] - 0s 6us/step - loss: 0.0054 - val_loss: 0.0057\n",
      "Epoch 70/150\n",
      "16154/16154 [==============================] - 0s 5us/step - loss: 0.0054 - val_loss: 0.0056\n",
      "Epoch 71/150\n",
      "16154/16154 [==============================] - 0s 5us/step - loss: 0.0054 - val_loss: 0.0056\n",
      "Epoch 72/150\n",
      "16154/16154 [==============================] - 0s 5us/step - loss: 0.0054 - val_loss: 0.0056\n",
      "Epoch 73/150\n",
      "16154/16154 [==============================] - 0s 5us/step - loss: 0.0054 - val_loss: 0.0057\n",
      "Epoch 74/150\n",
      "16154/16154 [==============================] - 0s 5us/step - loss: 0.0054 - val_loss: 0.0056\n",
      "Epoch 75/150\n",
      "16154/16154 [==============================] - 0s 5us/step - loss: 0.0053 - val_loss: 0.0056\n",
      "Epoch 76/150\n",
      "16154/16154 [==============================] - 0s 5us/step - loss: 0.0053 - val_loss: 0.0056\n",
      "Epoch 77/150\n"
     ]
    },
    {
     "name": "stdout",
     "output_type": "stream",
     "text": [
      "16154/16154 [==============================] - 0s 5us/step - loss: 0.0053 - val_loss: 0.0056\n",
      "Epoch 78/150\n",
      "16154/16154 [==============================] - 0s 7us/step - loss: 0.0053 - val_loss: 0.0057\n",
      "Epoch 79/150\n",
      "16154/16154 [==============================] - 0s 5us/step - loss: 0.0053 - val_loss: 0.0056\n",
      "Epoch 80/150\n",
      "16154/16154 [==============================] - 0s 5us/step - loss: 0.0053 - val_loss: 0.0056\n",
      "Epoch 81/150\n",
      "16154/16154 [==============================] - 0s 6us/step - loss: 0.0053 - val_loss: 0.0056\n",
      "Epoch 82/150\n",
      "16154/16154 [==============================] - 0s 5us/step - loss: 0.0053 - val_loss: 0.0056\n",
      "Epoch 83/150\n",
      "16154/16154 [==============================] - 0s 5us/step - loss: 0.0053 - val_loss: 0.0056\n",
      "Epoch 84/150\n",
      "16154/16154 [==============================] - 0s 6us/step - loss: 0.0053 - val_loss: 0.0056\n",
      "Epoch 85/150\n",
      "16154/16154 [==============================] - 0s 5us/step - loss: 0.0053 - val_loss: 0.0056\n",
      "Epoch 86/150\n",
      "16154/16154 [==============================] - 0s 5us/step - loss: 0.0053 - val_loss: 0.0056\n",
      "Epoch 87/150\n",
      "16154/16154 [==============================] - 0s 5us/step - loss: 0.0053 - val_loss: 0.0056\n",
      "Epoch 88/150\n",
      "16154/16154 [==============================] - 0s 6us/step - loss: 0.0052 - val_loss: 0.0056\n",
      "Epoch 89/150\n",
      "16154/16154 [==============================] - 0s 6us/step - loss: 0.0052 - val_loss: 0.0056\n",
      "Epoch 90/150\n",
      "16154/16154 [==============================] - 0s 6us/step - loss: 0.0052 - val_loss: 0.0056\n",
      "Epoch 91/150\n",
      "16154/16154 [==============================] - 0s 6us/step - loss: 0.0052 - val_loss: 0.0056\n",
      "Epoch 92/150\n",
      "16154/16154 [==============================] - 0s 6us/step - loss: 0.0052 - val_loss: 0.0055\n",
      "Epoch 93/150\n",
      "16154/16154 [==============================] - 0s 6us/step - loss: 0.0052 - val_loss: 0.0056\n",
      "Epoch 94/150\n",
      "16154/16154 [==============================] - 0s 5us/step - loss: 0.0052 - val_loss: 0.0055\n",
      "Epoch 95/150\n",
      "16154/16154 [==============================] - 0s 6us/step - loss: 0.0052 - val_loss: 0.0055\n",
      "Epoch 96/150\n",
      "16154/16154 [==============================] - 0s 5us/step - loss: 0.0052 - val_loss: 0.0055\n",
      "Epoch 97/150\n",
      "16154/16154 [==============================] - 0s 5us/step - loss: 0.0052 - val_loss: 0.0055\n",
      "Epoch 98/150\n",
      "16154/16154 [==============================] - 0s 6us/step - loss: 0.0052 - val_loss: 0.0055\n",
      "Epoch 99/150\n",
      "16154/16154 [==============================] - 0s 6us/step - loss: 0.0052 - val_loss: 0.0055\n",
      "Epoch 100/150\n",
      "16154/16154 [==============================] - 0s 5us/step - loss: 0.0052 - val_loss: 0.0055\n",
      "Epoch 101/150\n",
      "16154/16154 [==============================] - 0s 6us/step - loss: 0.0052 - val_loss: 0.0055\n",
      "Epoch 102/150\n",
      "16154/16154 [==============================] - 0s 5us/step - loss: 0.0052 - val_loss: 0.0055\n",
      "Epoch 103/150\n",
      "16154/16154 [==============================] - 0s 5us/step - loss: 0.0051 - val_loss: 0.0055\n",
      "Epoch 104/150\n",
      "16154/16154 [==============================] - 0s 5us/step - loss: 0.0051 - val_loss: 0.0055\n",
      "Epoch 105/150\n",
      "16154/16154 [==============================] - 0s 5us/step - loss: 0.0051 - val_loss: 0.0055\n",
      "Epoch 106/150\n",
      "16154/16154 [==============================] - 0s 5us/step - loss: 0.0051 - val_loss: 0.0054\n",
      "Epoch 107/150\n",
      "16154/16154 [==============================] - 0s 6us/step - loss: 0.0051 - val_loss: 0.0055\n",
      "Epoch 108/150\n",
      "16154/16154 [==============================] - 0s 5us/step - loss: 0.0051 - val_loss: 0.0055\n",
      "Epoch 109/150\n",
      "16154/16154 [==============================] - 0s 5us/step - loss: 0.0051 - val_loss: 0.0054\n",
      "Epoch 110/150\n",
      "16154/16154 [==============================] - 0s 6us/step - loss: 0.0051 - val_loss: 0.0055\n",
      "Epoch 111/150\n",
      "16154/16154 [==============================] - 0s 5us/step - loss: 0.0051 - val_loss: 0.0055\n",
      "Epoch 112/150\n",
      "16154/16154 [==============================] - ETA: 0s - loss: 0.005 - 0s 6us/step - loss: 0.0051 - val_loss: 0.0054\n",
      "Epoch 113/150\n",
      "16154/16154 [==============================] - 0s 6us/step - loss: 0.0051 - val_loss: 0.0054\n",
      "Epoch 114/150\n",
      "16154/16154 [==============================] - 0s 5us/step - loss: 0.0051 - val_loss: 0.0054\n",
      "Epoch 115/150\n",
      "16154/16154 [==============================] - 0s 5us/step - loss: 0.0051 - val_loss: 0.0054\n",
      "Epoch 116/150\n",
      "16154/16154 [==============================] - 0s 6us/step - loss: 0.0051 - val_loss: 0.0054\n",
      "Epoch 117/150\n",
      "16154/16154 [==============================] - 0s 6us/step - loss: 0.0051 - val_loss: 0.0055\n",
      "Epoch 118/150\n",
      "16154/16154 [==============================] - 0s 5us/step - loss: 0.0051 - val_loss: 0.0054\n",
      "Epoch 119/150\n",
      "16154/16154 [==============================] - 0s 6us/step - loss: 0.0051 - val_loss: 0.0054\n",
      "Epoch 120/150\n",
      "16154/16154 [==============================] - 0s 5us/step - loss: 0.0051 - val_loss: 0.0054\n",
      "Epoch 121/150\n",
      "16154/16154 [==============================] - 0s 6us/step - loss: 0.0050 - val_loss: 0.0055\n",
      "Epoch 122/150\n",
      "16154/16154 [==============================] - 0s 6us/step - loss: 0.0051 - val_loss: 0.0054\n",
      "Epoch 123/150\n",
      "16154/16154 [==============================] - 0s 6us/step - loss: 0.0050 - val_loss: 0.0054\n",
      "Epoch 124/150\n",
      "16154/16154 [==============================] - 0s 5us/step - loss: 0.0050 - val_loss: 0.0054\n",
      "Epoch 125/150\n",
      "16154/16154 [==============================] - 0s 6us/step - loss: 0.0050 - val_loss: 0.0054\n",
      "Epoch 126/150\n",
      "16154/16154 [==============================] - 0s 6us/step - loss: 0.0050 - val_loss: 0.0054\n",
      "Epoch 127/150\n",
      "16154/16154 [==============================] - 0s 5us/step - loss: 0.0050 - val_loss: 0.0054\n",
      "Epoch 128/150\n",
      "16154/16154 [==============================] - 0s 6us/step - loss: 0.0050 - val_loss: 0.0054\n",
      "Epoch 129/150\n",
      "16154/16154 [==============================] - 0s 5us/step - loss: 0.0050 - val_loss: 0.0054\n",
      "Epoch 130/150\n",
      "16154/16154 [==============================] - 0s 6us/step - loss: 0.0050 - val_loss: 0.0054\n",
      "Epoch 131/150\n",
      "16154/16154 [==============================] - 0s 6us/step - loss: 0.0050 - val_loss: 0.0054\n",
      "Epoch 132/150\n",
      "16154/16154 [==============================] - 0s 6us/step - loss: 0.0050 - val_loss: 0.0055\n",
      "Epoch 133/150\n",
      "16154/16154 [==============================] - 0s 6us/step - loss: 0.0050 - val_loss: 0.0054\n",
      "Epoch 134/150\n",
      "16154/16154 [==============================] - 0s 5us/step - loss: 0.0050 - val_loss: 0.0054\n",
      "Epoch 135/150\n",
      "16154/16154 [==============================] - 0s 6us/step - loss: 0.0050 - val_loss: 0.0054\n",
      "Epoch 136/150\n",
      "16154/16154 [==============================] - 0s 5us/step - loss: 0.0049 - val_loss: 0.0054\n",
      "Epoch 137/150\n",
      "16154/16154 [==============================] - 0s 6us/step - loss: 0.0050 - val_loss: 0.0054\n",
      "Epoch 138/150\n",
      "16154/16154 [==============================] - 0s 6us/step - loss: 0.0050 - val_loss: 0.0054\n",
      "Epoch 139/150\n",
      "16154/16154 [==============================] - 0s 6us/step - loss: 0.0049 - val_loss: 0.0054\n",
      "Epoch 140/150\n",
      "16154/16154 [==============================] - 0s 6us/step - loss: 0.0050 - val_loss: 0.0054\n",
      "Epoch 141/150\n",
      "16154/16154 [==============================] - 0s 6us/step - loss: 0.0049 - val_loss: 0.0054\n",
      "Epoch 142/150\n",
      "16154/16154 [==============================] - 0s 7us/step - loss: 0.0049 - val_loss: 0.0054\n",
      "Epoch 143/150\n",
      "16154/16154 [==============================] - 0s 7us/step - loss: 0.0050 - val_loss: 0.0054\n",
      "Epoch 144/150\n",
      "16154/16154 [==============================] - 0s 6us/step - loss: 0.0049 - val_loss: 0.0054\n",
      "Epoch 145/150\n",
      "16154/16154 [==============================] - 0s 6us/step - loss: 0.0049 - val_loss: 0.0054\n",
      "Epoch 146/150\n",
      "16154/16154 [==============================] - 0s 6us/step - loss: 0.0049 - val_loss: 0.0054\n",
      "Epoch 147/150\n",
      "16154/16154 [==============================] - 0s 6us/step - loss: 0.0049 - val_loss: 0.0053\n",
      "Epoch 148/150\n",
      "16154/16154 [==============================] - 0s 7us/step - loss: 0.0049 - val_loss: 0.0054\n",
      "Epoch 149/150\n",
      "16154/16154 [==============================] - 0s 6us/step - loss: 0.0049 - val_loss: 0.0054\n",
      "Epoch 150/150\n",
      "16154/16154 [==============================] - 0s 7us/step - loss: 0.0049 - val_loss: 0.0053\n"
     ]
    }
   ],
   "source": [
    "\n",
    "history=model_2.fit(X_train,y_train,validation_split=0.2,epochs=150,batch_size=1000,verbose=1)"
   ]
  },
  {
   "cell_type": "code",
   "execution_count": 92,
   "metadata": {
    "scrolled": true
   },
   "outputs": [
    {
     "name": "stdout",
     "output_type": "stream",
     "text": [
      "5049/5049 [==============================] - 0s 22us/step\n"
     ]
    },
    {
     "data": {
      "text/plain": [
       "0.005916354044641769"
      ]
     },
     "execution_count": 92,
     "metadata": {},
     "output_type": "execute_result"
    }
   ],
   "source": [
    "model_2.evaluate(X_test,y_test)"
   ]
  },
  {
   "cell_type": "code",
   "execution_count": 93,
   "metadata": {},
   "outputs": [],
   "source": [
    "from sklearn.metrics import r2_score"
   ]
  },
  {
   "cell_type": "code",
   "execution_count": 94,
   "metadata": {},
   "outputs": [
    {
     "data": {
      "text/plain": [
       "0.22120509380526643"
      ]
     },
     "execution_count": 94,
     "metadata": {},
     "output_type": "execute_result"
    }
   ],
   "source": [
    "y_pre=model_2.predict(X_train)\n",
    "#y_p=model_2.predict(X_test)\n",
    "#r2_score(y_test,y_p),\n",
    "r2_score(y_train,y_pre)"
   ]
  },
  {
   "cell_type": "code",
   "execution_count": 95,
   "metadata": {},
   "outputs": [
    {
     "data": {
      "image/png": "[encoded data removed]",
      "text/plain": [
       "<Figure size 432x288 with 1 Axes>"
      ]
     },
     "metadata": {},
     "output_type": "display_data"
    }
   ],
   "source": [
    "\n",
    "# Plot training & validation accuracy values\n",
    "plt.plot(history.history['loss'])\n",
    "plt.plot(history.history['val_loss'])\n",
    "plt.title('Model Loss')\n",
    "plt.ylabel('Loss')\n",
    "plt.xlabel('Epoch')\n",
    "plt.legend(['Train', 'Test'], loc='upper left')\n",
    "plt.show()\n"
   ]
  },
  {
   "cell_type": "code",
   "execution_count": 96,
   "metadata": {},
   "outputs": [
    {
     "name": "stdout",
     "output_type": "stream",
     "text": [
      "Period                 Index                      Benchmark\n",
      "20181016-20181031 -0.01874447243820561 0.0018272913752329894\n",
      "20181101-20181115 0.00958486895368256 0.01321792582011581\n",
      "20181116-20181130 0.008820059157016264 -0.0017875242688114193\n",
      "20181203-20181214 -0.08420009378968411 -0.0858061922137702\n",
      "20181217-20181231 -0.04260201275399443 -0.03762336472178846\n"
     ]
    }
   ],
   "source": [
    "s=20\n",
    "print('Period                 Index                      Benchmark')\n",
    "P=[pool_p1,pool_p2,pool_p3,pool_p4,pool_p5,pool_p6]\n",
    "M=[macd_p1,macd_p2,macd_p3,macd_p4,macd_p5,macd_p6]\n",
    "for i in range(5):\n",
    "    period=testdates[i][0]+'-'+testdates[i][1]\n",
    "    dd = sorted(P[i].items(), key=lambda x: x[1],reverse=True)\n",
    "    pool1=[pair[0] for pair in dd[s:2*s] if pair[1]>0 and M[i][pair[0]]>0]\n",
    "    performance=sum([P[i+1][n] for n in pool1])/float(s)\n",
    "    benchmark=sum(P[i+1].values())/len(P[i+1].keys())\n",
    "    print(period,benchmark,performance)"
   ]
  },
  {
   "cell_type": "code",
   "execution_count": 97,
   "metadata": {},
   "outputs": [
    {
     "name": "stdout",
     "output_type": "stream",
     "text": [
      "Period                  Index                NN Balanced                  NN Weighted\n",
      "20181016-20181031 -0.01874447243820561 0.04382710073100828 0.05285958250948853\n",
      "20181101-20181115 0.00958486895368256 0.04577343961148787 0.04646318665169146\n",
      "20181116-20181130 0.008820059157016264 0.008156944042465714 0.007754009027807398\n",
      "20181203-20181214 -0.08420009378968411 -0.03833247158435071 -0.045225643416775756\n",
      "20181217-20181231 -0.04260201275399443 -0.037161334639139516 -0.03780511838466882\n"
     ]
    }
   ],
   "source": [
    "P=[pool_p1,pool_p2,pool_p3,pool_p4,pool_p5,pool_p6]\n",
    "H=[p1,p2,p3,p4,p5]\n",
    "Long=[]\n",
    "print('Period                  Index                NN Balanced                  NN Weighted')\n",
    "for i in range(5):\n",
    "    period=testdates[i][0]+'-'+testdates[i][1]\n",
    "    pool_pred={}\n",
    "    y_pred=model_2.predict(np.array(H[i]))\n",
    "    for j in range(len(Dict_.keys())):\n",
    "        pool_pred[list(Dict_.keys())[j]]=y_pred[j]\n",
    "    s=20\n",
    "    dd = sorted(pool_pred.items(), key=lambda x: x[1],reverse=True)\n",
    "    pool=[pair[0] for pair in dd[0:s] if pair[1]>0]\n",
    "    mu=[pair[1][0] for pair in dd[0:s] if pair[1]>0]\n",
    "    Long.append((pool,mu))\n",
    "    performance=sum([P[i+1][n] for n in pool])/float(len(pool))\n",
    "    performance2=sum([P[i+1][n]*pool_pred[n][0] for n in pool])/float(np.sum(mu));\n",
    "    benchmark=sum(P[i+1].values())/len(P[i+1].keys())\n",
    "    print(period,benchmark,performance,performance2)"
   ]
  },
  {
   "cell_type": "code",
   "execution_count": 98,
   "metadata": {},
   "outputs": [
    {
     "name": "stdout",
     "output_type": "stream",
     "text": [
      "Index                     NN L&S\n",
      "-0.01874447243820561 0.08553714596870396\n",
      "0.00958486895368256 0.055104400332864636\n",
      "0.008820059157016264 0.044555083751844395\n",
      "-0.08420009378968411 0.06537967060779784\n",
      "-0.04260201275399443 0.030780713310408415\n"
     ]
    }
   ],
   "source": [
    "P=[pool_p1,pool_p2,pool_p3,pool_p4,pool_p5,pool_p6]\n",
    "H=[p1,p2,p3,p4,p5]\n",
    "print('Index                     NN L&S')\n",
    "for i in range(5):\n",
    "    pool_pred={}\n",
    "    y_pred=model_2.predict(np.array(H[i]))\n",
    "    for j in range(len(Dict_.keys())):\n",
    "        pool_pred[list(Dict_.keys())[j]]=y_pred[j]\n",
    "    s=20\n",
    "    dd = sorted(pool_pred.items(), key=lambda x: x[1],reverse=True)\n",
    "    pool_l=[pair[0] for pair in dd[0:s] if pair[1]>0]\n",
    "    pool_s=[pair[0] for pair in dd[-s:] if pair[1]<0]\n",
    "    #print('Long:')\n",
    "    #print(pool_l)\n",
    "    #print('Short:')\n",
    "    #print(pool_s)\n",
    "    performance=(-sum([P[i+1][n] for n in pool_s])+sum([P[i+1][n] for n in pool_l]))/float(len(pool_l)+len(pool_s))\n",
    "    benchmark=sum(P[i+1].values())/len(P[i+1].keys())\n",
    "    print(benchmark,performance)"
   ]
  },
  {
   "cell_type": "markdown",
   "metadata": {},
   "source": [
    "Another Model With different architecture"
   ]
  },
  {
   "cell_type": "code",
   "execution_count": 102,
   "metadata": {},
   "outputs": [],
   "source": [
    "data2=[]\n",
    "q1=[]\n",
    "q2=[]\n",
    "q3=[]\n",
    "q4=[]\n",
    "q5=[]\n",
    "for name in Dict_.keys():\n",
    "    cur=Dict_[name]\n",
    "    C=np.array(cur['Close'])\n",
    "    h=11\n",
    "    for i in range(h-1,len(C)-10):\n",
    "        vec=[]\n",
    "        for j in ['EMA','MACD','SMI','SO','RSI','Close']:\n",
    "            vec+=list(np.array(cur[j])[i-h+1:i+1])\n",
    "        #vec.append((C[i]-C[i-h])/C[i-h])\n",
    "        vec.append((C[i+10]-C[i])/C[i])\n",
    "        if i!=52:\n",
    "            data2.append(vec)\n",
    "        if i==10:\n",
    "            q1.append(vec[:-1])\n",
    "        elif i==22:\n",
    "            q2.append(vec[:-1])\n",
    "        elif i==33:\n",
    "            q3.append(vec[:-1])\n",
    "        elif i==43:\n",
    "            q4.append(vec[:-1])\n",
    "        elif i==52:\n",
    "            q5.append(vec[:-1])\n",
    "from sklearn.preprocessing import StandardScaler\n",
    "scaler = StandardScaler()\n",
    "data2=np.array(data2)\n",
    "#data=scaler.fit_transform(data)\n",
    "np.random.shuffle(data2)\n",
    "size=int(0.8*len(data2))\n",
    "X_train2=data2[0:size,0:-1]\n",
    "y_train2=data2[0:size,-1]\n",
    "X_test2=data2[size:,0:-1]\n",
    "y_test2=data2[size:,-1]\n",
    "\n"
   ]
  },
  {
   "cell_type": "code",
   "execution_count": 110,
   "metadata": {},
   "outputs": [],
   "source": [
    "model_3 = Sequential()\n",
    "model_3.add(Dense(100, input_dim=X_train2.shape[1], activation='sigmoid'))\n",
    "model_3.add(Dense(60,activation='sigmoid'))\n",
    "model_3.add(Dense(20,activation='sigmoid'))\n",
    "model_3.add(Dense(1))\n",
    "\n",
    "model_3.compile(loss='mean_squared_error', optimizer='adam')"
   ]
  },
  {
   "cell_type": "code",
   "execution_count": 111,
   "metadata": {},
   "outputs": [
    {
     "name": "stdout",
     "output_type": "stream",
     "text": [
      "Train on 16154 samples, validate on 4039 samples\n",
      "Epoch 1/150\n",
      "16154/16154 [==============================] - 0s 31us/step - loss: 0.0235 - val_loss: 0.0074\n",
      "Epoch 2/150\n",
      "16154/16154 [==============================] - 0s 5us/step - loss: 0.0100 - val_loss: 0.0068\n",
      "Epoch 3/150\n",
      "16154/16154 [==============================] - 0s 6us/step - loss: 0.0078 - val_loss: 0.0066\n",
      "Epoch 4/150\n",
      "16154/16154 [==============================] - 0s 6us/step - loss: 0.0068 - val_loss: 0.0064\n",
      "Epoch 5/150\n",
      "16154/16154 [==============================] - 0s 6us/step - loss: 0.0063 - val_loss: 0.0064\n",
      "Epoch 6/150\n",
      "16154/16154 [==============================] - 0s 6us/step - loss: 0.0060 - val_loss: 0.0062\n",
      "Epoch 7/150\n",
      "16154/16154 [==============================] - 0s 6us/step - loss: 0.0059 - val_loss: 0.0062\n",
      "Epoch 8/150\n",
      "16154/16154 [==============================] - 0s 6us/step - loss: 0.0058 - val_loss: 0.0061\n",
      "Epoch 9/150\n",
      "16154/16154 [==============================] - 0s 5us/step - loss: 0.0057 - val_loss: 0.0061\n",
      "Epoch 10/150\n",
      "16154/16154 [==============================] - 0s 6us/step - loss: 0.0057 - val_loss: 0.0061\n",
      "Epoch 11/150\n",
      "16154/16154 [==============================] - 0s 5us/step - loss: 0.0057 - val_loss: 0.0061\n",
      "Epoch 12/150\n",
      "16154/16154 [==============================] - 0s 5us/step - loss: 0.0056 - val_loss: 0.0061\n",
      "Epoch 13/150\n",
      "16154/16154 [==============================] - 0s 5us/step - loss: 0.0056 - val_loss: 0.0061\n",
      "Epoch 14/150\n",
      "16154/16154 [==============================] - 0s 5us/step - loss: 0.0056 - val_loss: 0.0060\n",
      "Epoch 15/150\n",
      "16154/16154 [==============================] - 0s 5us/step - loss: 0.0056 - val_loss: 0.0060\n",
      "Epoch 16/150\n",
      "16154/16154 [==============================] - 0s 6us/step - loss: 0.0055 - val_loss: 0.0060\n",
      "Epoch 17/150\n",
      "16154/16154 [==============================] - 0s 5us/step - loss: 0.0055 - val_loss: 0.0059\n",
      "Epoch 18/150\n",
      "16154/16154 [==============================] - 0s 5us/step - loss: 0.0055 - val_loss: 0.0060\n",
      "Epoch 19/150\n",
      "16154/16154 [==============================] - 0s 5us/step - loss: 0.0055 - val_loss: 0.0059\n",
      "Epoch 20/150\n",
      "16154/16154 [==============================] - 0s 6us/step - loss: 0.0054 - val_loss: 0.0059\n",
      "Epoch 21/150\n",
      "16154/16154 [==============================] - 0s 5us/step - loss: 0.0055 - val_loss: 0.0059\n",
      "Epoch 22/150\n",
      "16154/16154 [==============================] - 0s 6us/step - loss: 0.0054 - val_loss: 0.0059\n",
      "Epoch 23/150\n",
      "16154/16154 [==============================] - 0s 6us/step - loss: 0.0054 - val_loss: 0.0059\n",
      "Epoch 24/150\n",
      "16154/16154 [==============================] - 0s 6us/step - loss: 0.0054 - val_loss: 0.0059\n",
      "Epoch 25/150\n",
      "16154/16154 [==============================] - 0s 6us/step - loss: 0.0054 - val_loss: 0.0059\n",
      "Epoch 26/150\n",
      "16154/16154 [==============================] - 0s 5us/step - loss: 0.0054 - val_loss: 0.0059\n",
      "Epoch 27/150\n",
      "16154/16154 [==============================] - 0s 6us/step - loss: 0.0054 - val_loss: 0.0059\n",
      "Epoch 28/150\n",
      "16154/16154 [==============================] - 0s 6us/step - loss: 0.0053 - val_loss: 0.0058\n",
      "Epoch 29/150\n",
      "16154/16154 [==============================] - 0s 7us/step - loss: 0.0053 - val_loss: 0.0058\n",
      "Epoch 30/150\n",
      "16154/16154 [==============================] - 0s 6us/step - loss: 0.0053 - val_loss: 0.0059\n",
      "Epoch 31/150\n",
      "16154/16154 [==============================] - 0s 5us/step - loss: 0.0053 - val_loss: 0.0059\n",
      "Epoch 32/150\n",
      "16154/16154 [==============================] - 0s 6us/step - loss: 0.0053 - val_loss: 0.0058\n",
      "Epoch 33/150\n",
      "16154/16154 [==============================] - 0s 6us/step - loss: 0.0053 - val_loss: 0.0058\n",
      "Epoch 34/150\n",
      "16154/16154 [==============================] - 0s 6us/step - loss: 0.0053 - val_loss: 0.0058\n",
      "Epoch 35/150\n",
      "16154/16154 [==============================] - 0s 5us/step - loss: 0.0053 - val_loss: 0.0058\n",
      "Epoch 36/150\n",
      "16154/16154 [==============================] - 0s 5us/step - loss: 0.0052 - val_loss: 0.0058\n",
      "Epoch 37/150\n",
      "16154/16154 [==============================] - 0s 6us/step - loss: 0.0052 - val_loss: 0.0057\n",
      "Epoch 38/150\n",
      "16154/16154 [==============================] - 0s 5us/step - loss: 0.0052 - val_loss: 0.0057\n",
      "Epoch 39/150\n",
      "16154/16154 [==============================] - 0s 6us/step - loss: 0.0052 - val_loss: 0.0057\n",
      "Epoch 40/150\n",
      "16154/16154 [==============================] - 0s 6us/step - loss: 0.0052 - val_loss: 0.0058\n",
      "Epoch 41/150\n",
      "16154/16154 [==============================] - 0s 5us/step - loss: 0.0052 - val_loss: 0.0057\n",
      "Epoch 42/150\n",
      "16154/16154 [==============================] - 0s 5us/step - loss: 0.0052 - val_loss: 0.0057\n",
      "Epoch 43/150\n",
      "16154/16154 [==============================] - 0s 5us/step - loss: 0.0051 - val_loss: 0.0057\n",
      "Epoch 44/150\n",
      "16154/16154 [==============================] - 0s 5us/step - loss: 0.0051 - val_loss: 0.0057\n",
      "Epoch 45/150\n",
      "16154/16154 [==============================] - 0s 5us/step - loss: 0.0051 - val_loss: 0.0057\n",
      "Epoch 46/150\n",
      "16154/16154 [==============================] - 0s 5us/step - loss: 0.0051 - val_loss: 0.0056\n",
      "Epoch 47/150\n",
      "16154/16154 [==============================] - 0s 5us/step - loss: 0.0051 - val_loss: 0.0056\n",
      "Epoch 48/150\n",
      "16154/16154 [==============================] - 0s 5us/step - loss: 0.0051 - val_loss: 0.0056\n",
      "Epoch 49/150\n",
      "16154/16154 [==============================] - 0s 5us/step - loss: 0.0050 - val_loss: 0.0056\n",
      "Epoch 50/150\n",
      "16154/16154 [==============================] - 0s 5us/step - loss: 0.0051 - val_loss: 0.0057\n",
      "Epoch 51/150\n",
      "16154/16154 [==============================] - 0s 5us/step - loss: 0.0051 - val_loss: 0.0057\n",
      "Epoch 52/150\n",
      "16154/16154 [==============================] - 0s 5us/step - loss: 0.0051 - val_loss: 0.0056\n",
      "Epoch 53/150\n",
      "16154/16154 [==============================] - 0s 5us/step - loss: 0.0050 - val_loss: 0.0056\n",
      "Epoch 54/150\n",
      "16154/16154 [==============================] - 0s 5us/step - loss: 0.0050 - val_loss: 0.0056\n",
      "Epoch 55/150\n",
      "16154/16154 [==============================] - 0s 5us/step - loss: 0.0050 - val_loss: 0.0056\n",
      "Epoch 56/150\n",
      "16154/16154 [==============================] - 0s 5us/step - loss: 0.0050 - val_loss: 0.0056\n",
      "Epoch 57/150\n",
      "16154/16154 [==============================] - 0s 6us/step - loss: 0.0050 - val_loss: 0.0056\n",
      "Epoch 58/150\n",
      "16154/16154 [==============================] - 0s 5us/step - loss: 0.0050 - val_loss: 0.0059\n",
      "Epoch 59/150\n",
      "16154/16154 [==============================] - 0s 5us/step - loss: 0.0051 - val_loss: 0.0058\n",
      "Epoch 60/150\n",
      "16154/16154 [==============================] - 0s 5us/step - loss: 0.0051 - val_loss: 0.0056\n",
      "Epoch 61/150\n",
      "16154/16154 [==============================] - 0s 5us/step - loss: 0.0051 - val_loss: 0.0057\n",
      "Epoch 62/150\n",
      "16154/16154 [==============================] - 0s 5us/step - loss: 0.0050 - val_loss: 0.0056\n",
      "Epoch 63/150\n",
      "16154/16154 [==============================] - 0s 5us/step - loss: 0.0049 - val_loss: 0.0055\n",
      "Epoch 64/150\n",
      "16154/16154 [==============================] - 0s 5us/step - loss: 0.0049 - val_loss: 0.0056\n",
      "Epoch 65/150\n",
      "16154/16154 [==============================] - 0s 5us/step - loss: 0.0049 - val_loss: 0.0055\n",
      "Epoch 66/150\n",
      "16154/16154 [==============================] - 0s 5us/step - loss: 0.0049 - val_loss: 0.0055\n",
      "Epoch 67/150\n",
      "16154/16154 [==============================] - 0s 6us/step - loss: 0.0049 - val_loss: 0.0056\n",
      "Epoch 68/150\n",
      "16154/16154 [==============================] - 0s 6us/step - loss: 0.0049 - val_loss: 0.0055\n",
      "Epoch 69/150\n",
      "16154/16154 [==============================] - 0s 5us/step - loss: 0.0049 - val_loss: 0.0056\n",
      "Epoch 70/150\n",
      "16154/16154 [==============================] - 0s 6us/step - loss: 0.0049 - val_loss: 0.0056\n",
      "Epoch 71/150\n",
      "16154/16154 [==============================] - 0s 6us/step - loss: 0.0049 - val_loss: 0.0055\n",
      "Epoch 72/150\n",
      "16154/16154 [==============================] - 0s 5us/step - loss: 0.0049 - val_loss: 0.0054\n",
      "Epoch 73/150\n",
      "16154/16154 [==============================] - 0s 6us/step - loss: 0.0049 - val_loss: 0.0055\n",
      "Epoch 74/150\n",
      "16154/16154 [==============================] - 0s 6us/step - loss: 0.0048 - val_loss: 0.0056\n",
      "Epoch 75/150\n",
      "16154/16154 [==============================] - 0s 5us/step - loss: 0.0049 - val_loss: 0.0056\n",
      "Epoch 76/150\n",
      "16154/16154 [==============================] - 0s 6us/step - loss: 0.0049 - val_loss: 0.0055\n",
      "Epoch 77/150\n",
      "16154/16154 [==============================] - 0s 5us/step - loss: 0.0049 - val_loss: 0.0055\n"
     ]
    },
    {
     "name": "stdout",
     "output_type": "stream",
     "text": [
      "Epoch 78/150\n",
      "16154/16154 [==============================] - 0s 6us/step - loss: 0.0048 - val_loss: 0.0056\n",
      "Epoch 79/150\n",
      "16154/16154 [==============================] - 0s 5us/step - loss: 0.0048 - val_loss: 0.0055\n",
      "Epoch 80/150\n",
      "16154/16154 [==============================] - 0s 7us/step - loss: 0.0048 - val_loss: 0.0055\n",
      "Epoch 81/150\n",
      "16154/16154 [==============================] - 0s 6us/step - loss: 0.0048 - val_loss: 0.0055\n",
      "Epoch 82/150\n",
      "16154/16154 [==============================] - 0s 6us/step - loss: 0.0048 - val_loss: 0.0055\n",
      "Epoch 83/150\n",
      "16154/16154 [==============================] - 0s 6us/step - loss: 0.0047 - val_loss: 0.0055\n",
      "Epoch 84/150\n",
      "16154/16154 [==============================] - 0s 5us/step - loss: 0.0048 - val_loss: 0.0055\n",
      "Epoch 85/150\n",
      "16154/16154 [==============================] - 0s 6us/step - loss: 0.0047 - val_loss: 0.0055\n",
      "Epoch 86/150\n",
      "16154/16154 [==============================] - 0s 6us/step - loss: 0.0047 - val_loss: 0.0055\n",
      "Epoch 87/150\n",
      "16154/16154 [==============================] - 0s 5us/step - loss: 0.0047 - val_loss: 0.0057\n",
      "Epoch 88/150\n",
      "16154/16154 [==============================] - 0s 6us/step - loss: 0.0048 - val_loss: 0.0055\n",
      "Epoch 89/150\n",
      "16154/16154 [==============================] - 0s 6us/step - loss: 0.0048 - val_loss: 0.0055\n",
      "Epoch 90/150\n",
      "16154/16154 [==============================] - 0s 6us/step - loss: 0.0047 - val_loss: 0.0055\n",
      "Epoch 91/150\n",
      "16154/16154 [==============================] - 0s 6us/step - loss: 0.0048 - val_loss: 0.0055\n",
      "Epoch 92/150\n",
      "16154/16154 [==============================] - 0s 7us/step - loss: 0.0047 - val_loss: 0.0055\n",
      "Epoch 93/150\n",
      "16154/16154 [==============================] - 0s 7us/step - loss: 0.0047 - val_loss: 0.0055\n",
      "Epoch 94/150\n",
      "16154/16154 [==============================] - 0s 6us/step - loss: 0.0047 - val_loss: 0.0055\n",
      "Epoch 95/150\n",
      "16154/16154 [==============================] - 0s 6us/step - loss: 0.0048 - val_loss: 0.0056\n",
      "Epoch 96/150\n",
      "16154/16154 [==============================] - 0s 6us/step - loss: 0.0048 - val_loss: 0.0057\n",
      "Epoch 97/150\n",
      "16154/16154 [==============================] - 0s 5us/step - loss: 0.0047 - val_loss: 0.0055\n",
      "Epoch 98/150\n",
      "16154/16154 [==============================] - 0s 6us/step - loss: 0.0047 - val_loss: 0.0055\n",
      "Epoch 99/150\n",
      "16154/16154 [==============================] - 0s 6us/step - loss: 0.0047 - val_loss: 0.0056\n",
      "Epoch 100/150\n",
      "16154/16154 [==============================] - 0s 5us/step - loss: 0.0047 - val_loss: 0.0055\n",
      "Epoch 101/150\n",
      "16154/16154 [==============================] - 0s 6us/step - loss: 0.0047 - val_loss: 0.0054\n",
      "Epoch 102/150\n",
      "16154/16154 [==============================] - 0s 6us/step - loss: 0.0046 - val_loss: 0.0055\n",
      "Epoch 103/150\n",
      "16154/16154 [==============================] - 0s 6us/step - loss: 0.0047 - val_loss: 0.0055\n",
      "Epoch 104/150\n",
      "16154/16154 [==============================] - 0s 6us/step - loss: 0.0046 - val_loss: 0.0055\n",
      "Epoch 105/150\n",
      "16154/16154 [==============================] - ETA: 0s - loss: 0.004 - 0s 5us/step - loss: 0.0047 - val_loss: 0.0055\n",
      "Epoch 106/150\n",
      "16154/16154 [==============================] - 0s 5us/step - loss: 0.0046 - val_loss: 0.0055\n",
      "Epoch 107/150\n",
      "16154/16154 [==============================] - 0s 6us/step - loss: 0.0046 - val_loss: 0.0054\n",
      "Epoch 108/150\n",
      "16154/16154 [==============================] - 0s 7us/step - loss: 0.0046 - val_loss: 0.0055\n",
      "Epoch 109/150\n",
      "16154/16154 [==============================] - 0s 6us/step - loss: 0.0046 - val_loss: 0.0054\n",
      "Epoch 110/150\n",
      "16154/16154 [==============================] - 0s 6us/step - loss: 0.0046 - val_loss: 0.0055\n",
      "Epoch 111/150\n",
      "16154/16154 [==============================] - 0s 5us/step - loss: 0.0045 - val_loss: 0.0054\n",
      "Epoch 112/150\n",
      "16154/16154 [==============================] - 0s 6us/step - loss: 0.0045 - val_loss: 0.0055\n",
      "Epoch 113/150\n",
      "16154/16154 [==============================] - 0s 6us/step - loss: 0.0046 - val_loss: 0.0055\n",
      "Epoch 114/150\n",
      "16154/16154 [==============================] - 0s 6us/step - loss: 0.0046 - val_loss: 0.0055\n",
      "Epoch 115/150\n",
      "16154/16154 [==============================] - 0s 6us/step - loss: 0.0046 - val_loss: 0.0056\n",
      "Epoch 116/150\n",
      "16154/16154 [==============================] - 0s 7us/step - loss: 0.0046 - val_loss: 0.0056\n",
      "Epoch 117/150\n",
      "16154/16154 [==============================] - 0s 6us/step - loss: 0.0046 - val_loss: 0.0054\n",
      "Epoch 118/150\n",
      "16154/16154 [==============================] - 0s 6us/step - loss: 0.0046 - val_loss: 0.0055\n",
      "Epoch 119/150\n",
      "16154/16154 [==============================] - 0s 6us/step - loss: 0.0046 - val_loss: 0.0059\n",
      "Epoch 120/150\n",
      "16154/16154 [==============================] - 0s 6us/step - loss: 0.0048 - val_loss: 0.0058\n",
      "Epoch 121/150\n",
      "16154/16154 [==============================] - 0s 5us/step - loss: 0.0047 - val_loss: 0.0056\n",
      "Epoch 122/150\n",
      "16154/16154 [==============================] - 0s 7us/step - loss: 0.0046 - val_loss: 0.0054\n",
      "Epoch 123/150\n",
      "16154/16154 [==============================] - 0s 9us/step - loss: 0.0046 - val_loss: 0.0054\n",
      "Epoch 124/150\n",
      "16154/16154 [==============================] - 0s 7us/step - loss: 0.0046 - val_loss: 0.0055\n",
      "Epoch 125/150\n",
      "16154/16154 [==============================] - 0s 7us/step - loss: 0.0045 - val_loss: 0.0054\n",
      "Epoch 126/150\n",
      "16154/16154 [==============================] - 0s 6us/step - loss: 0.0045 - val_loss: 0.0055\n",
      "Epoch 127/150\n",
      "16154/16154 [==============================] - 0s 7us/step - loss: 0.0045 - val_loss: 0.0054\n",
      "Epoch 128/150\n",
      "16154/16154 [==============================] - 0s 6us/step - loss: 0.0046 - val_loss: 0.0054\n",
      "Epoch 129/150\n",
      "16154/16154 [==============================] - 0s 6us/step - loss: 0.0046 - val_loss: 0.0054\n",
      "Epoch 130/150\n",
      "16154/16154 [==============================] - 0s 6us/step - loss: 0.0046 - val_loss: 0.0054\n",
      "Epoch 131/150\n",
      "16154/16154 [==============================] - 0s 6us/step - loss: 0.0046 - val_loss: 0.0057\n",
      "Epoch 132/150\n",
      "16154/16154 [==============================] - 0s 6us/step - loss: 0.0046 - val_loss: 0.0054\n",
      "Epoch 133/150\n",
      "16154/16154 [==============================] - 0s 5us/step - loss: 0.0045 - val_loss: 0.0055\n",
      "Epoch 134/150\n",
      "16154/16154 [==============================] - 0s 6us/step - loss: 0.0046 - val_loss: 0.0054\n",
      "Epoch 135/150\n",
      "16154/16154 [==============================] - 0s 6us/step - loss: 0.0046 - val_loss: 0.0054\n",
      "Epoch 136/150\n",
      "16154/16154 [==============================] - 0s 6us/step - loss: 0.0045 - val_loss: 0.0054\n",
      "Epoch 137/150\n",
      "16154/16154 [==============================] - 0s 6us/step - loss: 0.0045 - val_loss: 0.0054\n",
      "Epoch 138/150\n",
      "16154/16154 [==============================] - 0s 6us/step - loss: 0.0045 - val_loss: 0.0054\n",
      "Epoch 139/150\n",
      "16154/16154 [==============================] - 0s 7us/step - loss: 0.0045 - val_loss: 0.0055\n",
      "Epoch 140/150\n",
      "16154/16154 [==============================] - 0s 6us/step - loss: 0.0045 - val_loss: 0.0054\n",
      "Epoch 141/150\n",
      "16154/16154 [==============================] - 0s 7us/step - loss: 0.0045 - val_loss: 0.0054\n",
      "Epoch 142/150\n",
      "16154/16154 [==============================] - 0s 7us/step - loss: 0.0045 - val_loss: 0.0054\n",
      "Epoch 143/150\n",
      "16154/16154 [==============================] - 0s 8us/step - loss: 0.0045 - val_loss: 0.0054\n",
      "Epoch 144/150\n",
      "16154/16154 [==============================] - 0s 8us/step - loss: 0.0045 - val_loss: 0.0055\n",
      "Epoch 145/150\n",
      "16154/16154 [==============================] - 0s 7us/step - loss: 0.0045 - val_loss: 0.0055\n",
      "Epoch 146/150\n",
      "16154/16154 [==============================] - 0s 7us/step - loss: 0.0045 - val_loss: 0.0054\n",
      "Epoch 147/150\n",
      "16154/16154 [==============================] - 0s 7us/step - loss: 0.0045 - val_loss: 0.0054\n",
      "Epoch 148/150\n",
      "16154/16154 [==============================] - 0s 7us/step - loss: 0.0044 - val_loss: 0.0054\n",
      "Epoch 149/150\n",
      "16154/16154 [==============================] - 0s 6us/step - loss: 0.0044 - val_loss: 0.0054\n",
      "Epoch 150/150\n",
      "16154/16154 [==============================] - 0s 7us/step - loss: 0.0044 - val_loss: 0.0054\n"
     ]
    }
   ],
   "source": [
    "history=model_3.fit(X_train2,y_train2,validation_split=0.2,epochs=150,batch_size=2000,verbose=1)"
   ]
  },
  {
   "cell_type": "code",
   "execution_count": 112,
   "metadata": {},
   "outputs": [
    {
     "data": {
      "image/png": "[encoded data removed]",
      "text/plain": [
       "<Figure size 432x288 with 1 Axes>"
      ]
     },
     "metadata": {},
     "output_type": "display_data"
    }
   ],
   "source": [
    "plt.plot(history.history['loss'])\n",
    "plt.plot(history.history['val_loss'])\n",
    "plt.title('Model Loss')\n",
    "plt.ylabel('Loss')\n",
    "plt.xlabel('Epoch')\n",
    "plt.legend(['Train', 'Test'], loc='upper left')\n",
    "plt.show()\n"
   ]
  },
  {
   "cell_type": "code",
   "execution_count": 113,
   "metadata": {},
   "outputs": [
    {
     "name": "stdout",
     "output_type": "stream",
     "text": [
      "5049/5049 [==============================] - 0s 27us/step\n"
     ]
    },
    {
     "data": {
      "text/plain": [
       "0.005486141820608829"
      ]
     },
     "execution_count": 113,
     "metadata": {},
     "output_type": "execute_result"
    }
   ],
   "source": [
    "model_3.evaluate(X_test2,y_test2)"
   ]
  },
  {
   "cell_type": "code",
   "execution_count": 114,
   "metadata": {},
   "outputs": [
    {
     "data": {
      "text/plain": [
       "(0.15501946490416385, 0.288678185861154)"
      ]
     },
     "execution_count": 114,
     "metadata": {},
     "output_type": "execute_result"
    }
   ],
   "source": [
    "y_pre2=model_3.predict(X_train2)\n",
    "y_p2=model_3.predict(X_test2)\n",
    "r2_score(y_test2,y_p2),r2_score(y_train2,y_pre2)"
   ]
  },
  {
   "cell_type": "code",
   "execution_count": 115,
   "metadata": {},
   "outputs": [
    {
     "name": "stdout",
     "output_type": "stream",
     "text": [
      "Period              Index                NN Balanced                  NN Weighted\n",
      "20181016-20181031 -0.01874447243820561 0.008713255554173484 0.01870377008946259\n",
      "20181101-20181115 0.00958486895368256 0.07328915200829887 0.07239939217986273\n",
      "20181116-20181130 0.008820059157016264 0.02187881594274469 0.01760863020823628\n",
      "20181203-20181214 -0.08420009378968411 -0.056034096426600344 -0.036133326241445926\n",
      "20181217-20181231 -0.04260201275399443 -0.03822083657126945 -0.04181519789816597\n"
     ]
    }
   ],
   "source": [
    "P=[pool_p1,pool_p2,pool_p3,pool_p4,pool_p5,pool_p6]\n",
    "H2=[q1,q2,q3,q4,q5]\n",
    "Long=[]\n",
    "print('Period              Index                NN Balanced                  NN Weighted')\n",
    "for i in range(5):\n",
    "    period=testdates[i][0]+'-'+testdates[i][1]\n",
    "    pool_pred={}\n",
    "    y_pred=model_3.predict(np.array(H2[i]))\n",
    "    for j in range(len(Dict_.keys())):\n",
    "        pool_pred[list(Dict_.keys())[j]]=y_pred[j]\n",
    "    s=20\n",
    "    dd = sorted(pool_pred.items(), key=lambda x: x[1],reverse=True)\n",
    "    pool=[pair[0] for pair in dd[0:s] if pair[1]>0]\n",
    "    mu=[pair[1][0] for pair in dd[0:s] if pair[1]>0]\n",
    "    Long.append((pool,mu))\n",
    "    performance=sum([P[i+1][n] for n in pool])/float(len(pool))\n",
    "    performance2=sum([P[i+1][n]*pool_pred[n][0] for n in pool])/float(np.sum(mu));\n",
    "    benchmark=sum(P[i+1].values())/len(P[i+1].keys())\n",
    "    print(period,benchmark,performance,performance2)"
   ]
  },
  {
   "cell_type": "code",
   "execution_count": 116,
   "metadata": {},
   "outputs": [
    {
     "name": "stdout",
     "output_type": "stream",
     "text": [
      "Period               Index                     NN L&S\n",
      "20181016-20181031 -0.01874447243820561 0.07950869988606223\n",
      "20181101-20181115 0.00958486895368256 0.07539857530160865\n",
      "20181116-20181130 0.008820059157016264 0.03862810931605332\n",
      "20181203-20181214 -0.08420009378968411 0.05574385839811578\n",
      "20181217-20181231 -0.04260201275399443 0.025301983962481945\n"
     ]
    }
   ],
   "source": [
    "\n",
    "print('Period               Index                     NN L&S')\n",
    "for i in range(5):\n",
    "    pool_pred={}\n",
    "    period=testdates[i][0]+'-'+testdates[i][1]\n",
    "    y_pred=model_3.predict(np.array(H2[i]))\n",
    "    for j in range(len(Dict_.keys())):\n",
    "        pool_pred[list(Dict_.keys())[j]]=y_pred[j]\n",
    "    s=20\n",
    "    dd = sorted(pool_pred.items(), key=lambda x: x[1],reverse=True)\n",
    "    pool_l=[pair[0] for pair in dd[0:s] if pair[1]>0]\n",
    "    pool_s=[pair[0] for pair in dd[-s:] if pair[1]<0]\n",
    "    #print('Long:')\n",
    "    #print(pool_l)\n",
    "    #print('Short:')\n",
    "    #print(pool_s)\n",
    "    performance=(-sum([P[i+1][n] for n in pool_s])+sum([P[i+1][n] for n in pool_l]))/float(len(pool_l)+len(pool_s))\n",
    "    benchmark=sum(P[i+1].values())/len(P[i+1].keys())\n",
    "    print(period,benchmark,performance)"
   ]
  },
  {
   "cell_type": "markdown",
   "metadata": {},
   "source": [
    "# Markowitz Portfolio (TODO)"
   ]
  },
  {
   "cell_type": "code",
   "execution_count": 227,
   "metadata": {},
   "outputs": [],
   "source": [
    "port1=Long[4][0]\n",
    "mu=Long[4][1]\n",
    "D=[]\n",
    "for n in port1:\n",
    "    C=np.array(Dict_[n]['Close'])[:53]\n",
    "    R=[(C[i+1]-C[i])/C[i] for i in range(len(C)-1)]\n",
    "    D.append(R)\n",
    "V=np.cov(D)"
   ]
  },
  {
   "cell_type": "code",
   "execution_count": 228,
   "metadata": {},
   "outputs": [],
   "source": [
    "np.savetxt('p1mean.txt',np.array(mu)/10.0)\n",
    "np.savetxt('p1cov.txt',V)"
   ]
  },
  {
   "cell_type": "code",
   "execution_count": 229,
   "metadata": {},
   "outputs": [],
   "source": [
    "w2=np.loadtxt('P2weights.txt')"
   ]
  },
  {
   "cell_type": "code",
   "execution_count": 230,
   "metadata": {},
   "outputs": [
    {
     "data": {
      "text/plain": [
       "-0.09404203269727765"
      ]
     },
     "execution_count": 230,
     "metadata": {},
     "output_type": "execute_result"
    }
   ],
   "source": [
    "np.sum([P[5][port1[i]]*w2[i] for i in range(len(w2))])"
   ]
  },
  {
   "cell_type": "code",
   "execution_count": 232,
   "metadata": {},
   "outputs": [
    {
     "data": {
      "text/plain": [
       "-0.03628447436323676"
      ]
     },
     "execution_count": 232,
     "metadata": {},
     "output_type": "execute_result"
    }
   ],
   "source": [
    "np.sum([P[5][n] for n in port1])/float(len(port1))"
   ]
  },
  {
   "cell_type": "code",
   "execution_count": null,
   "metadata": {},
   "outputs": [],
   "source": []
  }
 ],
 "metadata": {
  "kernelspec": {
   "display_name": "Python 3",
   "language": "python",
   "name": "python3"
  },
  "language_info": {
   "codemirror_mode": {
    "name": "ipython",
    "version": 3
   },
   "file_extension": ".py",
   "mimetype": "text/x-python",
   "name": "python",
   "nbconvert_exporter": "python",
   "pygments_lexer": "ipython3",
   "version": "3.6.2"
  }
 },
 "nbformat": 4,
 "nbformat_minor": 2
}
