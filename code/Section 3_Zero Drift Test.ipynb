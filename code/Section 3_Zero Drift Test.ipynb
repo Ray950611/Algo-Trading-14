{
 "cells": [
  {
   "cell_type": "code",
   "execution_count": 1,
   "metadata": {},
   "outputs": [],
   "source": [
    "date = '20181116'\n",
    "ticker = 'LUV'\n",
    "start = '9:30:00'\n",
    "end = '10:00:00'\n",
    "intv = 10\n",
    "freq = 'second'\n",
    "# quote_file_name = 'quote_data'\n",
    "# trade_file_name = 'trade_data'\n",
    "t_list = 'NKTR AIG AMD LUV PCH WDC NCLH CELG DWDP SPXC'\n",
    "d_list = '20181101-20181116'"
   ]
  },
  {
   "cell_type": "code",
   "execution_count": 2,
   "metadata": {},
   "outputs": [],
   "source": [
    "import pandas as pd\n",
    "import numpy as np"
   ]
  },
  {
   "cell_type": "markdown",
   "metadata": {},
   "source": [
    "# Finding optimal execution strategy over a fixed period of times for a target order via the Dynamic programming approach."
   ]
  },
  {
   "cell_type": "markdown",
   "metadata": {},
   "source": [
    "$m_t=m_{t-1}+\\mu+\\lambda s_t+e_t$"
   ]
  },
  {
   "cell_type": "markdown",
   "metadata": {},
   "source": [
    "$p_t=m_t+\\gamma s_t$"
   ]
  },
  {
   "cell_type": "markdown",
   "metadata": {},
   "source": [
    "If $\\mu=0$, $s^\\star_t=S/T$"
   ]
  },
  {
   "cell_type": "markdown",
   "metadata": {},
   "source": [
    "Else, $s^\\star_t=S(\\frac{1}{T}+\\frac{T+1-2t}{4\\gamma +2\\lambda} \\mu)$"
   ]
  },
  {
   "cell_type": "code",
   "execution_count": 3,
   "metadata": {},
   "outputs": [],
   "source": [
    "def size_optimal(T,S,mu,gamma,lbd):\n",
    "    if mu==0:\n",
    "        return np.ones(T)*S/float(T)\n",
    "    else:\n",
    "        return S*(1.0/float(T)+(T+1.)*mu/float(4*gamma+2*lbd))-np.arange(1,T+1)*S*mu/float(2*gamma+lbd)"
   ]
  },
  {
   "cell_type": "code",
   "execution_count": 4,
   "metadata": {},
   "outputs": [],
   "source": [
    "# #Ex\n",
    "# size_optimal(10,10000,0.01,0.2,0.5)"
   ]
  },
  {
   "cell_type": "markdown",
   "metadata": {},
   "source": [
    "We need good estimates of the hidden parameters which we will fit using the market quote and price data."
   ]
  },
  {
   "cell_type": "code",
   "execution_count": 5,
   "metadata": {},
   "outputs": [
    {
     "name": "stderr",
     "output_type": "stream",
     "text": [
      "/Library/Frameworks/Python.framework/Versions/3.7/lib/python3.7/site-packages/IPython/core/interactiveshell.py:3020: DtypeWarning: Columns (7) have mixed types. Specify dtype option on import or set low_memory=False.\n",
      "  interactivity=interactivity, compiler=compiler, result=result)\n"
     ]
    }
   ],
   "source": [
    "data = pd.read_csv('quote_{}.csv'.format(date, header=0))\n",
    "df = data[data.SYM_ROOT.values == ticker]"
   ]
  },
  {
   "cell_type": "code",
   "execution_count": 6,
   "metadata": {
    "scrolled": true
   },
   "outputs": [],
   "source": [
    "# df"
   ]
  },
  {
   "cell_type": "markdown",
   "metadata": {},
   "source": [
    "We select out valid data that has nonzero bid price and ask price that is not NAN. The data is merged into 10 second level frames. \n",
    "The midpoint $M_t$ is calculated as the average of bid and ask price."
   ]
  },
  {
   "cell_type": "code",
   "execution_count": 7,
   "metadata": {},
   "outputs": [],
   "source": [
    "Mt=[]\n",
    "T=[]\n",
    "for j in range(len(df['TIME_M'])):\n",
    "    \n",
    "    if np.array(df['TIME_M'])[j][:6]+'0' not in T and np.array(df['BID'])[j]>0 and np.array(df['ASK'])[j]<199999.99:       \n",
    "        T.append(np.array(df['TIME_M'])[j][:6]+'0')  \n",
    "        Mt.append(0.5*(np.array(df['BID'])[j]+np.array(df['ASK'])[j]))\n",
    "    else:\n",
    "        pass"
   ]
  },
  {
   "cell_type": "markdown",
   "metadata": {},
   "source": [
    "There are 180 periods from 9:30 to 10:00, we fill in the missing times in the original series by a forward filling method."
   ]
  },
  {
   "cell_type": "code",
   "execution_count": 8,
   "metadata": {},
   "outputs": [],
   "source": [
    "import time\n",
    "import datetime\n",
    "mt=[]\n",
    "tt=[]\n",
    "start=datetime.datetime.strptime(\"09:30:00\", \"%H:%M:%S\")\n",
    "j=0\n",
    "for i in range(180):\n",
    "    tt.append(start)\n",
    "    if start==datetime.datetime.strptime(T[j],'%H:%M:%S'):\n",
    "        mt.append(Mt[j])\n",
    "        j+=1\n",
    "    else:\n",
    "        mt.append(Mt[j])\n",
    "    start+=datetime.timedelta(0,10)"
   ]
  },
  {
   "cell_type": "code",
   "execution_count": 9,
   "metadata": {},
   "outputs": [
    {
     "data": {
      "text/plain": [
       "(180, 180)"
      ]
     },
     "execution_count": 9,
     "metadata": {},
     "output_type": "execute_result"
    }
   ],
   "source": [
    "mt=np.array(mt)\n",
    "len(mt),len(tt)"
   ]
  },
  {
   "cell_type": "code",
   "execution_count": 10,
   "metadata": {},
   "outputs": [],
   "source": [
    "data=pd.read_csv('trade_{}.csv'.format(date),header=0)\n",
    "df_t = data[data.SYM_ROOT.values == ticker]"
   ]
  },
  {
   "cell_type": "code",
   "execution_count": 11,
   "metadata": {},
   "outputs": [],
   "source": [
    "# df_t"
   ]
  },
  {
   "cell_type": "markdown",
   "metadata": {},
   "source": [
    "Merge the price data the same way as the quote and ask data, while for the size variable we sum over each 10 second period."
   ]
  },
  {
   "cell_type": "code",
   "execution_count": 12,
   "metadata": {},
   "outputs": [],
   "source": [
    "Pt=[]\n",
    "St=[]\n",
    "T2=[]\n",
    "i=-1\n",
    "for j in range(len(df_t['TIME_M'])):\n",
    "    if np.array(df_t['TIME_M'])[j][:6]+'0' not in T2:\n",
    "        i+=1\n",
    "        T2.append(np.array(df_t['TIME_M'])[j][:6]+'0')\n",
    "        Pt.append(np.array(df_t['PRICE'])[j])\n",
    "        St.append(np.array(df_t['SIZE'])[j])\n",
    "    else:\n",
    "        St[i]+=np.array(df_t['SIZE'])[j]"
   ]
  },
  {
   "cell_type": "code",
   "execution_count": 13,
   "metadata": {},
   "outputs": [
    {
     "data": {
      "text/plain": [
       "(175, 175)"
      ]
     },
     "execution_count": 13,
     "metadata": {},
     "output_type": "execute_result"
    }
   ],
   "source": [
    "len(T2),len(Pt)"
   ]
  },
  {
   "cell_type": "markdown",
   "metadata": {},
   "source": [
    "Forward filling to retain a complete series of length 180."
   ]
  },
  {
   "cell_type": "code",
   "execution_count": 14,
   "metadata": {},
   "outputs": [],
   "source": [
    "pt=[]\n",
    "st=[]\n",
    "ttt=[]\n",
    "start=datetime.datetime.strptime(\"09:30:00\", \"%H:%M:%S\")\n",
    "j=0\n",
    "for i in range(180):\n",
    "    ttt.append(start)\n",
    "    if j<len(T2):\n",
    "        if start==datetime.datetime.strptime(T2[j],'%H:%M:%S'):\n",
    "        \n",
    "            pt.append(Pt[j])\n",
    "            st.append(St[j])\n",
    "            j+=1\n",
    "        else:\n",
    "            pt.append(pt[-1])\n",
    "            st.append(0)\n",
    "    else:\n",
    "        pt.append(pt[-1])\n",
    "        st.append(0)\n",
    "    start+=datetime.timedelta(0,10)"
   ]
  },
  {
   "cell_type": "code",
   "execution_count": 15,
   "metadata": {},
   "outputs": [],
   "source": [
    "pt=np.array(pt)\n",
    "st=np.array(st)"
   ]
  },
  {
   "cell_type": "markdown",
   "metadata": {},
   "source": [
    "check that the two datasets correponds to the same time indices."
   ]
  },
  {
   "cell_type": "code",
   "execution_count": 16,
   "metadata": {},
   "outputs": [
    {
     "data": {
      "text/plain": [
       "180"
      ]
     },
     "execution_count": 16,
     "metadata": {},
     "output_type": "execute_result"
    }
   ],
   "source": [
    "common=sorted(set(tt).intersection(set(ttt)))\n",
    "len(common)"
   ]
  },
  {
   "cell_type": "markdown",
   "metadata": {},
   "source": [
    "Perform the first regression: $M_t-M_{t-1}$ vs. $S_t$"
   ]
  },
  {
   "cell_type": "code",
   "execution_count": 17,
   "metadata": {},
   "outputs": [
    {
     "name": "stdout",
     "output_type": "stream",
     "text": [
      "                            OLS Regression Results                            \n",
      "==============================================================================\n",
      "Dep. Variable:                      y   R-squared:                       0.000\n",
      "Model:                            OLS   Adj. R-squared:                 -0.005\n",
      "Method:                 Least Squares   F-statistic:                   0.04584\n",
      "Date:                Mon, 22 Apr 2019   Prob (F-statistic):              0.831\n",
      "Time:                        02:37:01   Log-Likelihood:                -597.36\n",
      "No. Observations:                 179   AIC:                             1199.\n",
      "Df Residuals:                     177   BIC:                             1205.\n",
      "Df Model:                           1                                         \n",
      "Covariance Type:            nonrobust                                         \n",
      "==============================================================================\n",
      "                 coef    std err          t      P>|t|      [0.025      0.975]\n",
      "------------------------------------------------------------------------------\n",
      "const         -0.0650      0.590     -0.110      0.912      -1.230       1.100\n",
      "x1          3.167e-05      0.000      0.214      0.831      -0.000       0.000\n",
      "==============================================================================\n",
      "Omnibus:                       48.008   Durbin-Watson:                   2.832\n",
      "Prob(Omnibus):                  0.000   Jarque-Bera (JB):             1037.893\n",
      "Skew:                          -0.042   Prob(JB):                    4.21e-226\n",
      "Kurtosis:                      14.796   Cond. No.                     4.60e+03\n",
      "==============================================================================\n",
      "\n",
      "Warnings:\n",
      "[1] Standard Errors assume that the covariance matrix of the errors is correctly specified.\n",
      "[2] The condition number is large, 4.6e+03. This might indicate that there are\n",
      "strong multicollinearity or other numerical problems.\n"
     ]
    },
    {
     "name": "stderr",
     "output_type": "stream",
     "text": [
      "/Library/Frameworks/Python.framework/Versions/3.7/lib/python3.7/site-packages/sklearn/linear_model/base.py:485: RuntimeWarning: internal gelsd driver lwork query error, required iwork dimension not returned. This is likely the result of LAPACK bug 0038, fixed in LAPACK 3.2.2 (released July 21, 2010). Falling back to 'gelss' driver.\n",
      "  linalg.lstsq(X, y)\n"
     ]
    }
   ],
   "source": [
    "from sklearn import datasets, linear_model\n",
    "from sklearn.metrics import mean_squared_error, r2_score\n",
    "import statsmodels.api as sm\n",
    "regr = linear_model.LinearRegression()\n",
    "X=st[1:].reshape(-1,1)\n",
    "y=np.diff(mt)\n",
    "regr.fit(X,y)\n",
    "mu=regr.intercept_\n",
    "lbd=regr.coef_[0]\n",
    "X2 = sm.add_constant(X)\n",
    "est = sm.OLS(y, X2)\n",
    "est2 = est.fit()\n",
    "print(est2.summary())"
   ]
  },
  {
   "cell_type": "code",
   "execution_count": 18,
   "metadata": {},
   "outputs": [
    {
     "name": "stderr",
     "output_type": "stream",
     "text": [
      "No handles with labels found to put in legend.\n"
     ]
    },
    {
     "data": {
      "image/png": "[encoded data removed]",
      "text/plain": [
       "<Figure size 1080x720 with 1 Axes>"
      ]
     },
     "metadata": {},
     "output_type": "display_data"
    }
   ],
   "source": [
    "from matplotlib import pyplot as plt\n",
    "%matplotlib inline\n",
    "plt.style.use('seaborn')\n",
    "plt.figure(figsize = (15,10))\n",
    "plt.grid(True)\n",
    "plt.title('{}_{} ---- St vs. (Mt - Mt-1)'.format(ticker, date))\n",
    "plt.scatter(st[1:].reshape(-1,1), np.diff(mt), color = 'lightcoral', alpha = 0.7)\n",
    "plt.xlabel('volume')\n",
    "plt.ylabel('1st Diff of bid-ask-midpoint')\n",
    "plt.legend()\n",
    "plt.savefig('{}_{}_1.png'.format(ticker, date))"
   ]
  },
  {
   "cell_type": "markdown",
   "metadata": {},
   "source": [
    "# Conclusion: $\\mu=0$"
   ]
  },
  {
   "cell_type": "markdown",
   "metadata": {},
   "source": [
    "Second regression on $P_T-M_t$ vs $S_t$"
   ]
  },
  {
   "cell_type": "code",
   "execution_count": 19,
   "metadata": {},
   "outputs": [
    {
     "data": {
      "text/plain": [
       "LinearRegression(copy_X=True, fit_intercept=True, n_jobs=None,\n",
       "         normalize=False)"
      ]
     },
     "execution_count": 19,
     "metadata": {},
     "output_type": "execute_result"
    }
   ],
   "source": [
    "regr2 = linear_model.LinearRegression()\n",
    "regr2.fit(st.reshape(-1,1),pt-mt)"
   ]
  },
  {
   "cell_type": "code",
   "execution_count": 20,
   "metadata": {},
   "outputs": [
    {
     "data": {
      "text/plain": [
       "1.8328791015460047e-05"
      ]
     },
     "execution_count": 20,
     "metadata": {},
     "output_type": "execute_result"
    }
   ],
   "source": [
    "gamma=regr2.coef_[0]\n",
    "gamma"
   ]
  },
  {
   "cell_type": "code",
   "execution_count": 21,
   "metadata": {},
   "outputs": [
    {
     "data": {
      "image/png": "[encoded data removed]",
      "text/plain": [
       "<Figure size 1080x720 with 1 Axes>"
      ]
     },
     "metadata": {},
     "output_type": "display_data"
    }
   ],
   "source": [
    "plt.style.use('seaborn')\n",
    "plt.figure(figsize = (15,10))\n",
    "plt.grid(True)\n",
    "plt.title('{}_{} ---- St vs. (Pt - Mt)'.format(ticker, date))\n",
    "plt.scatter(st.reshape(-1,1), pt-mt,color = 'lightcoral', alpha = 0.7)\n",
    "plt.xlabel('volume')\n",
    "plt.ylabel('1st Diff of bid-ask-midpoint')\n",
    "plt.savefig('{}_{}_2.png'.format(ticker, date))"
   ]
  },
  {
   "cell_type": "markdown",
   "metadata": {},
   "source": [
    "Results had we assumed these parameters"
   ]
  },
  {
   "cell_type": "code",
   "execution_count": 22,
   "metadata": {},
   "outputs": [
    {
     "data": {
      "text/plain": [
       "array([-42825622.0749901 , -33308594.94721453, -23791567.81943895,\n",
       "       -14274540.69166337,  -4757513.5638878 ,   4759513.56388779,\n",
       "        14276540.69166336,  23793567.81943894,  33310594.94721452,\n",
       "        42827622.07499009])"
      ]
     },
     "execution_count": 22,
     "metadata": {},
     "output_type": "execute_result"
    }
   ],
   "source": [
    "size_optimal(10,10000,mu,gamma,lbd)"
   ]
  },
  {
   "cell_type": "markdown",
   "metadata": {},
   "source": [
    "Clearly we have found that the market drift parameter is insignificant and had we proceeded with the classical order splitting models we will receive\n",
    "suggested implementation of executions that are not reasonable given our target. Therefore we conclude that the drift term is zero and use the average splitting strategy\n",
    "as a baseline for comparison."
   ]
  },
  {
   "cell_type": "code",
   "execution_count": null,
   "metadata": {},
   "outputs": [],
   "source": []
  }
 ],
 "metadata": {
  "kernelspec": {
   "display_name": "Python 3",
   "language": "python",
   "name": "python3"
  },
  "language_info": {
   "codemirror_mode": {
    "name": "ipython",
    "version": 3
   },
   "file_extension": ".py",
   "mimetype": "text/x-python",
   "name": "python",
   "nbconvert_exporter": "python",
   "pygments_lexer": "ipython3",
   "version": "3.6.2"
  }
 },
 "nbformat": 4,
 "nbformat_minor": 2
}
