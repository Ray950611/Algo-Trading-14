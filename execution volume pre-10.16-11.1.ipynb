{
 "cells": [
  {
   "cell_type": "markdown",
   "metadata": {},
   "source": [
    "# execution"
   ]
  },
  {
   "cell_type": "code",
   "execution_count": 1,
   "metadata": {},
   "outputs": [],
   "source": [
    "import pandas as pd\n",
    "import numpy as np"
   ]
  },
  {
   "cell_type": "code",
   "execution_count": 2,
   "metadata": {},
   "outputs": [],
   "source": [
    "L='mac symc ctb pch vtr kim ivz ctb dre anf'.upper().split(' ')"
   ]
  },
  {
   "cell_type": "code",
   "execution_count": 3,
   "metadata": {},
   "outputs": [
    {
     "name": "stderr",
     "output_type": "stream",
     "text": [
      "/anaconda3/lib/python3.6/site-packages/IPython/core/interactiveshell.py:2785: DtypeWarning: Columns (4) have mixed types. Specify dtype option on import or set low_memory=False.\n",
      "  interactivity=interactivity, compiler=compiler, result=result)\n"
     ]
    }
   ],
   "source": [
    "df=pd.read_csv('10.16_11.1.csv',header=0)"
   ]
  },
  {
   "cell_type": "code",
   "execution_count": 4,
   "metadata": {},
   "outputs": [],
   "source": [
    "def execution(target_percentage,size,real_volume,real_price):\n",
    "    i=0\n",
    "    VWAP=0\n",
    "    size_=size\n",
    "    history=[]\n",
    "    while size>0 and i<len(real_volume):\n",
    "        goal=target_percentage[i]*size_\n",
    "        if i==len(real_volume)-1:\n",
    "            \n",
    "            realized=min(size,real_volume[i])\n",
    "        else:\n",
    "            realized=min(goal,real_volume[i])\n",
    "        realized=min(realized,size)\n",
    "        VWAP+=realized*real_price[i]\n",
    "        history.append(realized)\n",
    "        \n",
    "        i+=1\n",
    "        size-=realized\n",
    "    history=np.array(history)\n",
    "    return history,size,VWAP/float(np.sum(history))\n",
    "def benchmark(size,real_volume,real_price):\n",
    "    history=np.array(real_volume)*size/float(sum(real_volume))\n",
    "    VWAP=np.sum(history*np.array(real_price))\n",
    "    return history,VWAP/float(np.sum(history))"
   ]
  },
  {
   "cell_type": "code",
   "execution_count": 5,
   "metadata": {},
   "outputs": [],
   "source": [
    "def vol_pre(table, ticker):\n",
    "    df=pd.read_csv(table,header=0)\n",
    "    vol_pre=df[ticker]\n",
    "    return vol_pre"
   ]
  },
  {
   "cell_type": "code",
   "execution_count": 6,
   "metadata": {},
   "outputs": [],
   "source": [
    "from sklearn import datasets, linear_model\n",
    "from sklearn.metrics import mean_squared_error, r2_score\n",
    "\n",
    "def VWAP_calc(ticker,capital):\n",
    "    df_t=df[df['SYM_ROOT']==ticker]\n",
    "    D=sorted(list(set(df_t['DATE'])))\n",
    "    St=[]\n",
    "    S_t=[]\n",
    "    for d in D[:-1]:\n",
    "        i=-1\n",
    "        s=[]\n",
    "        T=[]\n",
    "        df_d=df_t[df_t['DATE']==d]\n",
    "        for j in range(len(df_d['TIME_M'])):\n",
    "            \n",
    "            if len(T)>0 and (int(np.array(df_d['TIME_M'])[j][-15:-13])-int(T[-1][-2:]))>1:\n",
    "                    s.append(0)\n",
    "                   \n",
    "            if np.array(df_d['TIME_M'])[j][:-13] not in T:\n",
    "                i+=1\n",
    "                T.append(np.array(df_d['TIME_M'])[j][:-13])\n",
    "                s.append(np.array(df_d['SIZE'])[j])\n",
    "            else:\n",
    "                s[i]+=np.array(df_d['SIZE'])[j]\n",
    "        if '9:30' not in T:\n",
    "            s=[0]+s\n",
    "            \n",
    "        if len(s)==30:\n",
    "            St+=s\n",
    "#             S_t.append(s)\n",
    "    St=np.array(St,dtype=float)\n",
    "#     S_t=np.array(S_t,dtype=float)\n",
    "#     for i in range(len(S_t)):\n",
    "#         S_t[i,:]=S_t[i,:]/float(np.sum(S_t[i,:]))\n",
    "#     hist_mean=np.mean(S_t,axis=0)\n",
    "#     T=[]\n",
    "#     for i in range(int(len(St)/30)):\n",
    "#         for j in range(30):\n",
    "#             T.append(j)\n",
    "#     T=np.array(T)\n",
    "#     #print(T)\n",
    "#     X=[]\n",
    "#     for i in range(len(T)):\n",
    "#         t=T[i]\n",
    "#         X.append([t,t**2,t**3,t**4,t**5])\n",
    "#     X=np.array(X)\n",
    "#     regr = linear_model.LinearRegression()\n",
    "\n",
    "#     # Train the model using the training sets\n",
    "#     regr.fit(X,St)\n",
    "#     pred_vol=regr.predict(X[:30,:])\n",
    "    \n",
    "#     pred_mean=pred_vol/np.sum(pred_vol)\n",
    "    #print(vol_mean)\n",
    "    df_d=df_t[df_t['DATE']==D[0]]\n",
    "    T=[]\n",
    "    s_start=[]\n",
    "    p_start=[]\n",
    "    i=-1\n",
    "    for j in range(len(df_d['TIME_M'])):\n",
    "        \n",
    "        if len(T)>0 and (int(np.array(df_d['TIME_M'])[j][-15:-13])-int(T[-1][-2:]))>1:\n",
    "            \n",
    "                s_start.append(0)\n",
    "                p_start.append(p_start[-1])\n",
    "        if np.array(df_d['TIME_M'])[j][:-13] not in T:\n",
    "            \n",
    "            i+=1\n",
    "            T.append(str(np.array(df_d['TIME_M'])[j][:-13]))\n",
    "            p_start.append(np.array(df_d['PRICE'])[j])\n",
    "            s_start.append(np.array(df_d['SIZE'])[j])\n",
    "        else:\n",
    "            s_start[i]+=np.array(df_d['SIZE'])[j]\n",
    "    if '9:30' not in T:\n",
    "        s_start=[0]+s_start\n",
    "        p_start=[0]+p_start\n",
    "    df_d=df_t[df_t['DATE']==D[-1]]\n",
    "    T=[]\n",
    "    s_end=[]\n",
    "    p_end=[]\n",
    "    i=-1\n",
    "    for j in range(len(df_d['TIME_M'])):\n",
    "        \n",
    "        if len(T)>0 and (int(np.array(df_d['TIME_M'])[j][-15:-13])-int(T[-1][-2:]))>1:\n",
    "           \n",
    "                s_end.append(0)\n",
    "                p_end.append(p_end[-1])\n",
    "        if np.array(df_d['TIME_M'])[j][:-13] not in T:\n",
    "            i+=1\n",
    "            T.append(str(np.array(df_d['TIME_M'])[j][:-13]))\n",
    "            p_end.append(np.array(df_d['PRICE'])[j])\n",
    "            s_end.append(np.array(df_d['SIZE'])[j])\n",
    "        else:\n",
    "            s_end[i]+=np.array(df_d['SIZE'])[j]\n",
    "    if '9:30' not in T:\n",
    "        s_end=[0]+s_end\n",
    "        p_end=[0]+p_end\n",
    "    #print(T)\n",
    "    vol_pre_10_16=vol_pre('df_xforecast_10.16.csv',ticker)\n",
    "    vol_pre_11_1=vol_pre('df_xforecast_11.1.csv',ticker)\n",
    "    avg_vol=np.ones(30)/30\n",
    "    Dict_=np.load('data.npy').item()\n",
    "    p_d=np.array(Dict_[ticker.lower()]['Open'])[11]\n",
    "    p_s=np.array(Dict_[ticker.lower()]['Open'])[23]\n",
    "    cap=capital\n",
    "    size=int(cap/p_d)\n",
    "    hb,r,pb=execution(vol_pre_10_16,size,s_start,p_start)\n",
    "    size=int(cap/p_d)\n",
    "    hs,r,ps=execution(vol_pre_11_1,size,s_end,p_end)\n",
    "    size=int(cap/p_d)\n",
    "    hb,r,pb2=execution(avg_vol,size,s_start,p_start)\n",
    "    size=int(cap/p_d)\n",
    "    hs,r,ps2=execution(avg_vol,size,s_end,p_end)\n",
    "    h,bb=benchmark(size,s_start,p_start)\n",
    "    h,bs=benchmark(size,s_end,p_end)\n",
    "    print('2018.12.17 (Buy)Decision Price:'+str(p_d)+' Executed VWAP(volume prediction):'+str(round(pb,3))+' Executed VWAP(average volume):'+str(round(pb2,3))+' Benchmark VWAP:'+str(round(bb,3)))\n",
    "    print('2018.12.31 (Sell)Decision Price:'+str(p_s)+' Executed VWAP(volume prediction):'+str(round(ps,3))+' Executed VWAP(average volume):'+str(round(ps2,3))+' Benchmark VWAP:'+str(round(bs,3)))\n",
    "    print('IS1:'+str(((pb-p_d)*size+(p_s-ps)*size)/float(capital))+' IS2:'+str(((pb2-p_d)*size+(p_s-ps2)*size)/float(capital)))\n",
    "    return St,(size*ps-size*pb)/(size*pb),hb,hs,pb,ps,bb,bs,((bb-p_d)*size+(p_s-bs)*size)/float(capital),((pb-p_d)*size+(p_s-ps)*size)/float(capital),((pb2-p_d)*size+(p_s-ps2)*size)/float(capital)"
   ]
  },
  {
   "cell_type": "code",
   "execution_count": 7,
   "metadata": {},
   "outputs": [
    {
     "name": "stdout",
     "output_type": "stream",
     "text": [
      "ANF\n",
      "2018.12.17 (Buy)Decision Price:18.1615 Executed VWAP(volume prediction):18.167 Executed VWAP(average volume):18.168 Benchmark VWAP:18.189\n",
      "2018.12.31 (Sell)Decision Price:19.3395 Executed VWAP(volume prediction):18.596 Executed VWAP(average volume):18.602 Benchmark VWAP:18.628\n",
      "IS1:0.04123202554195545 IS2:0.040962437599999874\n",
      "IVZ\n",
      "2018.12.17 (Buy)Decision Price:19.8909 Executed VWAP(volume prediction):20.335 Executed VWAP(average volume):20.341 Benchmark VWAP:20.37\n",
      "2018.12.31 (Sell)Decision Price:21.0552 Executed VWAP(volume prediction):21.917 Executed VWAP(average volume):21.918 Benchmark VWAP:21.888\n",
      "IS1:-0.020978177322040492 IS2:-0.02077481935342877\n",
      "CTB\n",
      "2018.12.17 (Buy)Decision Price:23.6592 Executed VWAP(volume prediction):24.438 Executed VWAP(average volume):24.447 Benchmark VWAP:24.526\n",
      "2018.12.31 (Sell)Decision Price:30.9725 Executed VWAP(volume prediction):31.206 Executed VWAP(average volume):31.206 Benchmark VWAP:31.236\n",
      "IS1:0.02305527468967611 IS2:0.02342485484113464\n",
      "KIM\n",
      "2018.12.17 (Buy)Decision Price:14.9653 Executed VWAP(volume prediction):14.897 Executed VWAP(average volume):14.899 Benchmark VWAP:14.928\n",
      "2018.12.31 (Sell)Decision Price:15.7897 Executed VWAP(volume prediction):16.133 Executed VWAP(average volume):16.139 Benchmark VWAP:16.136\n",
      "IS1:-0.02749490912452146 IS2:-0.02779422446666617\n",
      "VTR\n",
      "2018.12.17 (Buy)Decision Price:52.805 Executed VWAP(volume prediction):53.962 Executed VWAP(average volume):53.962 Benchmark VWAP:53.953\n",
      "2018.12.31 (Sell)Decision Price:57.3238 Executed VWAP(volume prediction):58.069 Executed VWAP(average volume):58.087 Benchmark VWAP:58.115\n",
      "IS1:0.007789379820072342 IS2:0.00744983839999971\n",
      "DRE\n",
      "2018.12.17 (Buy)Decision Price:26.5241 Executed VWAP(volume prediction):26.807 Executed VWAP(average volume):26.808 Benchmark VWAP:26.823\n",
      "2018.12.31 (Sell)Decision Price:27.3123 Executed VWAP(volume prediction):27.695 Executed VWAP(average volume):27.703 Benchmark VWAP:27.692\n",
      "IS1:-0.003786210341376668 IS2:-0.004020202333332798\n",
      "SYMC\n",
      "2018.12.17 (Buy)Decision Price:20.1391 Executed VWAP(volume prediction):19.962 Executed VWAP(average volume):19.965 Benchmark VWAP:19.98\n",
      "2018.12.31 (Sell)Decision Price:18.1023 Executed VWAP(volume prediction):18.146 Executed VWAP(average volume):18.145 Benchmark VWAP:18.14\n",
      "IS1:-0.010976354569146862 IS2:-0.010749224999999996\n",
      "MAC\n",
      "2018.12.17 (Buy)Decision Price:48.7101 Executed VWAP(volume prediction):50.033 Executed VWAP(average volume):50.038 Benchmark VWAP:50.055\n",
      "2018.12.31 (Sell)Decision Price:50.3764 Executed VWAP(volume prediction):52.942 Executed VWAP(average volume):52.929 Benchmark VWAP:52.877\n",
      "IS1:-0.025499654634242055 IS2:-0.025124824800000004\n",
      "PCH\n",
      "2018.12.17 (Buy)Decision Price:34.6437 Executed VWAP(volume prediction):35.276 Executed VWAP(average volume):35.279 Benchmark VWAP:35.271\n",
      "2018.12.31 (Sell)Decision Price:35.5523 Executed VWAP(volume prediction):36.517 Executed VWAP(average volume):36.517 Benchmark VWAP:36.456\n",
      "IS1:-0.009587357077298136 IS2:-0.009523975564499769\n"
     ]
    }
   ],
   "source": [
    "shortfall=[]\n",
    "shortfall2=[]\n",
    "benchmark_sf=[]\n",
    "for i in set(L):\n",
    "  \n",
    "    print(i)\n",
    "    record=VWAP_calc(i,L.count(i)*100000)\n",
    "    IS=record[-1]\n",
    "    IS2=record[-2]\n",
    "    bm=record[-3]\n",
    "    shortfall.append(IS)\n",
    "    shortfall2.append(IS2)\n",
    "    benchmark_sf.append(bm)"
   ]
  },
  {
   "cell_type": "code",
   "execution_count": 8,
   "metadata": {},
   "outputs": [
    {
     "name": "stdout",
     "output_type": "stream",
     "text": [
      "Period Theoretical Return:0.0836137916348646\n",
      "Volume pre Shortfall:-0.0029162203352135307\n",
      "Average vol Shortfall:-0.0029055711863103647\n",
      "Benchmark Shortfall:-0.0016729011273954166\n"
     ]
    }
   ],
   "source": [
    "print('Period Theoretical Return:'+str(0.0836137916348646))\n",
    "print('Volume pre Shortfall:'+str(np.mean(shortfall2)))\n",
    "print('Average vol Shortfall:'+str(np.mean(shortfall)))\n",
    "print('Benchmark Shortfall:'+str(np.mean(benchmark_sf)))"
   ]
  },
  {
   "cell_type": "code",
   "execution_count": null,
   "metadata": {},
   "outputs": [],
   "source": []
  }
 ],
 "metadata": {
  "kernelspec": {
   "display_name": "Python 3",
   "language": "python",
   "name": "python3"
  },
  "language_info": {
   "codemirror_mode": {
    "name": "ipython",
    "version": 3
   },
   "file_extension": ".py",
   "mimetype": "text/x-python",
   "name": "python",
   "nbconvert_exporter": "python",
   "pygments_lexer": "ipython3",
   "version": "3.6.8"
  }
 },
 "nbformat": 4,
 "nbformat_minor": 2
}
