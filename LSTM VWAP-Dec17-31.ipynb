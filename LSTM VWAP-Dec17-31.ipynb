{
 "cells": [
  {
   "cell_type": "code",
   "execution_count": 1,
   "metadata": {},
   "outputs": [],
   "source": [
    "import pandas as pd\n",
    "import numpy as np"
   ]
  },
  {
   "cell_type": "code",
   "execution_count": 2,
   "metadata": {},
   "outputs": [],
   "source": [
    "L='fti tex tif sig hpq tjx sig fti sanm apc'.upper().split(' ')"
   ]
  },
  {
   "cell_type": "code",
   "execution_count": 9,
   "metadata": {},
   "outputs": [],
   "source": [
    "first=np.array(pred['0'])\n",
    "last=np.array(pred2['0'])"
   ]
  },
  {
   "cell_type": "code",
   "execution_count": 16,
   "metadata": {},
   "outputs": [],
   "source": [
    "df=pd.read_csv('12_new_vwap.csv',header=0)\n"
   ]
  },
  {
   "cell_type": "markdown",
   "metadata": {},
   "source": [
    "Merge the price data the same way as the quote and ask data, while for the size variable we sum over each 10 second period."
   ]
  },
  {
   "cell_type": "code",
   "execution_count": 46,
   "metadata": {},
   "outputs": [],
   "source": [
    "from sklearn import datasets, linear_model\n",
    "from sklearn.metrics import mean_squared_error, r2_score\n",
    "\n",
    "def VWAP_calc(ticker,capital):\n",
    "    pred=pd.read_csv('./LSTM result December/'+ticker+'_20181217_pred.csv')\n",
    "    pred2=pd.read_csv('./LSTM result December/'+ticker+'_20181231_pred.csv')\n",
    "    first=np.array(pred['0'])\n",
    "    last=np.array(pred2['0'])\n",
    "    df_t=df[df['SYM_ROOT']==ticker]\n",
    "    D=sorted(list(set(df_t['DATE'])))\n",
    "    #print(vol_mean)\n",
    "    df_d=df_t[df_t['DATE']==D[0]]\n",
    "    T=[]\n",
    "    s_start=[]\n",
    "    p_start=[]\n",
    "    i=-1\n",
    "    for j in range(len(df_d['TIME_M'])):\n",
    "        \n",
    "        if len(T)>0 and (int(np.array(df_d['TIME_M'])[j][-15:-13])-int(T[-1][-2:]))>1:\n",
    "            \n",
    "                s_start.append(0)\n",
    "                p_start.append(p_start[-1])\n",
    "        if np.array(df_d['TIME_M'])[j][:-13] not in T:\n",
    "            \n",
    "            i+=1\n",
    "            T.append(str(np.array(df_d['TIME_M'])[j][:-13]))\n",
    "            p_start.append(np.array(df_d['PRICE'])[j])\n",
    "            s_start.append(np.array(df_d['SIZE'])[j])\n",
    "        else:\n",
    "            s_start[i]+=np.array(df_d['SIZE'])[j]\n",
    "    if '9:30' not in T:\n",
    "        s_start=[0]+s_start\n",
    "        p_start=[0]+p_start\n",
    "    df_d=df_t[df_t['DATE']==D[-1]]\n",
    "    T=[]\n",
    "    s_end=[]\n",
    "    p_end=[]\n",
    "    i=-1\n",
    "    for j in range(len(df_d['TIME_M'])):\n",
    "        \n",
    "        if len(T)>0 and (int(np.array(df_d['TIME_M'])[j][-15:-13])-int(T[-1][-2:]))>1:\n",
    "           \n",
    "                s_end.append(0)\n",
    "                p_end.append(p_end[-1])\n",
    "        if np.array(df_d['TIME_M'])[j][:-13] not in T:\n",
    "            i+=1\n",
    "            T.append(str(np.array(df_d['TIME_M'])[j][:-13]))\n",
    "            p_end.append(np.array(df_d['PRICE'])[j])\n",
    "            s_end.append(np.array(df_d['SIZE'])[j])\n",
    "        else:\n",
    "            s_end[i]+=np.array(df_d['SIZE'])[j]\n",
    "    if '9:30' not in T:\n",
    "        s_end=[0]+s_end\n",
    "        p_end=[0]+p_end\n",
    "    #print(T)\n",
    "    Dict_=np.load('data.npy').item()\n",
    "    p_d=np.array(Dict_[ticker.lower()]['Open'])[53]\n",
    "    p_s=np.array(Dict_[ticker.lower()]['Open'])[62]\n",
    "    cap=capital\n",
    "    size=int(cap/p_d)\n",
    "    hb,r,pb=execution(first,size,s_start,p_start)\n",
    "    size=int(cap/p_d)\n",
    "    hs,r,ps=execution(last,size,s_end,p_end)\n",
    "    \n",
    "    h,bb=benchmark(size,s_start,p_start)\n",
    "    h,bs=benchmark(size,s_end,p_end)\n",
    "    print('2018.12.17 (Buy)Decision Price:'+str(p_d)+' Executed VWAP:'+str(round(pb,3))+' Benchmark VWAP:'+str(round(bb,3)))\n",
    "    print('2018.12.31 (Sell)Decision Price:'+str(p_s)+' Executed VWAP:'+str(round(ps,3))+' Benchmark VWAP:'+str(round(bs,3)))\n",
    "    print('IS1:'+str(((pb-p_d)*size+(p_s-ps)*size)/float(capital)))\n",
    "    return (size*ps-size*pb)/(size*pb),hb,hs,pb,ps,bb,bs,((bb-p_d)*size+(p_s-bs)*size)/float(capital),((pb-p_d)*size+(p_s-ps)*size)/float(capital)\n",
    "   "
   ]
  },
  {
   "cell_type": "code",
   "execution_count": 47,
   "metadata": {},
   "outputs": [
    {
     "name": "stdout",
     "output_type": "stream",
     "text": [
      "TIF\n",
      "2018.12.17 (Buy)Decision Price:81.4469 Executed VWAP:80.303 Benchmark VWAP:80.513\n",
      "2018.12.31 (Sell)Decision Price:81.34 Executed VWAP:79.664 Benchmark VWAP:79.866\n",
      "IS1:0.006517212541138244\n",
      "APC\n",
      "2018.12.17 (Buy)Decision Price:50.062 Executed VWAP:50.404 Benchmark VWAP:50.43\n",
      "2018.12.31 (Sell)Decision Price:43.6963 Executed VWAP:43.745 Benchmark VWAP:43.764\n",
      "IS1:0.005861912945845396\n",
      "SIG\n",
      "2018.12.17 (Buy)Decision Price:32.1531 Executed VWAP:31.727 Benchmark VWAP:31.774\n",
      "2018.12.31 (Sell)Decision Price:30.991 Executed VWAP:31.266 Benchmark VWAP:31.217\n",
      "IS1:-0.021807337097397534\n",
      "TJX\n",
      "2018.12.17 (Buy)Decision Price:45.7799 Executed VWAP:44.509 Benchmark VWAP:44.545\n",
      "2018.12.31 (Sell)Decision Price:44.6543 Executed VWAP:44.279 Benchmark VWAP:44.238\n",
      "IS1:-0.019556318955700803\n",
      "SANM\n",
      "2018.12.17 (Buy)Decision Price:24.28 Executed VWAP:24.083 Benchmark VWAP:24.191\n",
      "2018.12.31 (Sell)Decision Price:23.92 Executed VWAP:23.853 Benchmark VWAP:23.878\n",
      "IS1:-0.0053532148980949545\n",
      "TEX\n",
      "2018.12.17 (Buy)Decision Price:28.0689 Executed VWAP:28.224 Benchmark VWAP:28.221\n",
      "2018.12.31 (Sell)Decision Price:27.3512 Executed VWAP:27.319 Benchmark VWAP:27.402\n",
      "IS1:0.006655650366232743\n",
      "FTI\n",
      "2018.12.17 (Buy)Decision Price:19.96 Executed VWAP:19.917 Benchmark VWAP:19.909\n",
      "2018.12.31 (Sell)Decision Price:20.04 Executed VWAP:19.658 Benchmark VWAP:19.617\n",
      "IS1:0.017022642543002356\n",
      "HPQ\n",
      "2018.12.17 (Buy)Decision Price:21.7159 Executed VWAP:21.944 Benchmark VWAP:21.944\n",
      "2018.12.31 (Sell)Decision Price:20.6053 Executed VWAP:20.519 Benchmark VWAP:20.521\n",
      "IS1:0.014439753181458435\n"
     ]
    }
   ],
   "source": [
    "shortfall=[]\n",
    "benchmark_sf=[]\n",
    "for i in set(L):\n",
    "\n",
    "    print(i)\n",
    "    record=VWAP_calc(i,L.count(i)*100000)\n",
    "    IS=record[-1]*L.count(i)\n",
    "    shortfall.append(IS)\n",
    "    benchmark_sf.append(L.count(i)*record[-2])\n"
   ]
  },
  {
   "cell_type": "code",
   "execution_count": 48,
   "metadata": {},
   "outputs": [
    {
     "name": "stdout",
     "output_type": "stream",
     "text": [
      "LSTM Shortfall:-0.00012554924098891283\n",
      "Benchmark Shortfall:0.001305008355129359\n",
      "Period Theoretical Return:-0.037161334639139516\n"
     ]
    }
   ],
   "source": [
    "print('LSTM Shortfall:'+str(np.mean(shortfall)))\n",
    "print('Benchmark Shortfall:'+str(np.mean(benchmark_sf)))\n",
    "print('Period Theoretical Return:'+str(-0.037161334639139516))"
   ]
  },
  {
   "cell_type": "code",
   "execution_count": 20,
   "metadata": {},
   "outputs": [],
   "source": [
    "def execution(target_percentage,size,real_volume,real_price):\n",
    "    i=0\n",
    "    VWAP=0\n",
    "    size_=size\n",
    "    history=[]\n",
    "    while size>0 and i<len(real_volume):\n",
    "        goal=target_percentage[i]*size_\n",
    "        if i==len(real_volume)-1:\n",
    "            \n",
    "            realized=min(size,real_volume[i])\n",
    "        else:\n",
    "            realized=min(goal,real_volume[i])\n",
    "        realized=min(realized,size)\n",
    "        VWAP+=realized*real_price[i]\n",
    "        history.append(realized)\n",
    "        \n",
    "        i+=1\n",
    "        size-=realized\n",
    "    history=np.array(history)\n",
    "    return history,size,VWAP/float(np.sum(history))\n",
    "def benchmark(size,real_volume,real_price):\n",
    "    history=np.array(real_volume)*size/float(sum(real_volume))\n",
    "    VWAP=np.sum(history*np.array(real_price))\n",
    "    return history,VWAP/float(np.sum(history))\n"
   ]
  }
 ],
 "metadata": {
  "kernelspec": {
   "display_name": "Python 3",
   "language": "python",
   "name": "python3"
  },
  "language_info": {
   "codemirror_mode": {
    "name": "ipython",
    "version": 3
   },
   "file_extension": ".py",
   "mimetype": "text/x-python",
   "name": "python",
   "nbconvert_exporter": "python",
   "pygments_lexer": "ipython3",
   "version": "3.6.2"
  }
 },
 "nbformat": 4,
 "nbformat_minor": 2
}
