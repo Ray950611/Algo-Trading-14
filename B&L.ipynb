{
 "cells": [
  {
   "cell_type": "code",
   "execution_count": 3,
   "metadata": {},
   "outputs": [],
   "source": [
    "import pandas as pd\n",
    "import numpy as np"
   ]
  },
  {
   "cell_type": "markdown",
   "metadata": {},
   "source": [
    "# Finding optimal execution strategy over a fixed period of times for a target order via the Dynamic programming approach."
   ]
  },
  {
   "cell_type": "markdown",
   "metadata": {},
   "source": [
    "$m_t=m_{t-1}+\\mu+\\lambda s_t+e_t$"
   ]
  },
  {
   "cell_type": "markdown",
   "metadata": {},
   "source": [
    "$p_t=m_t+\\gamma s_t$"
   ]
  },
  {
   "cell_type": "markdown",
   "metadata": {},
   "source": [
    "If $\\mu=0$, $s^\\star_t=S/T$"
   ]
  },
  {
   "cell_type": "markdown",
   "metadata": {},
   "source": [
    "Else, $s^\\star_t=S(\\frac{1}{T}+\\frac{T+1-2t}{4\\gamma +2\\lambda} \\mu)$"
   ]
  },
  {
   "cell_type": "code",
   "execution_count": 4,
   "metadata": {},
   "outputs": [],
   "source": [
    "def size_optimal(T,S,mu,gamma,lbd):\n",
    "    if mu==0:\n",
    "        return np.ones(T)*S/float(T)\n",
    "    else:\n",
    "        return S*(1.0/float(T)+(T+1.)*mu/float(4*gamma+2*lbd))-np.arange(1,T+1)*S*mu/float(2*gamma+lbd)"
   ]
  },
  {
   "cell_type": "code",
   "execution_count": 5,
   "metadata": {},
   "outputs": [
    {
     "data": {
      "text/plain": [
       "array([1500.        , 1388.88888889, 1277.77777778, 1166.66666667,\n",
       "       1055.55555556,  944.44444444,  833.33333333,  722.22222222,\n",
       "        611.11111111,  500.        ])"
      ]
     },
     "execution_count": 5,
     "metadata": {},
     "output_type": "execute_result"
    }
   ],
   "source": [
    "#Ex\n",
    "size_optimal(10,10000,0.01,0.2,0.5)"
   ]
  },
  {
   "cell_type": "markdown",
   "metadata": {},
   "source": [
    "We need good estimates of the hidden parameters which we will fit using the market quote and price data."
   ]
  },
  {
   "cell_type": "code",
   "execution_count": 6,
   "metadata": {},
   "outputs": [],
   "source": [
    "df=pd.read_csv('A_test_quote.csv',header=0)"
   ]
  },
  {
   "cell_type": "code",
   "execution_count": 7,
   "metadata": {
    "scrolled": true
   },
   "outputs": [
    {
     "data": {
      "text/html": [
       "<div>\n",
       "<style scoped>\n",
       "    .dataframe tbody tr th:only-of-type {\n",
       "        vertical-align: middle;\n",
       "    }\n",
       "\n",
       "    .dataframe tbody tr th {\n",
       "        vertical-align: top;\n",
       "    }\n",
       "\n",
       "    .dataframe thead th {\n",
       "        text-align: right;\n",
       "    }\n",
       "</style>\n",
       "<table border=\"1\" class=\"dataframe\">\n",
       "  <thead>\n",
       "    <tr style=\"text-align: right;\">\n",
       "      <th></th>\n",
       "      <th>DATE</th>\n",
       "      <th>TIME_M</th>\n",
       "      <th>EX</th>\n",
       "      <th>BID</th>\n",
       "      <th>BIDSIZ</th>\n",
       "      <th>ASK</th>\n",
       "      <th>ASKSIZ</th>\n",
       "      <th>QU_COND</th>\n",
       "      <th>QU_SEQNUM</th>\n",
       "      <th>NATBBO_IND</th>\n",
       "      <th>QU_CANCEL</th>\n",
       "      <th>QU_SOURCE</th>\n",
       "      <th>SYM_ROOT</th>\n",
       "      <th>SYM_SUFFIX</th>\n",
       "    </tr>\n",
       "  </thead>\n",
       "  <tbody>\n",
       "    <tr>\n",
       "      <th>0</th>\n",
       "      <td>20181217</td>\n",
       "      <td>9:30:00.318357475</td>\n",
       "      <td>Y</td>\n",
       "      <td>66.29</td>\n",
       "      <td>1</td>\n",
       "      <td>71.76</td>\n",
       "      <td>1</td>\n",
       "      <td>R</td>\n",
       "      <td>15918201</td>\n",
       "      <td>A</td>\n",
       "      <td>NaN</td>\n",
       "      <td>C</td>\n",
       "      <td>A</td>\n",
       "      <td>NaN</td>\n",
       "    </tr>\n",
       "    <tr>\n",
       "      <th>1</th>\n",
       "      <td>20181217</td>\n",
       "      <td>9:30:00.760058312</td>\n",
       "      <td>X</td>\n",
       "      <td>68.61</td>\n",
       "      <td>1</td>\n",
       "      <td>69.51</td>\n",
       "      <td>3</td>\n",
       "      <td>R</td>\n",
       "      <td>15999901</td>\n",
       "      <td>A</td>\n",
       "      <td>NaN</td>\n",
       "      <td>C</td>\n",
       "      <td>A</td>\n",
       "      <td>NaN</td>\n",
       "    </tr>\n",
       "    <tr>\n",
       "      <th>2</th>\n",
       "      <td>20181217</td>\n",
       "      <td>9:30:01.005804310</td>\n",
       "      <td>N</td>\n",
       "      <td>69.05</td>\n",
       "      <td>3</td>\n",
       "      <td>69.11</td>\n",
       "      <td>1</td>\n",
       "      <td>O</td>\n",
       "      <td>16045207</td>\n",
       "      <td>G</td>\n",
       "      <td>NaN</td>\n",
       "      <td>C</td>\n",
       "      <td>A</td>\n",
       "      <td>NaN</td>\n",
       "    </tr>\n",
       "    <tr>\n",
       "      <th>3</th>\n",
       "      <td>20181217</td>\n",
       "      <td>9:30:01.006097451</td>\n",
       "      <td>P</td>\n",
       "      <td>68.62</td>\n",
       "      <td>1</td>\n",
       "      <td>69.23</td>\n",
       "      <td>1</td>\n",
       "      <td>R</td>\n",
       "      <td>16046601</td>\n",
       "      <td>A</td>\n",
       "      <td>NaN</td>\n",
       "      <td>C</td>\n",
       "      <td>A</td>\n",
       "      <td>NaN</td>\n",
       "    </tr>\n",
       "    <tr>\n",
       "      <th>4</th>\n",
       "      <td>20181217</td>\n",
       "      <td>9:30:01.006124860</td>\n",
       "      <td>P</td>\n",
       "      <td>68.62</td>\n",
       "      <td>1</td>\n",
       "      <td>70.41</td>\n",
       "      <td>1</td>\n",
       "      <td>R</td>\n",
       "      <td>16046802</td>\n",
       "      <td>A</td>\n",
       "      <td>NaN</td>\n",
       "      <td>C</td>\n",
       "      <td>A</td>\n",
       "      <td>NaN</td>\n",
       "    </tr>\n",
       "  </tbody>\n",
       "</table>\n",
       "</div>"
      ],
      "text/plain": [
       "       DATE             TIME_M EX    BID  BIDSIZ    ASK  ASKSIZ QU_COND  \\\n",
       "0  20181217  9:30:00.318357475  Y  66.29       1  71.76       1       R   \n",
       "1  20181217  9:30:00.760058312  X  68.61       1  69.51       3       R   \n",
       "2  20181217  9:30:01.005804310  N  69.05       3  69.11       1       O   \n",
       "3  20181217  9:30:01.006097451  P  68.62       1  69.23       1       R   \n",
       "4  20181217  9:30:01.006124860  P  68.62       1  70.41       1       R   \n",
       "\n",
       "   QU_SEQNUM NATBBO_IND  QU_CANCEL QU_SOURCE SYM_ROOT  SYM_SUFFIX  \n",
       "0   15918201          A        NaN         C        A         NaN  \n",
       "1   15999901          A        NaN         C        A         NaN  \n",
       "2   16045207          G        NaN         C        A         NaN  \n",
       "3   16046601          A        NaN         C        A         NaN  \n",
       "4   16046802          A        NaN         C        A         NaN  "
      ]
     },
     "execution_count": 7,
     "metadata": {},
     "output_type": "execute_result"
    }
   ],
   "source": [
    "df.head(5)"
   ]
  },
  {
   "cell_type": "markdown",
   "metadata": {},
   "source": [
    "We select out valid data that has nonzero bid price and ask price that is not NAN. The data is merged into 10 second level frames. \n",
    "The midpoint $M_t$ is calculated as the average of bid and ask price."
   ]
  },
  {
   "cell_type": "code",
   "execution_count": 8,
   "metadata": {},
   "outputs": [],
   "source": [
    "Mt=[]\n",
    "T=[]\n",
    "for j in range(len(df['TIME_M'])):\n",
    "    \n",
    "    if np.array(df['TIME_M'])[j][:6]+'0' not in T and np.array(df['BID'])[j]>0 and np.array(df['ASK'])[j]<199999.99:       \n",
    "        T.append(np.array(df['TIME_M'])[j][:6]+'0')  \n",
    "        Mt.append(0.5*(np.array(df['BID'])[j]+np.array(df['ASK'])[j]))\n",
    "    else:\n",
    "        pass"
   ]
  },
  {
   "cell_type": "markdown",
   "metadata": {},
   "source": [
    "There are 180 periods from 9:30 to 10:00, we fill in the missing times in the original series by a forward filling method."
   ]
  },
  {
   "cell_type": "code",
   "execution_count": 9,
   "metadata": {},
   "outputs": [],
   "source": [
    "import time\n",
    "import datetime\n",
    "mt=[]\n",
    "tt=[]\n",
    "start=datetime.datetime.strptime(\"09:30:00\", \"%H:%M:%S\")\n",
    "j=0\n",
    "for i in range(180):\n",
    "    tt.append(start)\n",
    "    if start==datetime.datetime.strptime(T[j],'%H:%M:%S'):\n",
    "        mt.append(Mt[j])\n",
    "        j+=1\n",
    "    else:\n",
    "        mt.append(Mt[j])\n",
    "    start+=datetime.timedelta(0,10)"
   ]
  },
  {
   "cell_type": "code",
   "execution_count": 10,
   "metadata": {},
   "outputs": [
    {
     "data": {
      "text/plain": [
       "(180, 180)"
      ]
     },
     "execution_count": 10,
     "metadata": {},
     "output_type": "execute_result"
    }
   ],
   "source": [
    "mt=np.array(mt)\n",
    "len(mt),len(tt)"
   ]
  },
  {
   "cell_type": "code",
   "execution_count": 11,
   "metadata": {},
   "outputs": [],
   "source": [
    "df_t=pd.read_csv('A_test_trade.csv',header=0)\n"
   ]
  },
  {
   "cell_type": "code",
   "execution_count": 12,
   "metadata": {},
   "outputs": [
    {
     "data": {
      "text/html": [
       "<div>\n",
       "<style scoped>\n",
       "    .dataframe tbody tr th:only-of-type {\n",
       "        vertical-align: middle;\n",
       "    }\n",
       "\n",
       "    .dataframe tbody tr th {\n",
       "        vertical-align: top;\n",
       "    }\n",
       "\n",
       "    .dataframe thead th {\n",
       "        text-align: right;\n",
       "    }\n",
       "</style>\n",
       "<table border=\"1\" class=\"dataframe\">\n",
       "  <thead>\n",
       "    <tr style=\"text-align: right;\">\n",
       "      <th></th>\n",
       "      <th>DATE</th>\n",
       "      <th>TIME_M</th>\n",
       "      <th>EX</th>\n",
       "      <th>SYM_ROOT</th>\n",
       "      <th>SYM_SUFFIX</th>\n",
       "      <th>TR_SCOND</th>\n",
       "      <th>SIZE</th>\n",
       "      <th>PRICE</th>\n",
       "      <th>TR_CORR</th>\n",
       "      <th>TR_SEQNUM</th>\n",
       "      <th>TR_SOURCE</th>\n",
       "      <th>TR_RF</th>\n",
       "    </tr>\n",
       "  </thead>\n",
       "  <tbody>\n",
       "    <tr>\n",
       "      <th>0</th>\n",
       "      <td>20181217</td>\n",
       "      <td>9:30:01.005852000</td>\n",
       "      <td>N</td>\n",
       "      <td>A</td>\n",
       "      <td>NaN</td>\n",
       "      <td>O</td>\n",
       "      <td>19875</td>\n",
       "      <td>69.11</td>\n",
       "      <td>0</td>\n",
       "      <td>279001</td>\n",
       "      <td>C</td>\n",
       "      <td>NaN</td>\n",
       "    </tr>\n",
       "    <tr>\n",
       "      <th>1</th>\n",
       "      <td>20181217</td>\n",
       "      <td>9:30:01.011290000</td>\n",
       "      <td>N</td>\n",
       "      <td>A</td>\n",
       "      <td>NaN</td>\n",
       "      <td>NaN</td>\n",
       "      <td>100</td>\n",
       "      <td>69.11</td>\n",
       "      <td>0</td>\n",
       "      <td>283401</td>\n",
       "      <td>C</td>\n",
       "      <td>NaN</td>\n",
       "    </tr>\n",
       "    <tr>\n",
       "      <th>2</th>\n",
       "      <td>20181217</td>\n",
       "      <td>9:30:01.019645000</td>\n",
       "      <td>D</td>\n",
       "      <td>A</td>\n",
       "      <td>NaN</td>\n",
       "      <td>NaN</td>\n",
       "      <td>100</td>\n",
       "      <td>69.06</td>\n",
       "      <td>0</td>\n",
       "      <td>284301</td>\n",
       "      <td>C</td>\n",
       "      <td>T</td>\n",
       "    </tr>\n",
       "    <tr>\n",
       "      <th>3</th>\n",
       "      <td>20181217</td>\n",
       "      <td>9:30:03.195176000</td>\n",
       "      <td>P</td>\n",
       "      <td>A</td>\n",
       "      <td>NaN</td>\n",
       "      <td>NaN</td>\n",
       "      <td>100</td>\n",
       "      <td>69.05</td>\n",
       "      <td>0</td>\n",
       "      <td>311701</td>\n",
       "      <td>C</td>\n",
       "      <td>NaN</td>\n",
       "    </tr>\n",
       "    <tr>\n",
       "      <th>4</th>\n",
       "      <td>20181217</td>\n",
       "      <td>9:30:03.195210000</td>\n",
       "      <td>P</td>\n",
       "      <td>A</td>\n",
       "      <td>NaN</td>\n",
       "      <td>Q</td>\n",
       "      <td>100</td>\n",
       "      <td>69.05</td>\n",
       "      <td>0</td>\n",
       "      <td>311801</td>\n",
       "      <td>C</td>\n",
       "      <td>NaN</td>\n",
       "    </tr>\n",
       "  </tbody>\n",
       "</table>\n",
       "</div>"
      ],
      "text/plain": [
       "       DATE             TIME_M EX SYM_ROOT  SYM_SUFFIX TR_SCOND   SIZE  PRICE  \\\n",
       "0  20181217  9:30:01.005852000  N        A         NaN        O  19875  69.11   \n",
       "1  20181217  9:30:01.011290000  N        A         NaN      NaN    100  69.11   \n",
       "2  20181217  9:30:01.019645000  D        A         NaN      NaN    100  69.06   \n",
       "3  20181217  9:30:03.195176000  P        A         NaN      NaN    100  69.05   \n",
       "4  20181217  9:30:03.195210000  P        A         NaN        Q    100  69.05   \n",
       "\n",
       "   TR_CORR  TR_SEQNUM TR_SOURCE TR_RF  \n",
       "0        0     279001         C   NaN  \n",
       "1        0     283401         C   NaN  \n",
       "2        0     284301         C     T  \n",
       "3        0     311701         C   NaN  \n",
       "4        0     311801         C   NaN  "
      ]
     },
     "execution_count": 12,
     "metadata": {},
     "output_type": "execute_result"
    }
   ],
   "source": [
    "df_t.head(5)"
   ]
  },
  {
   "cell_type": "markdown",
   "metadata": {},
   "source": [
    "Merge the price data the same way as the quote and ask data, while for the size variable we sum over each 10 second period."
   ]
  },
  {
   "cell_type": "code",
   "execution_count": 13,
   "metadata": {},
   "outputs": [],
   "source": [
    "Pt=[]\n",
    "St=[]\n",
    "T2=[]\n",
    "i=-1\n",
    "for j in range(len(df_t['TIME_M'])):\n",
    "    if np.array(df_t['TIME_M'])[j][:6]+'0' not in T2:\n",
    "        i+=1\n",
    "        T2.append(np.array(df_t['TIME_M'])[j][:6]+'0')\n",
    "        Pt.append(np.array(df_t['PRICE'])[j])\n",
    "        St.append(np.array(df_t['SIZE'])[j])\n",
    "    else:\n",
    "        St[i]+=np.array(df_t['SIZE'])[j]"
   ]
  },
  {
   "cell_type": "code",
   "execution_count": 14,
   "metadata": {},
   "outputs": [
    {
     "data": {
      "text/plain": [
       "(136, 136)"
      ]
     },
     "execution_count": 14,
     "metadata": {},
     "output_type": "execute_result"
    }
   ],
   "source": [
    "len(T2),len(Pt)"
   ]
  },
  {
   "cell_type": "markdown",
   "metadata": {},
   "source": [
    "Forward filling to retain a complete series of length 180."
   ]
  },
  {
   "cell_type": "code",
   "execution_count": 15,
   "metadata": {},
   "outputs": [],
   "source": [
    "pt=[]\n",
    "st=[]\n",
    "ttt=[]\n",
    "start=datetime.datetime.strptime(\"09:30:00\", \"%H:%M:%S\")\n",
    "j=0\n",
    "for i in range(180):\n",
    "    ttt.append(start)\n",
    "    if j<len(T2):\n",
    "        if start==datetime.datetime.strptime(T2[j],'%H:%M:%S'):\n",
    "        \n",
    "            pt.append(Pt[j])\n",
    "            st.append(St[j])\n",
    "            j+=1\n",
    "        else:\n",
    "            pt.append(pt[-1])\n",
    "            st.append(0)\n",
    "    else:\n",
    "        pt.append(pt[-1])\n",
    "        st.append(0)\n",
    "    start+=datetime.timedelta(0,10)"
   ]
  },
  {
   "cell_type": "code",
   "execution_count": 16,
   "metadata": {},
   "outputs": [],
   "source": [
    "pt=np.array(pt)\n",
    "st=np.array(st)"
   ]
  },
  {
   "cell_type": "markdown",
   "metadata": {},
   "source": [
    "check that the two datasets correponds to the same time indices."
   ]
  },
  {
   "cell_type": "code",
   "execution_count": 17,
   "metadata": {},
   "outputs": [
    {
     "data": {
      "text/plain": [
       "180"
      ]
     },
     "execution_count": 17,
     "metadata": {},
     "output_type": "execute_result"
    }
   ],
   "source": [
    "common=sorted(set(tt).intersection(set(ttt)))\n",
    "len(common)"
   ]
  },
  {
   "cell_type": "markdown",
   "metadata": {},
   "source": [
    "Perform the first regression: $M_t-M_{t-1}$ vs. $S_t$"
   ]
  },
  {
   "cell_type": "code",
   "execution_count": 18,
   "metadata": {},
   "outputs": [
    {
     "data": {
      "text/plain": [
       "(0.1339814147297396, -0.0002747781251320721)"
      ]
     },
     "execution_count": 18,
     "metadata": {},
     "output_type": "execute_result"
    }
   ],
   "source": [
    "from sklearn import datasets, linear_model\n",
    "from sklearn.metrics import mean_squared_error, r2_score\n",
    "regr = linear_model.LinearRegression()\n",
    "regr.fit(st[1:].reshape(-1,1),np.diff(mt))\n",
    "mu=regr.intercept_\n",
    "lbd=regr.coef_[0]\n",
    "mu,lbd"
   ]
  },
  {
   "cell_type": "code",
   "execution_count": 19,
   "metadata": {},
   "outputs": [
    {
     "data": {
      "text/plain": [
       "Text(0,0.5,'1st Diff M_t')"
      ]
     },
     "execution_count": 19,
     "metadata": {},
     "output_type": "execute_result"
    },
    {
     "data": {
      "image/png": "[encoded data removed]",
      "text/plain": [
       "<Figure size 432x288 with 1 Axes>"
      ]
     },
     "metadata": {},
     "output_type": "display_data"
    }
   ],
   "source": [
    "from matplotlib import pyplot as plt\n",
    "%matplotlib inline\n",
    "plt.plot(st[1:].reshape(-1,1),np.diff(mt),'ko')\n",
    "plt.xlabel('S_t')\n",
    "plt.ylabel('1st Diff M_t')"
   ]
  },
  {
   "cell_type": "markdown",
   "metadata": {},
   "source": [
    "Second regression on $P_T-M_t$ vs $S_t$"
   ]
  },
  {
   "cell_type": "code",
   "execution_count": 21,
   "metadata": {},
   "outputs": [
    {
     "data": {
      "text/plain": [
       "LinearRegression(copy_X=True, fit_intercept=True, n_jobs=1, normalize=False)"
      ]
     },
     "execution_count": 21,
     "metadata": {},
     "output_type": "execute_result"
    }
   ],
   "source": [
    "regr2 = linear_model.LinearRegression()\n",
    "regr2.fit(st.reshape(-1,1),pt-mt)"
   ]
  },
  {
   "cell_type": "code",
   "execution_count": 22,
   "metadata": {},
   "outputs": [
    {
     "data": {
      "text/plain": [
       "1.54804877096709e-05"
      ]
     },
     "execution_count": 22,
     "metadata": {},
     "output_type": "execute_result"
    }
   ],
   "source": [
    "gamma=regr2.coef_[0]\n",
    "gamma"
   ]
  },
  {
   "cell_type": "code",
   "execution_count": 23,
   "metadata": {},
   "outputs": [
    {
     "data": {
      "text/plain": [
       "[<matplotlib.lines.Line2D at 0x10844b74be0>]"
      ]
     },
     "execution_count": 23,
     "metadata": {},
     "output_type": "execute_result"
    },
    {
     "data": {
      "image/png": "[encoded data removed]",
      "text/plain": [
       "<Figure size 432x288 with 1 Axes>"
      ]
     },
     "metadata": {},
     "output_type": "display_data"
    }
   ],
   "source": [
    "plt.plot(st.reshape(-1,1),pt-mt,'ko')"
   ]
  },
  {
   "cell_type": "markdown",
   "metadata": {},
   "source": [
    "Results had we assumed these parameters"
   ]
  },
  {
   "cell_type": "code",
   "execution_count": 220,
   "metadata": {},
   "outputs": [
    {
     "data": {
      "text/plain": [
       "array([-24727218.13372009, -19232058.54844895, -13736898.96317782,\n",
       "        -8241739.3779067 ,  -2746579.79263557,   2748579.79263556,\n",
       "         8243739.37790669,  13738898.96317782,  19234058.54844895,\n",
       "        24729218.13372008])"
      ]
     },
     "execution_count": 220,
     "metadata": {},
     "output_type": "execute_result"
    }
   ],
   "source": [
    "size_optimal(10,10000,mu,gamma,lbd)"
   ]
  },
  {
   "cell_type": "code",
   "execution_count": null,
   "metadata": {},
   "outputs": [],
   "source": []
  }
 ],
 "metadata": {
  "kernelspec": {
   "display_name": "Python 3",
   "language": "python",
   "name": "python3"
  },
  "language_info": {
   "codemirror_mode": {
    "name": "ipython",
    "version": 3
   },
   "file_extension": ".py",
   "mimetype": "text/x-python",
   "name": "python",
   "nbconvert_exporter": "python",
   "pygments_lexer": "ipython3",
   "version": "3.6.2"
  }
 },
 "nbformat": 4,
 "nbformat_minor": 2
}
