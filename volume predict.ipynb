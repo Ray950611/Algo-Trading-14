{
 "cells": [
  {
   "cell_type": "code",
   "execution_count": 1,
   "metadata": {},
   "outputs": [],
   "source": [
    "import numpy as np\n",
    "import pandas as pd"
   ]
  },
  {
   "cell_type": "code",
   "execution_count": 2,
   "metadata": {},
   "outputs": [
    {
     "name": "stderr",
     "output_type": "stream",
     "text": [
      "/anaconda3/lib/python3.6/site-packages/IPython/core/interactiveshell.py:2785: DtypeWarning: Columns (4) have mixed types. Specify dtype option on import or set low_memory=False.\n",
      "  interactivity=interactivity, compiler=compiler, result=result)\n"
     ]
    },
    {
     "data": {
      "text/html": [
       "<div>\n",
       "<style scoped>\n",
       "    .dataframe tbody tr th:only-of-type {\n",
       "        vertical-align: middle;\n",
       "    }\n",
       "\n",
       "    .dataframe tbody tr th {\n",
       "        vertical-align: top;\n",
       "    }\n",
       "\n",
       "    .dataframe thead th {\n",
       "        text-align: right;\n",
       "    }\n",
       "</style>\n",
       "<table border=\"1\" class=\"dataframe\">\n",
       "  <thead>\n",
       "    <tr style=\"text-align: right;\">\n",
       "      <th></th>\n",
       "      <th>DATE</th>\n",
       "      <th>TIME_M</th>\n",
       "      <th>EX</th>\n",
       "      <th>SYM_ROOT</th>\n",
       "      <th>SYM_SUFFIX</th>\n",
       "      <th>TR_SCOND</th>\n",
       "      <th>SIZE</th>\n",
       "      <th>PRICE</th>\n",
       "      <th>TR_CORR</th>\n",
       "      <th>TR_SEQNUM</th>\n",
       "      <th>TR_SOURCE</th>\n",
       "      <th>TR_RF</th>\n",
       "    </tr>\n",
       "  </thead>\n",
       "  <tbody>\n",
       "    <tr>\n",
       "      <th>0</th>\n",
       "      <td>20181031</td>\n",
       "      <td>9:30:01.004813000</td>\n",
       "      <td>N</td>\n",
       "      <td>A</td>\n",
       "      <td>NaN</td>\n",
       "      <td>O</td>\n",
       "      <td>13367</td>\n",
       "      <td>64.35</td>\n",
       "      <td>0</td>\n",
       "      <td>355501</td>\n",
       "      <td>C</td>\n",
       "      <td>NaN</td>\n",
       "    </tr>\n",
       "    <tr>\n",
       "      <th>1</th>\n",
       "      <td>20181031</td>\n",
       "      <td>9:30:01.147792000</td>\n",
       "      <td>N</td>\n",
       "      <td>A</td>\n",
       "      <td>NaN</td>\n",
       "      <td>F I</td>\n",
       "      <td>65</td>\n",
       "      <td>64.55</td>\n",
       "      <td>0</td>\n",
       "      <td>370201</td>\n",
       "      <td>C</td>\n",
       "      <td>NaN</td>\n",
       "    </tr>\n",
       "    <tr>\n",
       "      <th>2</th>\n",
       "      <td>20181031</td>\n",
       "      <td>9:30:01.190804000</td>\n",
       "      <td>D</td>\n",
       "      <td>A</td>\n",
       "      <td>NaN</td>\n",
       "      <td>I</td>\n",
       "      <td>5</td>\n",
       "      <td>64.52</td>\n",
       "      <td>0</td>\n",
       "      <td>370801</td>\n",
       "      <td>C</td>\n",
       "      <td>T</td>\n",
       "    </tr>\n",
       "    <tr>\n",
       "      <th>3</th>\n",
       "      <td>20181031</td>\n",
       "      <td>9:30:01.469860000</td>\n",
       "      <td>N</td>\n",
       "      <td>A</td>\n",
       "      <td>NaN</td>\n",
       "      <td>F</td>\n",
       "      <td>100</td>\n",
       "      <td>64.47</td>\n",
       "      <td>0</td>\n",
       "      <td>375101</td>\n",
       "      <td>C</td>\n",
       "      <td>NaN</td>\n",
       "    </tr>\n",
       "    <tr>\n",
       "      <th>4</th>\n",
       "      <td>20181031</td>\n",
       "      <td>9:30:01.640534000</td>\n",
       "      <td>D</td>\n",
       "      <td>A</td>\n",
       "      <td>NaN</td>\n",
       "      <td>I</td>\n",
       "      <td>6</td>\n",
       "      <td>64.46</td>\n",
       "      <td>0</td>\n",
       "      <td>376101</td>\n",
       "      <td>C</td>\n",
       "      <td>T</td>\n",
       "    </tr>\n",
       "    <tr>\n",
       "      <th>5</th>\n",
       "      <td>20181031</td>\n",
       "      <td>9:30:09.071241000</td>\n",
       "      <td>D</td>\n",
       "      <td>A</td>\n",
       "      <td>NaN</td>\n",
       "      <td>I</td>\n",
       "      <td>1</td>\n",
       "      <td>64.35</td>\n",
       "      <td>0</td>\n",
       "      <td>428901</td>\n",
       "      <td>C</td>\n",
       "      <td>T</td>\n",
       "    </tr>\n",
       "    <tr>\n",
       "      <th>6</th>\n",
       "      <td>20181031</td>\n",
       "      <td>9:30:21.508384000</td>\n",
       "      <td>D</td>\n",
       "      <td>A</td>\n",
       "      <td>NaN</td>\n",
       "      <td>4 I</td>\n",
       "      <td>1</td>\n",
       "      <td>64.35</td>\n",
       "      <td>0</td>\n",
       "      <td>489201</td>\n",
       "      <td>C</td>\n",
       "      <td>T</td>\n",
       "    </tr>\n",
       "    <tr>\n",
       "      <th>7</th>\n",
       "      <td>20181031</td>\n",
       "      <td>9:30:30.013184000</td>\n",
       "      <td>J</td>\n",
       "      <td>A</td>\n",
       "      <td>NaN</td>\n",
       "      <td>NaN</td>\n",
       "      <td>100</td>\n",
       "      <td>64.37</td>\n",
       "      <td>0</td>\n",
       "      <td>540501</td>\n",
       "      <td>C</td>\n",
       "      <td>NaN</td>\n",
       "    </tr>\n",
       "    <tr>\n",
       "      <th>8</th>\n",
       "      <td>20181031</td>\n",
       "      <td>9:30:30.019947000</td>\n",
       "      <td>J</td>\n",
       "      <td>A</td>\n",
       "      <td>NaN</td>\n",
       "      <td>I</td>\n",
       "      <td>4</td>\n",
       "      <td>64.39</td>\n",
       "      <td>0</td>\n",
       "      <td>540701</td>\n",
       "      <td>C</td>\n",
       "      <td>NaN</td>\n",
       "    </tr>\n",
       "    <tr>\n",
       "      <th>9</th>\n",
       "      <td>20181031</td>\n",
       "      <td>9:30:35.012327000</td>\n",
       "      <td>T</td>\n",
       "      <td>A</td>\n",
       "      <td>NaN</td>\n",
       "      <td>NaN</td>\n",
       "      <td>100</td>\n",
       "      <td>64.20</td>\n",
       "      <td>0</td>\n",
       "      <td>566401</td>\n",
       "      <td>C</td>\n",
       "      <td>NaN</td>\n",
       "    </tr>\n",
       "  </tbody>\n",
       "</table>\n",
       "</div>"
      ],
      "text/plain": [
       "       DATE             TIME_M EX SYM_ROOT SYM_SUFFIX TR_SCOND   SIZE  PRICE  \\\n",
       "0  20181031  9:30:01.004813000  N        A        NaN        O  13367  64.35   \n",
       "1  20181031  9:30:01.147792000  N        A        NaN      F I     65  64.55   \n",
       "2  20181031  9:30:01.190804000  D        A        NaN        I      5  64.52   \n",
       "3  20181031  9:30:01.469860000  N        A        NaN        F    100  64.47   \n",
       "4  20181031  9:30:01.640534000  D        A        NaN        I      6  64.46   \n",
       "5  20181031  9:30:09.071241000  D        A        NaN        I      1  64.35   \n",
       "6  20181031  9:30:21.508384000  D        A        NaN      4 I      1  64.35   \n",
       "7  20181031  9:30:30.013184000  J        A        NaN      NaN    100  64.37   \n",
       "8  20181031  9:30:30.019947000  J        A        NaN        I      4  64.39   \n",
       "9  20181031  9:30:35.012327000  T        A        NaN      NaN    100  64.20   \n",
       "\n",
       "   TR_CORR  TR_SEQNUM TR_SOURCE TR_RF  \n",
       "0        0     355501         C   NaN  \n",
       "1        0     370201         C   NaN  \n",
       "2        0     370801         C     T  \n",
       "3        0     375101         C   NaN  \n",
       "4        0     376101         C     T  \n",
       "5        0     428901         C     T  \n",
       "6        0     489201         C     T  \n",
       "7        0     540501         C   NaN  \n",
       "8        0     540701         C   NaN  \n",
       "9        0     566401         C   NaN  "
      ]
     },
     "execution_count": 2,
     "metadata": {},
     "output_type": "execute_result"
    }
   ],
   "source": [
    "y = pd.read_csv(\"10.30_port.csv\") \n",
    "y.head(10)"
   ]
  },
  {
   "cell_type": "code",
   "execution_count": 3,
   "metadata": {},
   "outputs": [],
   "source": [
    "T1 = [[] for _ in range(13)]\n",
    "volume=[[] for _ in range(13)]\n",
    "k=0\n",
    "for j in y[\"SYM_ROOT\"].unique():\n",
    "    T1[k]=[]\n",
    "    volume[k]=[]\n",
    "    for i in range(len(y[\"TIME_M\"])):\n",
    "        if y[\"SYM_ROOT\"][i] == j:\n",
    "            if T1[k] == []:\n",
    "                T1[k].append(y[\"TIME_M\"][i][:5])\n",
    "                volume[k].append(y[\"SIZE\"][i])\n",
    "            elif y[\"TIME_M\"][i][:5] == T1[k][-1]:\n",
    "                volume[k][-1] += y[\"SIZE\"][i]\n",
    "            else:\n",
    "                T1[k].append(y[\"TIME_M\"][i][:5])\n",
    "                volume[k].append(y[\"SIZE\"][i])\n",
    "        else:\n",
    "            pass\n",
    "    k+=1"
   ]
  },
  {
   "cell_type": "code",
   "execution_count": 4,
   "metadata": {},
   "outputs": [],
   "source": [
    "t = []\n",
    "vol = [[] for _ in range(13)]\n",
    "for j in range(13):\n",
    "    for i in range(0,390,5):\n",
    "        vol[j].append(np.sum(volume[j][i:i+5]))\n",
    "for i in range(0,390,5):\n",
    "        t.append(T1[0][i])"
   ]
  },
  {
   "cell_type": "code",
   "execution_count": 5,
   "metadata": {},
   "outputs": [
    {
     "data": {
      "text/plain": [
       "(13, 78)"
      ]
     },
     "execution_count": 5,
     "metadata": {},
     "output_type": "execute_result"
    }
   ],
   "source": [
    "symbol=['A', 'AAPL', 'ADI', 'ADP', 'CRM', 'CVS', 'DF', 'EW', 'GE', 'GOOG',\n",
    "        'IBM', 'MSFT', 'V']\n",
    "table=pd.DataFrame(index=t,columns=symbol)\n",
    "table.head()\n",
    "len(vol),len(t)"
   ]
  },
  {
   "cell_type": "code",
   "execution_count": 6,
   "metadata": {},
   "outputs": [],
   "source": [
    "k=0\n",
    "for i in y[\"SYM_ROOT\"].unique():\n",
    "    table[i]=vol[k]\n",
    "    k+=1"
   ]
  },
  {
   "cell_type": "code",
   "execution_count": 7,
   "metadata": {},
   "outputs": [
    {
     "data": {
      "text/html": [
       "<div>\n",
       "<style scoped>\n",
       "    .dataframe tbody tr th:only-of-type {\n",
       "        vertical-align: middle;\n",
       "    }\n",
       "\n",
       "    .dataframe tbody tr th {\n",
       "        vertical-align: top;\n",
       "    }\n",
       "\n",
       "    .dataframe thead th {\n",
       "        text-align: right;\n",
       "    }\n",
       "</style>\n",
       "<table border=\"1\" class=\"dataframe\">\n",
       "  <thead>\n",
       "    <tr style=\"text-align: right;\">\n",
       "      <th></th>\n",
       "      <th>A</th>\n",
       "      <th>AAPL</th>\n",
       "      <th>ADI</th>\n",
       "      <th>ADP</th>\n",
       "      <th>CRM</th>\n",
       "      <th>CVS</th>\n",
       "      <th>DF</th>\n",
       "      <th>EW</th>\n",
       "      <th>GE</th>\n",
       "      <th>GOOG</th>\n",
       "      <th>IBM</th>\n",
       "      <th>MSFT</th>\n",
       "      <th>V</th>\n",
       "    </tr>\n",
       "  </thead>\n",
       "  <tbody>\n",
       "    <tr>\n",
       "      <th>9:30:</th>\n",
       "      <td>32887</td>\n",
       "      <td>1973358</td>\n",
       "      <td>124238</td>\n",
       "      <td>159332</td>\n",
       "      <td>171911</td>\n",
       "      <td>180339</td>\n",
       "      <td>34048</td>\n",
       "      <td>59208</td>\n",
       "      <td>6192176</td>\n",
       "      <td>150312</td>\n",
       "      <td>459736</td>\n",
       "      <td>3124793</td>\n",
       "      <td>437572</td>\n",
       "    </tr>\n",
       "    <tr>\n",
       "      <th>9:35:</th>\n",
       "      <td>31773</td>\n",
       "      <td>956465</td>\n",
       "      <td>169561</td>\n",
       "      <td>88909</td>\n",
       "      <td>85950</td>\n",
       "      <td>268919</td>\n",
       "      <td>38108</td>\n",
       "      <td>58133</td>\n",
       "      <td>3127005</td>\n",
       "      <td>82578</td>\n",
       "      <td>302009</td>\n",
       "      <td>1806670</td>\n",
       "      <td>326645</td>\n",
       "    </tr>\n",
       "    <tr>\n",
       "      <th>9:40:</th>\n",
       "      <td>27233</td>\n",
       "      <td>724810</td>\n",
       "      <td>77393</td>\n",
       "      <td>62311</td>\n",
       "      <td>117332</td>\n",
       "      <td>127523</td>\n",
       "      <td>11747</td>\n",
       "      <td>19445</td>\n",
       "      <td>4274173</td>\n",
       "      <td>137380</td>\n",
       "      <td>209605</td>\n",
       "      <td>1149928</td>\n",
       "      <td>338841</td>\n",
       "    </tr>\n",
       "    <tr>\n",
       "      <th>9:45:</th>\n",
       "      <td>37414</td>\n",
       "      <td>495944</td>\n",
       "      <td>60422</td>\n",
       "      <td>86065</td>\n",
       "      <td>125575</td>\n",
       "      <td>95077</td>\n",
       "      <td>14336</td>\n",
       "      <td>19608</td>\n",
       "      <td>2700807</td>\n",
       "      <td>84962</td>\n",
       "      <td>321531</td>\n",
       "      <td>1026095</td>\n",
       "      <td>222433</td>\n",
       "    </tr>\n",
       "    <tr>\n",
       "      <th>9:50:</th>\n",
       "      <td>23286</td>\n",
       "      <td>528442</td>\n",
       "      <td>38476</td>\n",
       "      <td>61420</td>\n",
       "      <td>102183</td>\n",
       "      <td>107093</td>\n",
       "      <td>8325</td>\n",
       "      <td>17272</td>\n",
       "      <td>3341987</td>\n",
       "      <td>44591</td>\n",
       "      <td>320309</td>\n",
       "      <td>935168</td>\n",
       "      <td>271523</td>\n",
       "    </tr>\n",
       "  </tbody>\n",
       "</table>\n",
       "</div>"
      ],
      "text/plain": [
       "           A     AAPL     ADI     ADP     CRM     CVS     DF     EW       GE  \\\n",
       "9:30:  32887  1973358  124238  159332  171911  180339  34048  59208  6192176   \n",
       "9:35:  31773   956465  169561   88909   85950  268919  38108  58133  3127005   \n",
       "9:40:  27233   724810   77393   62311  117332  127523  11747  19445  4274173   \n",
       "9:45:  37414   495944   60422   86065  125575   95077  14336  19608  2700807   \n",
       "9:50:  23286   528442   38476   61420  102183  107093   8325  17272  3341987   \n",
       "\n",
       "         GOOG     IBM     MSFT       V  \n",
       "9:30:  150312  459736  3124793  437572  \n",
       "9:35:   82578  302009  1806670  326645  \n",
       "9:40:  137380  209605  1149928  338841  \n",
       "9:45:   84962  321531  1026095  222433  \n",
       "9:50:   44591  320309   935168  271523  "
      ]
     },
     "execution_count": 7,
     "metadata": {},
     "output_type": "execute_result"
    }
   ],
   "source": [
    "table.head()"
   ]
  },
  {
   "cell_type": "markdown",
   "metadata": {},
   "source": [
    "PCA decomposition\n",
    "$x_{i,t} = c_{i,t} + y_{i,t}$\n",
    "where\n",
    "$c_{i,t} =  \\bar x_i + \\frac{1}{\\lambda_1} Cov(x_{i,t}, {C_t}^1){C_t}^1$\n",
    "$y_{i,t} = \\sum_{k>1}{\\frac{1}{\\lambda_k} Cov(x_{i,t}, {C_t}^k){C_t}^k}$"
   ]
  },
  {
   "cell_type": "code",
   "execution_count": 45,
   "metadata": {},
   "outputs": [],
   "source": [
    "from sklearn.decomposition import PCA"
   ]
  },
  {
   "cell_type": "code",
   "execution_count": 46,
   "metadata": {},
   "outputs": [
    {
     "name": "stdout",
     "output_type": "stream",
     "text": [
      "[0.8667022  0.9867969  0.99205453 0.9965099  0.99809075 0.99875918\n",
      " 0.99919163 0.99949387 0.99968393 0.99980789 0.99989322 0.99996003\n",
      " 1.        ]\n"
     ]
    }
   ],
   "source": [
    "vol=np.array(vol)\n",
    "pca=PCA()\n",
    "pca.fit(table)\n",
    "print(np.cumsum(pca.explained_variance_ratio_))"
   ]
  },
  {
   "cell_type": "code",
   "execution_count": 47,
   "metadata": {},
   "outputs": [],
   "source": [
    "u = pca.components_\n",
    "lmb = pca.singular_values_\n",
    "x = np.array(table[0:])\n",
    "C = np.dot(x, u)\n",
    "C = C.T"
   ]
  },
  {
   "cell_type": "code",
   "execution_count": 48,
   "metadata": {},
   "outputs": [
    {
     "data": {
      "text/plain": [
       "((13, 78), (78, 13))"
      ]
     },
     "execution_count": 48,
     "metadata": {},
     "output_type": "execute_result"
    }
   ],
   "source": [
    "C.shape, x.shape"
   ]
  },
  {
   "cell_type": "code",
   "execution_count": 49,
   "metadata": {},
   "outputs": [
    {
     "data": {
      "text/plain": [
       "array([10435980.52714274,  3884724.55998172,   812817.79858447,\n",
       "         748238.67973749,   445701.05786255,   289819.18913594,\n",
       "         233111.16908195,   194885.32606832,   154537.60574114,\n",
       "         124807.7775922 ,   103554.65078422,    91620.9875557 ,\n",
       "          70873.06831218])"
      ]
     },
     "execution_count": 49,
     "metadata": {},
     "output_type": "execute_result"
    }
   ],
   "source": [
    "lmb"
   ]
  },
  {
   "cell_type": "code",
   "execution_count": 50,
   "metadata": {},
   "outputs": [
    {
     "data": {
      "text/plain": [
       "array([ 32887,  31773,  27233,  37414,  23286,  33895,  17366,  22838,\n",
       "        24479,  24733,  30897,  37426,  39323,  56068,  56787,  68369,\n",
       "        67247,  34620,  42257,  56694,  36558,  24354,  82559,  39382,\n",
       "        38999,  41971,  32229,  28620,  30490, 135997,  58581,  36129,\n",
       "        26248,  32231,  24681,  24124,  32006,  36743,  22858,  25784,\n",
       "        17432,  22501,  47291,  58907,  69389,  28946,  24908,  52546,\n",
       "        15745,  16310,  19471,  53754,  27571,  33393,  22242,  30238,\n",
       "        32850,  31997,  33673,  35309,  37923,  30842,  24429,  47465,\n",
       "        77617,  34524,  47665, 131008,  25782,  31902,  51488,  32970,\n",
       "        51649,  53002,  64114, 105716,  89346, 233258])"
      ]
     },
     "execution_count": 50,
     "metadata": {},
     "output_type": "execute_result"
    }
   ],
   "source": [
    "x[:,0]"
   ]
  },
  {
   "cell_type": "code",
   "execution_count": 51,
   "metadata": {},
   "outputs": [
    {
     "data": {
      "text/plain": [
       "array([[ 1.00260704e+09, -2.03040374e+08],\n",
       "       [-2.03040374e+08,  3.54186540e+10]])"
      ]
     },
     "execution_count": 51,
     "metadata": {},
     "output_type": "execute_result"
    }
   ],
   "source": [
    "np.cov(x[:,0],C[0])"
   ]
  },
  {
   "cell_type": "code",
   "execution_count": 52,
   "metadata": {},
   "outputs": [
    {
     "data": {
      "text/plain": [
       "(78,)"
      ]
     },
     "execution_count": 52,
     "metadata": {},
     "output_type": "execute_result"
    }
   ],
   "source": [
    "c_A=np.mean(x[:,0])+1/lmb[0]*np.cov(x[:,0],C[0])[0][1]*C[0]\n",
    "c_A.shape"
   ]
  },
  {
   "cell_type": "code",
   "execution_count": 62,
   "metadata": {},
   "outputs": [
    {
     "data": {
      "text/plain": [
       "array([2.99489736e+11, 1.63158080e+11, 1.43242698e+11, 1.09687110e+11,\n",
       "       1.16706282e+11, 1.05329458e+11, 1.04493386e+11, 8.63673623e+10,\n",
       "       1.26069448e+11, 1.13324721e+11, 1.26211896e+11, 8.37836572e+10,\n",
       "       8.74587480e+10, 1.01102536e+11, 6.47005587e+10, 8.80447836e+10,\n",
       "       7.36467227e+10, 8.66136550e+10, 8.59349426e+10, 1.04536011e+11,\n",
       "       9.81379667e+10, 8.27510212e+10, 1.10774415e+11, 7.50906875e+10,\n",
       "       6.41284626e+10, 5.81391233e+10, 5.38949736e+10, 6.92739835e+10,\n",
       "       5.46197737e+10, 5.16249123e+10, 4.03793649e+10, 5.87448754e+10,\n",
       "       4.86339060e+10, 7.08466549e+10, 8.25952520e+10, 7.91722405e+10,\n",
       "       7.23201584e+10, 5.30243233e+10, 6.83002599e+10, 4.92662029e+10,\n",
       "       6.58805897e+10, 5.84403395e+10, 4.69086964e+10, 8.71491638e+10,\n",
       "       9.15026472e+10, 4.75679719e+10, 5.96081065e+10, 4.63585869e+10,\n",
       "       5.48611086e+10, 6.19245915e+10, 5.01518034e+10, 6.46746259e+10,\n",
       "       3.69879533e+10, 3.67693706e+10, 4.83477749e+10, 4.24980548e+10,\n",
       "       4.43172468e+10, 7.09247377e+10, 5.97005013e+10, 3.50204839e+10,\n",
       "       3.71564486e+10, 3.95428652e+10, 4.86766078e+10, 4.41178429e+10,\n",
       "       4.53699482e+10, 4.41476780e+10, 6.36458738e+10, 6.39905449e+10,\n",
       "       4.38894296e+10, 6.93439404e+10, 6.21716952e+10, 6.03100969e+10,\n",
       "       8.53977378e+10, 7.53680198e+10, 8.32259040e+10, 1.15569038e+11,\n",
       "       1.16745651e+11, 2.73948734e+11])"
      ]
     },
     "execution_count": 62,
     "metadata": {},
     "output_type": "execute_result"
    }
   ],
   "source": [
    "y=np.zeros(78)\n",
    "for i in range(12):\n",
    "    y+=1/lmb[i+1]*np.cov(x_A,C[i+1])[1][0]*C[i+1]\n",
    "y"
   ]
  },
  {
   "cell_type": "code",
   "execution_count": 81,
   "metadata": {},
   "outputs": [],
   "source": [
    "from statsmodels.tsa.arima_model import ARMA\n",
    "from matplotlib import pyplot as plt\n",
    "%matplotlib inline"
   ]
  },
  {
   "cell_type": "code",
   "execution_count": 82,
   "metadata": {},
   "outputs": [
    {
     "name": "stdout",
     "output_type": "stream",
     "text": [
      "                              ARMA Model Results                              \n",
      "==============================================================================\n",
      "Dep. Variable:                      y   No. Observations:                   78\n",
      "Model:                     ARMA(1, 1)   Log Likelihood               -1992.314\n",
      "Method:                       css-mle   S.D. of innovations    29458453619.983\n",
      "Date:                Fri, 19 Apr 2019   AIC                           3992.628\n",
      "Time:                        22:59:10   BIC                           4002.055\n",
      "Sample:                             0   HQIC                          3996.402\n",
      "                                                                              \n",
      "==============================================================================\n",
      "                 coef    std err          z      P>|z|      [0.025      0.975]\n",
      "------------------------------------------------------------------------------\n",
      "const       7.813e+10        nan        nan        nan         nan         nan\n",
      "ar.L1.y        0.9738        nan        nan        nan         nan         nan\n",
      "ma.L1.y       -0.1340      0.147     -0.913      0.364      -0.422       0.154\n",
      "                                    Roots                                    \n",
      "=============================================================================\n",
      "                  Real          Imaginary           Modulus         Frequency\n",
      "-----------------------------------------------------------------------------\n",
      "AR.1            1.0269           +0.0000j            1.0269            0.0000\n",
      "MA.1            7.4613           +0.0000j            7.4613            0.0000\n",
      "-----------------------------------------------------------------------------\n"
     ]
    },
    {
     "name": "stderr",
     "output_type": "stream",
     "text": [
      "/anaconda3/lib/python3.6/site-packages/statsmodels/base/model.py:488: HessianInversionWarning: Inverting hessian failed, no bse or cov_params available\n",
      "  'available', HessianInversionWarning)\n",
      "/anaconda3/lib/python3.6/site-packages/statsmodels/tsa/arima_model.py:1455: RuntimeWarning: invalid value encountered in sqrt\n",
      "  return np.sqrt(np.diag(-inv(hess)))\n",
      "/anaconda3/lib/python3.6/site-packages/scipy/stats/_distn_infrastructure.py:879: RuntimeWarning: invalid value encountered in greater\n",
      "  return (self.a < x) & (x < self.b)\n",
      "/anaconda3/lib/python3.6/site-packages/scipy/stats/_distn_infrastructure.py:879: RuntimeWarning: invalid value encountered in less\n",
      "  return (self.a < x) & (x < self.b)\n",
      "/anaconda3/lib/python3.6/site-packages/scipy/stats/_distn_infrastructure.py:1821: RuntimeWarning: invalid value encountered in less_equal\n",
      "  cond2 = cond0 & (x <= self.a)\n"
     ]
    }
   ],
   "source": [
    "model = ARMA(y, order=(1,1))\n",
    "model_fit = model.fit(disp=0)\n",
    "print(model_fit.summary())"
   ]
  },
  {
   "cell_type": "code",
   "execution_count": 83,
   "metadata": {},
   "outputs": [
    {
     "data": {
      "image/png": "[encoded data removed]",
      "text/plain": [
       "<Figure size 432x288 with 1 Axes>"
      ]
     },
     "metadata": {},
     "output_type": "display_data"
    },
    {
     "data": {
      "image/png": "[encoded data removed]",
      "text/plain": [
       "<Figure size 432x288 with 1 Axes>"
      ]
     },
     "metadata": {},
     "output_type": "display_data"
    },
    {
     "name": "stdout",
     "output_type": "stream",
     "text": [
      "                  0\n",
      "count  7.800000e+01\n",
      "mean   2.102372e+09\n",
      "std    3.835332e+10\n",
      "min   -1.284940e+11\n",
      "25%   -1.155643e+10\n",
      "50%   -1.785335e+09\n",
      "75%    1.218438e+10\n",
      "max    2.213637e+11\n"
     ]
    }
   ],
   "source": [
    "residuals = pd.DataFrame(model_fit.resid)\n",
    "residuals.plot()\n",
    "pyplot.show()\n",
    "residuals.plot(kind='kde')\n",
    "pyplot.show()\n",
    "print(residuals.describe())"
   ]
  },
  {
   "cell_type": "code",
   "execution_count": 84,
   "metadata": {},
   "outputs": [
    {
     "data": {
      "text/plain": [
       "array([2.47486733e+11, 2.43043241e+11, 2.38716332e+11, 2.34502947e+11,\n",
       "       2.30400109e+11, 2.26404916e+11, 2.22514544e+11, 2.18726244e+11,\n",
       "       2.15037336e+11, 2.11445214e+11, 2.07947338e+11, 2.04541236e+11,\n",
       "       2.01224498e+11, 1.97994782e+11, 1.94849803e+11, 1.91787339e+11,\n",
       "       1.88805224e+11, 1.85901350e+11, 1.83073665e+11, 1.80320169e+11,\n",
       "       1.77638917e+11, 1.75028012e+11, 1.72485609e+11, 1.70009910e+11,\n",
       "       1.67599167e+11, 1.65251673e+11, 1.62965771e+11, 1.60739843e+11,\n",
       "       1.58572317e+11, 1.56461660e+11, 1.54406380e+11, 1.52405024e+11,\n",
       "       1.50456177e+11, 1.48558462e+11, 1.46710537e+11, 1.44911095e+11,\n",
       "       1.43158866e+11, 1.41452609e+11, 1.39791119e+11, 1.38173222e+11,\n",
       "       1.36597773e+11, 1.35063659e+11, 1.33569795e+11, 1.32115125e+11,\n",
       "       1.30698622e+11, 1.29319283e+11, 1.27976134e+11, 1.26668224e+11,\n",
       "       1.25394630e+11, 1.24154451e+11, 1.22946811e+11, 1.21770855e+11,\n",
       "       1.20625753e+11, 1.19510694e+11, 1.18424892e+11, 1.17367577e+11,\n",
       "       1.16338003e+11, 1.15335441e+11, 1.14359184e+11, 1.13408541e+11,\n",
       "       1.12482839e+11, 1.11581425e+11, 1.10703661e+11, 1.09848927e+11,\n",
       "       1.09016619e+11, 1.08206148e+11, 1.07416941e+11, 1.06648440e+11,\n",
       "       1.05900102e+11, 1.05171399e+11, 1.04461814e+11, 1.03770846e+11,\n",
       "       1.03098008e+11, 1.02442822e+11, 1.01804827e+11, 1.01183570e+11,\n",
       "       1.00578614e+11, 9.99895293e+10])"
      ]
     },
     "execution_count": 84,
     "metadata": {},
     "output_type": "execute_result"
    }
   ],
   "source": [
    "forecast = model_fit.forecast(steps=78)[0]\n",
    "forecast"
   ]
  },
  {
   "cell_type": "code",
   "execution_count": 86,
   "metadata": {},
   "outputs": [
    {
     "data": {
      "image/png": "[encoded data removed]",
      "text/plain": [
       "<Figure size 432x288 with 1 Axes>"
      ]
     },
     "metadata": {},
     "output_type": "display_data"
    }
   ],
   "source": [
    "plt.plot(forecast)\n",
    "plt.show()"
   ]
  },
  {
   "cell_type": "code",
   "execution_count": 87,
   "metadata": {},
   "outputs": [],
   "source": [
    "x_A_pre=c_A+forecast"
   ]
  },
  {
   "cell_type": "code",
   "execution_count": 88,
   "metadata": {},
   "outputs": [
    {
     "data": {
      "image/png": "[encoded data removed]",
      "text/plain": [
       "<Figure size 432x288 with 1 Axes>"
      ]
     },
     "metadata": {},
     "output_type": "display_data"
    }
   ],
   "source": [
    "plt.plot(x_A)\n",
    "plt.show()"
   ]
  },
  {
   "cell_type": "code",
   "execution_count": 89,
   "metadata": {},
   "outputs": [
    {
     "data": {
      "text/html": [
       "<div>\n",
       "<style scoped>\n",
       "    .dataframe tbody tr th:only-of-type {\n",
       "        vertical-align: middle;\n",
       "    }\n",
       "\n",
       "    .dataframe tbody tr th {\n",
       "        vertical-align: top;\n",
       "    }\n",
       "\n",
       "    .dataframe thead th {\n",
       "        text-align: right;\n",
       "    }\n",
       "</style>\n",
       "<table border=\"1\" class=\"dataframe\">\n",
       "  <thead>\n",
       "    <tr style=\"text-align: right;\">\n",
       "      <th></th>\n",
       "      <th>DATE</th>\n",
       "      <th>TIME_M</th>\n",
       "      <th>EX</th>\n",
       "      <th>SYM_ROOT</th>\n",
       "      <th>SYM_SUFFIX</th>\n",
       "      <th>TR_SCOND</th>\n",
       "      <th>SIZE</th>\n",
       "      <th>PRICE</th>\n",
       "      <th>TR_CORR</th>\n",
       "      <th>TR_SEQNUM</th>\n",
       "      <th>TR_SOURCE</th>\n",
       "      <th>TR_RF</th>\n",
       "    </tr>\n",
       "  </thead>\n",
       "  <tbody>\n",
       "    <tr>\n",
       "      <th>0</th>\n",
       "      <td>20181101</td>\n",
       "      <td>9:30:01.003621000</td>\n",
       "      <td>N</td>\n",
       "      <td>A</td>\n",
       "      <td>NaN</td>\n",
       "      <td>O</td>\n",
       "      <td>20075</td>\n",
       "      <td>65.070</td>\n",
       "      <td>0</td>\n",
       "      <td>466501</td>\n",
       "      <td>C</td>\n",
       "      <td>NaN</td>\n",
       "    </tr>\n",
       "    <tr>\n",
       "      <th>1</th>\n",
       "      <td>20181101</td>\n",
       "      <td>9:30:01.446887000</td>\n",
       "      <td>D</td>\n",
       "      <td>A</td>\n",
       "      <td>NaN</td>\n",
       "      <td>NaN</td>\n",
       "      <td>526</td>\n",
       "      <td>65.115</td>\n",
       "      <td>0</td>\n",
       "      <td>482901</td>\n",
       "      <td>C</td>\n",
       "      <td>T</td>\n",
       "    </tr>\n",
       "    <tr>\n",
       "      <th>2</th>\n",
       "      <td>20181101</td>\n",
       "      <td>9:30:01.447739000</td>\n",
       "      <td>D</td>\n",
       "      <td>A</td>\n",
       "      <td>NaN</td>\n",
       "      <td>NaN</td>\n",
       "      <td>600</td>\n",
       "      <td>65.115</td>\n",
       "      <td>0</td>\n",
       "      <td>483001</td>\n",
       "      <td>C</td>\n",
       "      <td>T</td>\n",
       "    </tr>\n",
       "    <tr>\n",
       "      <th>3</th>\n",
       "      <td>20181101</td>\n",
       "      <td>9:30:01.450569000</td>\n",
       "      <td>X</td>\n",
       "      <td>A</td>\n",
       "      <td>NaN</td>\n",
       "      <td>I</td>\n",
       "      <td>43</td>\n",
       "      <td>65.460</td>\n",
       "      <td>0</td>\n",
       "      <td>483101</td>\n",
       "      <td>C</td>\n",
       "      <td>NaN</td>\n",
       "    </tr>\n",
       "    <tr>\n",
       "      <th>4</th>\n",
       "      <td>20181101</td>\n",
       "      <td>9:30:01.453111000</td>\n",
       "      <td>X</td>\n",
       "      <td>A</td>\n",
       "      <td>NaN</td>\n",
       "      <td>I</td>\n",
       "      <td>34</td>\n",
       "      <td>65.460</td>\n",
       "      <td>0</td>\n",
       "      <td>483201</td>\n",
       "      <td>C</td>\n",
       "      <td>NaN</td>\n",
       "    </tr>\n",
       "    <tr>\n",
       "      <th>5</th>\n",
       "      <td>20181101</td>\n",
       "      <td>9:30:02.922104000</td>\n",
       "      <td>Y</td>\n",
       "      <td>A</td>\n",
       "      <td>NaN</td>\n",
       "      <td>F I</td>\n",
       "      <td>3</td>\n",
       "      <td>65.000</td>\n",
       "      <td>0</td>\n",
       "      <td>508801</td>\n",
       "      <td>C</td>\n",
       "      <td>NaN</td>\n",
       "    </tr>\n",
       "    <tr>\n",
       "      <th>6</th>\n",
       "      <td>20181101</td>\n",
       "      <td>9:30:02.926559000</td>\n",
       "      <td>Y</td>\n",
       "      <td>A</td>\n",
       "      <td>NaN</td>\n",
       "      <td>F I</td>\n",
       "      <td>4</td>\n",
       "      <td>65.000</td>\n",
       "      <td>0</td>\n",
       "      <td>508901</td>\n",
       "      <td>C</td>\n",
       "      <td>NaN</td>\n",
       "    </tr>\n",
       "    <tr>\n",
       "      <th>7</th>\n",
       "      <td>20181101</td>\n",
       "      <td>9:30:02.961304000</td>\n",
       "      <td>Y</td>\n",
       "      <td>A</td>\n",
       "      <td>NaN</td>\n",
       "      <td>F I</td>\n",
       "      <td>17</td>\n",
       "      <td>65.000</td>\n",
       "      <td>0</td>\n",
       "      <td>510701</td>\n",
       "      <td>C</td>\n",
       "      <td>NaN</td>\n",
       "    </tr>\n",
       "    <tr>\n",
       "      <th>8</th>\n",
       "      <td>20181101</td>\n",
       "      <td>9:30:03.684904000</td>\n",
       "      <td>V</td>\n",
       "      <td>A</td>\n",
       "      <td>NaN</td>\n",
       "      <td>NaN</td>\n",
       "      <td>300</td>\n",
       "      <td>65.130</td>\n",
       "      <td>0</td>\n",
       "      <td>531901</td>\n",
       "      <td>C</td>\n",
       "      <td>NaN</td>\n",
       "    </tr>\n",
       "    <tr>\n",
       "      <th>9</th>\n",
       "      <td>20181101</td>\n",
       "      <td>9:30:03.983407000</td>\n",
       "      <td>N</td>\n",
       "      <td>A</td>\n",
       "      <td>NaN</td>\n",
       "      <td>NaN</td>\n",
       "      <td>100</td>\n",
       "      <td>65.200</td>\n",
       "      <td>0</td>\n",
       "      <td>533201</td>\n",
       "      <td>C</td>\n",
       "      <td>NaN</td>\n",
       "    </tr>\n",
       "  </tbody>\n",
       "</table>\n",
       "</div>"
      ],
      "text/plain": [
       "       DATE             TIME_M EX SYM_ROOT  SYM_SUFFIX TR_SCOND   SIZE  \\\n",
       "0  20181101  9:30:01.003621000  N        A         NaN        O  20075   \n",
       "1  20181101  9:30:01.446887000  D        A         NaN      NaN    526   \n",
       "2  20181101  9:30:01.447739000  D        A         NaN      NaN    600   \n",
       "3  20181101  9:30:01.450569000  X        A         NaN        I     43   \n",
       "4  20181101  9:30:01.453111000  X        A         NaN        I     34   \n",
       "5  20181101  9:30:02.922104000  Y        A         NaN      F I      3   \n",
       "6  20181101  9:30:02.926559000  Y        A         NaN      F I      4   \n",
       "7  20181101  9:30:02.961304000  Y        A         NaN      F I     17   \n",
       "8  20181101  9:30:03.684904000  V        A         NaN      NaN    300   \n",
       "9  20181101  9:30:03.983407000  N        A         NaN      NaN    100   \n",
       "\n",
       "    PRICE  TR_CORR  TR_SEQNUM TR_SOURCE TR_RF  \n",
       "0  65.070        0     466501         C   NaN  \n",
       "1  65.115        0     482901         C     T  \n",
       "2  65.115        0     483001         C     T  \n",
       "3  65.460        0     483101         C   NaN  \n",
       "4  65.460        0     483201         C   NaN  \n",
       "5  65.000        0     508801         C   NaN  \n",
       "6  65.000        0     508901         C   NaN  \n",
       "7  65.000        0     510701         C   NaN  \n",
       "8  65.130        0     531901         C   NaN  \n",
       "9  65.200        0     533201         C   NaN  "
      ]
     },
     "execution_count": 89,
     "metadata": {},
     "output_type": "execute_result"
    }
   ],
   "source": [
    "df = pd.read_csv(\"11.1_A.csv\") \n",
    "df.head(10)"
   ]
  },
  {
   "cell_type": "code",
   "execution_count": 90,
   "metadata": {},
   "outputs": [],
   "source": [
    "T1 = []\n",
    "volume=[]\n",
    "for i in range(len(df[\"TIME_M\"])):\n",
    "    if T1 == []:\n",
    "        T1.append(df[\"TIME_M\"][i][:5])\n",
    "        volume.append(df[\"SIZE\"][i])\n",
    "    elif df[\"TIME_M\"][i][:5] == T1[-1]:\n",
    "        volume[-1] += df[\"SIZE\"][i]\n",
    "    else:\n",
    "        T1.append(df[\"TIME_M\"][i][:5])\n",
    "        volume.append(df[\"SIZE\"][i])\n"
   ]
  },
  {
   "cell_type": "code",
   "execution_count": 91,
   "metadata": {},
   "outputs": [],
   "source": [
    "vol = []\n",
    "for i in range(0,390,5):\n",
    "        vol.append(np.sum(volume[i:i+5]))"
   ]
  },
  {
   "cell_type": "code",
   "execution_count": 97,
   "metadata": {},
   "outputs": [
    {
     "data": {
      "image/png": "[encoded data removed]",
      "text/plain": [
       "<Figure size 432x288 with 1 Axes>"
      ]
     },
     "metadata": {},
     "output_type": "display_data"
    }
   ],
   "source": [
    "plt.plot(x_A,label='pre')\n",
    "plt.plot(vol,label='true')\n",
    "plt.show()"
   ]
  },
  {
   "cell_type": "code",
   "execution_count": null,
   "metadata": {},
   "outputs": [],
   "source": []
  }
 ],
 "metadata": {
  "kernelspec": {
   "display_name": "Python 3",
   "language": "python",
   "name": "python3"
  },
  "language_info": {
   "codemirror_mode": {
    "name": "ipython",
    "version": 3
   },
   "file_extension": ".py",
   "mimetype": "text/x-python",
   "name": "python",
   "nbconvert_exporter": "python",
   "pygments_lexer": "ipython3",
   "version": "3.6.8"
  }
 },
 "nbformat": 4,
 "nbformat_minor": 2
}
