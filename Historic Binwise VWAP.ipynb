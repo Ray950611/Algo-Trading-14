{
 "cells": [
  {
   "cell_type": "code",
   "execution_count": 1,
   "metadata": {},
   "outputs": [],
   "source": [
    "import pandas as pd\n",
    "import numpy as np"
   ]
  },
  {
   "cell_type": "markdown",
   "metadata": {},
   "source": [
    "Merge the price data the same way as the quote and ask data, while for the size variable we sum over each 10 second period."
   ]
  },
  {
   "cell_type": "code",
   "execution_count": 72,
   "metadata": {},
   "outputs": [],
   "source": [
    "df_t=pd.read_csv('vwap_test_nktr.csv',header=0)\n"
   ]
  },
  {
   "cell_type": "code",
   "execution_count": 73,
   "metadata": {},
   "outputs": [
    {
     "data": {
      "text/html": [
       "<div>\n",
       "<style scoped>\n",
       "    .dataframe tbody tr th:only-of-type {\n",
       "        vertical-align: middle;\n",
       "    }\n",
       "\n",
       "    .dataframe tbody tr th {\n",
       "        vertical-align: top;\n",
       "    }\n",
       "\n",
       "    .dataframe thead th {\n",
       "        text-align: right;\n",
       "    }\n",
       "</style>\n",
       "<table border=\"1\" class=\"dataframe\">\n",
       "  <thead>\n",
       "    <tr style=\"text-align: right;\">\n",
       "      <th></th>\n",
       "      <th>DATE</th>\n",
       "      <th>TIME_M</th>\n",
       "      <th>EX</th>\n",
       "      <th>SYM_ROOT</th>\n",
       "      <th>SYM_SUFFIX</th>\n",
       "      <th>TR_SCOND</th>\n",
       "      <th>SIZE</th>\n",
       "      <th>PRICE</th>\n",
       "      <th>TR_CORR</th>\n",
       "      <th>TR_SEQNUM</th>\n",
       "      <th>TR_SOURCE</th>\n",
       "      <th>TR_RF</th>\n",
       "    </tr>\n",
       "  </thead>\n",
       "  <tbody>\n",
       "    <tr>\n",
       "      <th>0</th>\n",
       "      <td>20181101</td>\n",
       "      <td>9:30:00.831122376</td>\n",
       "      <td>Q</td>\n",
       "      <td>NKTR</td>\n",
       "      <td>NaN</td>\n",
       "      <td>@O X</td>\n",
       "      <td>12487</td>\n",
       "      <td>38.750</td>\n",
       "      <td>0</td>\n",
       "      <td>15438</td>\n",
       "      <td>N</td>\n",
       "      <td>NaN</td>\n",
       "    </tr>\n",
       "    <tr>\n",
       "      <th>1</th>\n",
       "      <td>20181101</td>\n",
       "      <td>9:30:00.831143020</td>\n",
       "      <td>Q</td>\n",
       "      <td>NKTR</td>\n",
       "      <td>NaN</td>\n",
       "      <td>@  Q</td>\n",
       "      <td>12487</td>\n",
       "      <td>38.750</td>\n",
       "      <td>0</td>\n",
       "      <td>15439</td>\n",
       "      <td>N</td>\n",
       "      <td>NaN</td>\n",
       "    </tr>\n",
       "    <tr>\n",
       "      <th>2</th>\n",
       "      <td>20181101</td>\n",
       "      <td>9:30:01.237125655</td>\n",
       "      <td>Q</td>\n",
       "      <td>NKTR</td>\n",
       "      <td>NaN</td>\n",
       "      <td>@F I</td>\n",
       "      <td>5</td>\n",
       "      <td>39.000</td>\n",
       "      <td>0</td>\n",
       "      <td>15737</td>\n",
       "      <td>N</td>\n",
       "      <td>NaN</td>\n",
       "    </tr>\n",
       "    <tr>\n",
       "      <th>3</th>\n",
       "      <td>20181101</td>\n",
       "      <td>9:30:01.246660171</td>\n",
       "      <td>D</td>\n",
       "      <td>NKTR</td>\n",
       "      <td>NaN</td>\n",
       "      <td>@  I</td>\n",
       "      <td>2</td>\n",
       "      <td>39.320</td>\n",
       "      <td>0</td>\n",
       "      <td>15758</td>\n",
       "      <td>N</td>\n",
       "      <td>Q</td>\n",
       "    </tr>\n",
       "    <tr>\n",
       "      <th>4</th>\n",
       "      <td>20181101</td>\n",
       "      <td>9:30:01.905708052</td>\n",
       "      <td>D</td>\n",
       "      <td>NKTR</td>\n",
       "      <td>NaN</td>\n",
       "      <td>@</td>\n",
       "      <td>200</td>\n",
       "      <td>38.725</td>\n",
       "      <td>0</td>\n",
       "      <td>16324</td>\n",
       "      <td>N</td>\n",
       "      <td>Q</td>\n",
       "    </tr>\n",
       "  </tbody>\n",
       "</table>\n",
       "</div>"
      ],
      "text/plain": [
       "       DATE             TIME_M EX SYM_ROOT  SYM_SUFFIX TR_SCOND   SIZE  \\\n",
       "0  20181101  9:30:00.831122376  Q     NKTR         NaN     @O X  12487   \n",
       "1  20181101  9:30:00.831143020  Q     NKTR         NaN     @  Q  12487   \n",
       "2  20181101  9:30:01.237125655  Q     NKTR         NaN     @F I      5   \n",
       "3  20181101  9:30:01.246660171  D     NKTR         NaN     @  I      2   \n",
       "4  20181101  9:30:01.905708052  D     NKTR         NaN        @    200   \n",
       "\n",
       "    PRICE  TR_CORR  TR_SEQNUM TR_SOURCE TR_RF  \n",
       "0  38.750        0      15438         N   NaN  \n",
       "1  38.750        0      15439         N   NaN  \n",
       "2  39.000        0      15737         N   NaN  \n",
       "3  39.320        0      15758         N     Q  \n",
       "4  38.725        0      16324         N     Q  "
      ]
     },
     "execution_count": 73,
     "metadata": {},
     "output_type": "execute_result"
    }
   ],
   "source": [
    "df_t.head(5)"
   ]
  },
  {
   "cell_type": "code",
   "execution_count": 74,
   "metadata": {},
   "outputs": [],
   "source": [
    "D=list(set(df_t['DATE']))"
   ]
  },
  {
   "cell_type": "code",
   "execution_count": 75,
   "metadata": {},
   "outputs": [],
   "source": [
    "\n",
    "St=[]\n",
    "for d in D[:-1]:\n",
    "    s=[]\n",
    "    i=-1\n",
    "    T=[]\n",
    "    df_d=df_t[df_t['DATE']==d]\n",
    "    for j in range(len(df_d['TIME_M'])):\n",
    "        if np.array(df_d['TIME_M'])[j][:-13] not in T:\n",
    "            i+=1\n",
    "            T.append(np.array(df_d['TIME_M'])[j][:-13])\n",
    "           \n",
    "            s.append(np.array(df_d['SIZE'])[j])\n",
    "        else:\n",
    "            s[i]+=np.array(df_d['SIZE'])[j]\n",
    "    St.append(s)\n",
    "    #print(T)"
   ]
  },
  {
   "cell_type": "code",
   "execution_count": 76,
   "metadata": {},
   "outputs": [],
   "source": [
    "St=np.array(St,dtype=float)"
   ]
  },
  {
   "cell_type": "code",
   "execution_count": 77,
   "metadata": {},
   "outputs": [],
   "source": [
    "for i in range(len(St)):\n",
    "    St[i,:]=St[i,:]/float(np.sum(St[i,:]))"
   ]
  },
  {
   "cell_type": "code",
   "execution_count": 78,
   "metadata": {},
   "outputs": [
    {
     "data": {
      "text/plain": [
       "array([0.15705559, 0.03109365, 0.02890033, 0.0301381 , 0.03292131,\n",
       "       0.06300413, 0.03857401, 0.02310825, 0.02591751, 0.04282345,\n",
       "       0.02852976, 0.02826285, 0.0172835 , 0.03185478, 0.04691415,\n",
       "       0.02330111, 0.03648516, 0.02911683, 0.0237377 , 0.03565267,\n",
       "       0.0251849 , 0.02283401, 0.02019382, 0.02232226, 0.02394478,\n",
       "       0.0267878 , 0.02630047, 0.02275722, 0.01703111, 0.01796878])"
      ]
     },
     "execution_count": 78,
     "metadata": {},
     "output_type": "execute_result"
    }
   ],
   "source": [
    "vol_mean=np.mean(St,axis=0)\n",
    "vol_mean"
   ]
  },
  {
   "cell_type": "code",
   "execution_count": 79,
   "metadata": {},
   "outputs": [],
   "source": [
    "df_d=df_t[df_t['DATE']==D[-1]]\n",
    "T=[]\n",
    "s=[]\n",
    "p=[]\n",
    "i=-1\n",
    "for j in range(len(df_d['TIME_M'])):\n",
    "    if np.array(df_d['TIME_M'])[j][:-13] not in T:\n",
    "        i+=1\n",
    "        T.append(np.array(df_d['TIME_M'])[j][:-13])\n",
    "        p.append(np.array(df_d['PRICE'])[j])\n",
    "        s.append(np.array(df_d['SIZE'])[j])\n",
    "    else:\n",
    "        s[i]+=np.array(df_d['SIZE'])[j]"
   ]
  },
  {
   "cell_type": "code",
   "execution_count": 80,
   "metadata": {},
   "outputs": [],
   "source": [
    "s_per=np.array(s)/float(sum(s))"
   ]
  },
  {
   "cell_type": "code",
   "execution_count": 84,
   "metadata": {},
   "outputs": [
    {
     "data": {
      "text/plain": [
       "(array([15705.55947455,  3109.36530422,  1234.        ,  3013.80999801,\n",
       "         3292.13102927,  1501.        ,  3857.4005534 ,  2310.82493492,\n",
       "         2591.75073673,  4282.34528221,  1800.        ,  2826.28547483,\n",
       "         1728.34982288,  3185.47838727,  4691.41459274,  2330.11087066,\n",
       "         3648.51599401,  2911.68292258,  2373.76977447,  3565.26654592,\n",
       "         2518.48977772,  2283.40078953,  2019.382359  ,  2232.22644479,\n",
       "         2394.47778552,  2678.77996468,  2630.04740322,  2275.72223135,\n",
       "         1703.11128825,  9305.30025725]), 0.0, 36.670549392944324)"
      ]
     },
     "execution_count": 84,
     "metadata": {},
     "output_type": "execute_result"
    }
   ],
   "source": [
    "def execution(target_percentage,size,real_volume,real_price):\n",
    "    i=0\n",
    "    VWAP=0\n",
    "    size_=size\n",
    "    history=[]\n",
    "    while size>0:\n",
    "        goal=target_percentage[i]*size_\n",
    "        if i==len(target_percentage)-1:\n",
    "            realized=min(size,real_volume[i])\n",
    "        else:\n",
    "            realized=min(goal,real_volume[i])\n",
    "        realized=min(realized,size)\n",
    "        VWAP+=realized*real_price[i]\n",
    "        history.append(realized)\n",
    "        \n",
    "        i+=1\n",
    "        size-=realized\n",
    "    history=np.array(history)\n",
    "    return history,size,VWAP/float(np.sum(history))\n",
    "def benchmark(size,real_volume,real_price):\n",
    "    history=np.array(real_volume)*size/float(sum(real_volume))\n",
    "    VWAP=np.sum(history*np.array(real_price))\n",
    "    return history,VWAP/float(np.sum(history))\n",
    "execution(vol_mean,100000,s,p)"
   ]
  },
  {
   "cell_type": "code",
   "execution_count": 85,
   "metadata": {},
   "outputs": [
    {
     "data": {
      "text/plain": [
       "(array([7901.1908973 , 1110.42329914,  363.75427426, 3001.12015093,\n",
       "        2078.4695201 ,  442.45961561, 2718.13465393, 7829.85496993,\n",
       "        1105.70687419, 5139.42931258,  530.59780686, 2305.15269426,\n",
       "        7441.04468813, 2757.33993633, 7183.11519868, 2969.28428251,\n",
       "        3015.56420233, 4058.18889282, 1973.23428841, 3211.0010612 ,\n",
       "        1468.28204221, 3921.41256927, 1890.40207523,  792.9489447 ,\n",
       "        1649.56962622, 1340.64379201, 1036.13960618, 8813.8191251 ,\n",
       "        2786.52281571, 9165.19278387]), 36.59534102493809)"
      ]
     },
     "execution_count": 85,
     "metadata": {},
     "output_type": "execute_result"
    }
   ],
   "source": [
    "benchmark(100000,s,p)"
   ]
  },
  {
   "cell_type": "code",
   "execution_count": null,
   "metadata": {},
   "outputs": [],
   "source": []
  }
 ],
 "metadata": {
  "kernelspec": {
   "display_name": "Python 3",
   "language": "python",
   "name": "python3"
  },
  "language_info": {
   "codemirror_mode": {
    "name": "ipython",
    "version": 3
   },
   "file_extension": ".py",
   "mimetype": "text/x-python",
   "name": "python",
   "nbconvert_exporter": "python",
   "pygments_lexer": "ipython3",
   "version": "3.6.2"
  }
 },
 "nbformat": 4,
 "nbformat_minor": 2
}
